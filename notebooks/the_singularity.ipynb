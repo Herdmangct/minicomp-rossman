{
 "cells": [
  {
   "cell_type": "markdown",
   "id": "01d244ea",
   "metadata": {},
   "source": [
    "# The Singularity"
   ]
  },
  {
   "cell_type": "code",
   "execution_count": null,
   "id": "46dfe514",
   "metadata": {},
   "outputs": [],
   "source": []
  },
  {
   "cell_type": "markdown",
   "id": "c6680bcb",
   "metadata": {},
   "source": [
    "## 1) Create the Hypothesis"
   ]
  },
  {
   "cell_type": "code",
   "execution_count": null,
   "id": "b7cdd89f",
   "metadata": {},
   "outputs": [],
   "source": []
  },
  {
   "cell_type": "markdown",
   "id": "b9f6197e",
   "metadata": {},
   "source": [
    "## 2) Exploratory Data Analysis"
   ]
  },
  {
   "cell_type": "code",
   "execution_count": null,
   "id": "2c55855f",
   "metadata": {},
   "outputs": [],
   "source": []
  },
  {
   "cell_type": "markdown",
   "id": "0ef68b53",
   "metadata": {},
   "source": [
    "### 2.1) Import libraries"
   ]
  },
  {
   "cell_type": "code",
   "execution_count": 2,
   "id": "04b435df",
   "metadata": {},
   "outputs": [],
   "source": [
    "import pandas as pd\n",
    "import matplotlib.pyplot as plt\n",
    "import seaborn as sns\n",
    "import numpy as np\n",
    "%matplotlib inline"
   ]
  },
  {
   "cell_type": "markdown",
   "id": "ec28f2be",
   "metadata": {},
   "source": [
    "### 2.2) Locate and Access Data"
   ]
  },
  {
   "cell_type": "code",
   "execution_count": 3,
   "id": "ca9f6a23",
   "metadata": {},
   "outputs": [],
   "source": [
    "# Read in store data\n",
    "df_store = pd.read_csv('./data/store.csv', low_memory=False)\n",
    "\n",
    "# Read in store data\n",
    "df_train = pd.read_csv('./data/train.csv', low_memory=False)"
   ]
  },
  {
   "cell_type": "code",
   "execution_count": null,
   "id": "a22bb93d",
   "metadata": {},
   "outputs": [],
   "source": []
  },
  {
   "cell_type": "code",
   "execution_count": 4,
   "id": "8d83325f",
   "metadata": {},
   "outputs": [
    {
     "data": {
      "text/html": [
       "<div>\n",
       "<style scoped>\n",
       "    .dataframe tbody tr th:only-of-type {\n",
       "        vertical-align: middle;\n",
       "    }\n",
       "\n",
       "    .dataframe tbody tr th {\n",
       "        vertical-align: top;\n",
       "    }\n",
       "\n",
       "    .dataframe thead th {\n",
       "        text-align: right;\n",
       "    }\n",
       "</style>\n",
       "<table border=\"1\" class=\"dataframe\">\n",
       "  <thead>\n",
       "    <tr style=\"text-align: right;\">\n",
       "      <th></th>\n",
       "      <th>Store</th>\n",
       "      <th>StoreType</th>\n",
       "      <th>Assortment</th>\n",
       "      <th>CompetitionDistance</th>\n",
       "      <th>CompetitionOpenSinceMonth</th>\n",
       "      <th>CompetitionOpenSinceYear</th>\n",
       "      <th>Promo2</th>\n",
       "      <th>Promo2SinceWeek</th>\n",
       "      <th>Promo2SinceYear</th>\n",
       "      <th>PromoInterval</th>\n",
       "    </tr>\n",
       "  </thead>\n",
       "  <tbody>\n",
       "    <tr>\n",
       "      <th>0</th>\n",
       "      <td>1</td>\n",
       "      <td>c</td>\n",
       "      <td>a</td>\n",
       "      <td>1270.0</td>\n",
       "      <td>9.0</td>\n",
       "      <td>2008.0</td>\n",
       "      <td>0</td>\n",
       "      <td>NaN</td>\n",
       "      <td>NaN</td>\n",
       "      <td>NaN</td>\n",
       "    </tr>\n",
       "    <tr>\n",
       "      <th>1</th>\n",
       "      <td>2</td>\n",
       "      <td>a</td>\n",
       "      <td>a</td>\n",
       "      <td>570.0</td>\n",
       "      <td>11.0</td>\n",
       "      <td>2007.0</td>\n",
       "      <td>1</td>\n",
       "      <td>13.0</td>\n",
       "      <td>2010.0</td>\n",
       "      <td>Jan,Apr,Jul,Oct</td>\n",
       "    </tr>\n",
       "    <tr>\n",
       "      <th>2</th>\n",
       "      <td>3</td>\n",
       "      <td>a</td>\n",
       "      <td>a</td>\n",
       "      <td>14130.0</td>\n",
       "      <td>12.0</td>\n",
       "      <td>2006.0</td>\n",
       "      <td>1</td>\n",
       "      <td>14.0</td>\n",
       "      <td>2011.0</td>\n",
       "      <td>Jan,Apr,Jul,Oct</td>\n",
       "    </tr>\n",
       "    <tr>\n",
       "      <th>3</th>\n",
       "      <td>4</td>\n",
       "      <td>c</td>\n",
       "      <td>c</td>\n",
       "      <td>620.0</td>\n",
       "      <td>9.0</td>\n",
       "      <td>2009.0</td>\n",
       "      <td>0</td>\n",
       "      <td>NaN</td>\n",
       "      <td>NaN</td>\n",
       "      <td>NaN</td>\n",
       "    </tr>\n",
       "    <tr>\n",
       "      <th>4</th>\n",
       "      <td>5</td>\n",
       "      <td>a</td>\n",
       "      <td>a</td>\n",
       "      <td>29910.0</td>\n",
       "      <td>4.0</td>\n",
       "      <td>2015.0</td>\n",
       "      <td>0</td>\n",
       "      <td>NaN</td>\n",
       "      <td>NaN</td>\n",
       "      <td>NaN</td>\n",
       "    </tr>\n",
       "  </tbody>\n",
       "</table>\n",
       "</div>"
      ],
      "text/plain": [
       "   Store StoreType Assortment  CompetitionDistance  CompetitionOpenSinceMonth  \\\n",
       "0      1         c          a               1270.0                        9.0   \n",
       "1      2         a          a                570.0                       11.0   \n",
       "2      3         a          a              14130.0                       12.0   \n",
       "3      4         c          c                620.0                        9.0   \n",
       "4      5         a          a              29910.0                        4.0   \n",
       "\n",
       "   CompetitionOpenSinceYear  Promo2  Promo2SinceWeek  Promo2SinceYear  \\\n",
       "0                    2008.0       0              NaN              NaN   \n",
       "1                    2007.0       1             13.0           2010.0   \n",
       "2                    2006.0       1             14.0           2011.0   \n",
       "3                    2009.0       0              NaN              NaN   \n",
       "4                    2015.0       0              NaN              NaN   \n",
       "\n",
       "     PromoInterval  \n",
       "0              NaN  \n",
       "1  Jan,Apr,Jul,Oct  \n",
       "2  Jan,Apr,Jul,Oct  \n",
       "3              NaN  \n",
       "4              NaN  "
      ]
     },
     "execution_count": 4,
     "metadata": {},
     "output_type": "execute_result"
    }
   ],
   "source": [
    "df_store.head()"
   ]
  },
  {
   "cell_type": "code",
   "execution_count": null,
   "id": "145f1e49",
   "metadata": {},
   "outputs": [],
   "source": []
  },
  {
   "cell_type": "markdown",
   "id": "7307760b",
   "metadata": {},
   "source": [
    "### 2.3) Subset to Time Period"
   ]
  },
  {
   "cell_type": "code",
   "execution_count": null,
   "id": "30e46bf8",
   "metadata": {},
   "outputs": [],
   "source": []
  },
  {
   "cell_type": "markdown",
   "id": "afc34c15",
   "metadata": {},
   "source": [
    "### 2.4) Explore Data - Graphs and Correlations"
   ]
  },
  {
   "cell_type": "code",
   "execution_count": null,
   "id": "d99f9aa9",
   "metadata": {},
   "outputs": [],
   "source": []
  },
  {
   "cell_type": "markdown",
   "id": "3452a54f",
   "metadata": {},
   "source": [
    "## 3) Clean Data"
   ]
  },
  {
   "cell_type": "code",
   "execution_count": null,
   "id": "5617a43d",
   "metadata": {},
   "outputs": [],
   "source": []
  },
  {
   "cell_type": "markdown",
   "id": "120fd29b",
   "metadata": {},
   "source": [
    "### 3.1) Cut Features with too many missing values"
   ]
  },
  {
   "cell_type": "code",
   "execution_count": null,
   "id": "6e8edc1d",
   "metadata": {},
   "outputs": [],
   "source": []
  },
  {
   "cell_type": "markdown",
   "id": "ba7ba0ae",
   "metadata": {},
   "source": [
    "### 3.2) Clean Numeric data"
   ]
  },
  {
   "cell_type": "code",
   "execution_count": null,
   "id": "56129fb4",
   "metadata": {},
   "outputs": [],
   "source": []
  },
  {
   "cell_type": "markdown",
   "id": "395f18da",
   "metadata": {},
   "source": [
    "### 3.3) Clean Categorical Data"
   ]
  },
  {
   "cell_type": "code",
   "execution_count": null,
   "id": "e6605a35",
   "metadata": {},
   "outputs": [],
   "source": []
  },
  {
   "cell_type": "markdown",
   "id": "aa71f54f",
   "metadata": {},
   "source": [
    "### 3.4) Clean Ordinal Data"
   ]
  },
  {
   "cell_type": "code",
   "execution_count": null,
   "id": "47c68454",
   "metadata": {},
   "outputs": [],
   "source": []
  },
  {
   "cell_type": "markdown",
   "id": "c3d420ce",
   "metadata": {},
   "source": [
    "### 3.5) Drop Superfluous Columns"
   ]
  },
  {
   "cell_type": "code",
   "execution_count": null,
   "id": "808e1b77",
   "metadata": {},
   "outputs": [],
   "source": []
  },
  {
   "cell_type": "markdown",
   "id": "1b76f837",
   "metadata": {},
   "source": [
    "### 3.6) Remove Highly Correlated Variables"
   ]
  },
  {
   "cell_type": "code",
   "execution_count": null,
   "id": "b73ba6d2",
   "metadata": {},
   "outputs": [],
   "source": []
  },
  {
   "cell_type": "markdown",
   "id": "f6adf7d1",
   "metadata": {},
   "source": [
    "## 4) Balance Positive and Negative Distribution"
   ]
  },
  {
   "cell_type": "code",
   "execution_count": null,
   "id": "b4cde85f",
   "metadata": {},
   "outputs": [],
   "source": []
  },
  {
   "cell_type": "markdown",
   "id": "99751017",
   "metadata": {},
   "source": [
    "## 5) Train, Test, Split"
   ]
  },
  {
   "cell_type": "code",
   "execution_count": null,
   "id": "19d03551",
   "metadata": {},
   "outputs": [],
   "source": []
  },
  {
   "cell_type": "markdown",
   "id": "ac04618b",
   "metadata": {},
   "source": [
    "## 6) Select Model Features"
   ]
  },
  {
   "cell_type": "code",
   "execution_count": null,
   "id": "16f38cb9",
   "metadata": {},
   "outputs": [],
   "source": []
  },
  {
   "cell_type": "markdown",
   "id": "bb1406ad",
   "metadata": {},
   "source": [
    "## 7) Normalise and Scale"
   ]
  },
  {
   "cell_type": "code",
   "execution_count": null,
   "id": "19c2b1d4",
   "metadata": {},
   "outputs": [],
   "source": []
  },
  {
   "cell_type": "code",
   "execution_count": null,
   "id": "694d8f10",
   "metadata": {},
   "outputs": [],
   "source": []
  },
  {
   "cell_type": "markdown",
   "id": "eec399b9",
   "metadata": {},
   "source": [
    "***"
   ]
  },
  {
   "cell_type": "markdown",
   "id": "81011b41",
   "metadata": {},
   "source": [
    "Data should be model ready by now"
   ]
  },
  {
   "cell_type": "markdown",
   "id": "7eea6e23",
   "metadata": {},
   "source": [
    "***"
   ]
  },
  {
   "cell_type": "markdown",
   "id": "6fecc43f",
   "metadata": {},
   "source": [
    "## 8) Kfolds Cross Validation "
   ]
  },
  {
   "cell_type": "code",
   "execution_count": null,
   "id": "ad552d0f",
   "metadata": {},
   "outputs": [],
   "source": []
  },
  {
   "cell_type": "markdown",
   "id": "6da5bbd9",
   "metadata": {},
   "source": [
    "## 9) Build Models"
   ]
  },
  {
   "cell_type": "markdown",
   "id": "443e080d",
   "metadata": {},
   "source": []
  },
  {
   "cell_type": "markdown",
   "id": "3e2fe50f",
   "metadata": {},
   "source": [
    "### 9.1) Baseline - Mean and Median of Sales"
   ]
  },
  {
   "cell_type": "markdown",
   "id": "ccc57c70",
   "metadata": {},
   "source": []
  },
  {
   "cell_type": "markdown",
   "id": "1e2cbe10",
   "metadata": {},
   "source": [
    "### 9.2) Linear Regression"
   ]
  },
  {
   "cell_type": "code",
   "execution_count": null,
   "id": "ac1de7a3",
   "metadata": {},
   "outputs": [],
   "source": []
  },
  {
   "cell_type": "markdown",
   "id": "3c868bfd",
   "metadata": {},
   "source": [
    "### 9.3) Random Forest "
   ]
  },
  {
   "cell_type": "code",
   "execution_count": null,
   "id": "0b1a3e9b",
   "metadata": {},
   "outputs": [],
   "source": []
  },
  {
   "cell_type": "markdown",
   "id": "4ef2239f",
   "metadata": {},
   "source": [
    "#### 9.3.1) What Features did Random Forest use?"
   ]
  },
  {
   "cell_type": "code",
   "execution_count": null,
   "id": "b8ecc62c",
   "metadata": {},
   "outputs": [],
   "source": []
  },
  {
   "cell_type": "markdown",
   "id": "21d56b2f",
   "metadata": {},
   "source": [
    "### 9.4) Xgboost "
   ]
  },
  {
   "cell_type": "code",
   "execution_count": null,
   "id": "cff3053b",
   "metadata": {},
   "outputs": [],
   "source": []
  },
  {
   "cell_type": "markdown",
   "id": "44887b97",
   "metadata": {},
   "source": [
    "#### 9.4.1) What Features did Xgboost use?"
   ]
  },
  {
   "cell_type": "code",
   "execution_count": null,
   "id": "2b0bb441",
   "metadata": {},
   "outputs": [],
   "source": []
  },
  {
   "cell_type": "markdown",
   "id": "16416e18",
   "metadata": {},
   "source": [
    "### 9.5) Facebook Prophet "
   ]
  },
  {
   "cell_type": "code",
   "execution_count": null,
   "id": "dd4d98df",
   "metadata": {},
   "outputs": [],
   "source": []
  },
  {
   "cell_type": "code",
   "execution_count": null,
   "id": "0895539b",
   "metadata": {},
   "outputs": [],
   "source": []
  },
  {
   "cell_type": "markdown",
   "id": "86ba86fb",
   "metadata": {},
   "source": [
    "## 10) Hyper parameter tuning "
   ]
  },
  {
   "cell_type": "code",
   "execution_count": null,
   "id": "85d1e6c8",
   "metadata": {},
   "outputs": [],
   "source": []
  },
  {
   "cell_type": "markdown",
   "id": "e2b59f5e",
   "metadata": {},
   "source": [
    "### 10.1) Random Hyperparameter Grid"
   ]
  },
  {
   "cell_type": "code",
   "execution_count": 1,
   "id": "f79db5d7",
   "metadata": {},
   "outputs": [],
   "source": [
    "from sklearn.model_selection import RandomizedSearchCV"
   ]
  },
  {
   "cell_type": "code",
   "execution_count": null,
   "id": "6c2ccc54",
   "metadata": {},
   "outputs": [],
   "source": []
  }
 ],
 "metadata": {
  "kernelspec": {
   "display_name": "Python 3",
   "language": "python",
   "name": "python3"
  },
  "language_info": {
   "codemirror_mode": {
    "name": "ipython",
    "version": 3
   },
   "file_extension": ".py",
   "mimetype": "text/x-python",
   "name": "python",
   "nbconvert_exporter": "python",
   "pygments_lexer": "ipython3",
   "version": "3.8.8"
  }
 },
 "nbformat": 4,
 "nbformat_minor": 5
}

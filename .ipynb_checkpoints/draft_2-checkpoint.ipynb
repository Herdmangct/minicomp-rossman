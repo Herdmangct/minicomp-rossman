{
 "cells": [
  {
   "cell_type": "markdown",
   "id": "669d9e9d",
   "metadata": {},
   "source": [
    "#### Helper methods"
   ]
  },
  {
   "cell_type": "code",
   "execution_count": 35,
   "id": "4be52687",
   "metadata": {},
   "outputs": [],
   "source": [
    "def print_percentage_of_original_data(current_data):\n",
    "    original_data_rows = 618473\n",
    "    percentage_of_original_data = round((current_data.shape[0] / original_data_rows) * 100, 2)\n",
    "    print(f\"Percentage of original data is {percentage_of_original_data}%\")"
   ]
  },
  {
   "cell_type": "markdown",
   "id": "01d244ea",
   "metadata": {},
   "source": [
    "# The Singularity"
   ]
  },
  {
   "cell_type": "code",
   "execution_count": null,
   "id": "46dfe514",
   "metadata": {},
   "outputs": [],
   "source": [
    "# Notes\n",
    "# Only Use mean for number of customers i.e. do not use features you don't know ahead of time\n",
    "# comment the code \n",
    "# Drop all columns with sales = o or sales = null"
   ]
  },
  {
   "cell_type": "markdown",
   "id": "b730f7ad",
   "metadata": {},
   "source": [
    "**Things to do differently on second iteration**\n",
    "Accounted For\n",
    "1. <font color='red'>Maybe merge the datasets before cleaning them</font>\n",
    "\n",
    "Still to go\n",
    "1. Maybe keep Sales = 0 \n",
    "- - Because sales might be 0 on holidays therefore we might need this information to predict holidays accurately\n",
    "2. For Train We want to investigate further into which rows should be dropped and don't just drop all the null values\n",
    "3. Keep non-numeric columns and find a way to encode them\n",
    "4. How to impute customer number\n",
    "- - Currentlt using the mean for each store\n",
    "5. Remove CompetitionOpenSinceMonth, CompetitionOpenSinceYear - Reasoning: we think the information contained here is already encoded in the CompetitionDistance."
   ]
  },
  {
   "cell_type": "markdown",
   "id": "c6680bcb",
   "metadata": {},
   "source": [
    "## 1) Create the Hypothesis"
   ]
  },
  {
   "cell_type": "code",
   "execution_count": null,
   "id": "b7cdd89f",
   "metadata": {},
   "outputs": [],
   "source": [
    "# N/A"
   ]
  },
  {
   "cell_type": "markdown",
   "id": "b9f6197e",
   "metadata": {},
   "source": [
    "## 2) Exploratory Data Analysis"
   ]
  },
  {
   "cell_type": "markdown",
   "id": "0ef68b53",
   "metadata": {},
   "source": [
    "### 2.1) Import libraries"
   ]
  },
  {
   "cell_type": "code",
   "execution_count": 106,
   "id": "04b435df",
   "metadata": {},
   "outputs": [],
   "source": [
    "# Basic\n",
    "import pandas as pd\n",
    "import matplotlib.pyplot as plt\n",
    "import seaborn as sns\n",
    "import numpy as np\n",
    "%matplotlib inline"
   ]
  },
  {
   "cell_type": "code",
   "execution_count": 107,
   "id": "c19f8408",
   "metadata": {},
   "outputs": [],
   "source": [
    "# Advanced \n",
    "from sklearn.model_selection import train_test_split\n",
    "from sklearn.linear_model import LinearRegression\n",
    "from sklearn.ensemble import RandomForestRegressor"
   ]
  },
  {
   "cell_type": "code",
   "execution_count": 108,
   "id": "d71fca01",
   "metadata": {},
   "outputs": [],
   "source": [
    "# Super advanced \n",
    "from xgboost import XGBRegressor"
   ]
  },
  {
   "cell_type": "markdown",
   "id": "ec28f2be",
   "metadata": {},
   "source": [
    "### 2.2) Locate and Access Data"
   ]
  },
  {
   "cell_type": "code",
   "execution_count": 109,
   "id": "ca9f6a23",
   "metadata": {},
   "outputs": [],
   "source": [
    "# Read in store data\n",
    "df_store = pd.read_csv('./data/store.csv', low_memory=False)\n",
    "\n",
    "# Read in store data\n",
    "df_train = pd.read_csv('./data/train.csv', low_memory=False)"
   ]
  },
  {
   "cell_type": "markdown",
   "id": "98e20aa9",
   "metadata": {},
   "source": [
    "#### 2.2.1) Merge the datasets - Remove nans in sales"
   ]
  },
  {
   "cell_type": "markdown",
   "id": "a69b5f98",
   "metadata": {},
   "source": [
    "**Remove the nulls in the store column**"
   ]
  },
  {
   "cell_type": "code",
   "execution_count": 110,
   "id": "f487407d",
   "metadata": {},
   "outputs": [],
   "source": [
    "# Store - drop the nulls because we can't impute this \n",
    "df_train_cleaned = df_train.loc[df_train.loc[:, 'Store'].notnull()]"
   ]
  },
  {
   "cell_type": "markdown",
   "id": "00c2dc52",
   "metadata": {},
   "source": [
    "**Merge the datasets**"
   ]
  },
  {
   "cell_type": "code",
   "execution_count": 111,
   "id": "af069d58",
   "metadata": {},
   "outputs": [],
   "source": [
    "# Merge the datasets\n",
    "df_full = pd.merge(df_train_cleaned, df_store, on=[\"Store\"])"
   ]
  },
  {
   "cell_type": "code",
   "execution_count": 112,
   "id": "9616ae78",
   "metadata": {},
   "outputs": [
    {
     "data": {
      "text/html": [
       "<div>\n",
       "<style scoped>\n",
       "    .dataframe tbody tr th:only-of-type {\n",
       "        vertical-align: middle;\n",
       "    }\n",
       "\n",
       "    .dataframe tbody tr th {\n",
       "        vertical-align: top;\n",
       "    }\n",
       "\n",
       "    .dataframe thead th {\n",
       "        text-align: right;\n",
       "    }\n",
       "</style>\n",
       "<table border=\"1\" class=\"dataframe\">\n",
       "  <thead>\n",
       "    <tr style=\"text-align: right;\">\n",
       "      <th></th>\n",
       "      <th>Date</th>\n",
       "      <th>Store</th>\n",
       "      <th>DayOfWeek</th>\n",
       "      <th>Sales</th>\n",
       "      <th>Customers</th>\n",
       "      <th>Open</th>\n",
       "      <th>Promo</th>\n",
       "      <th>StateHoliday</th>\n",
       "      <th>SchoolHoliday</th>\n",
       "      <th>StoreType</th>\n",
       "      <th>Assortment</th>\n",
       "      <th>CompetitionDistance</th>\n",
       "      <th>CompetitionOpenSinceMonth</th>\n",
       "      <th>CompetitionOpenSinceYear</th>\n",
       "      <th>Promo2</th>\n",
       "      <th>Promo2SinceWeek</th>\n",
       "      <th>Promo2SinceYear</th>\n",
       "      <th>PromoInterval</th>\n",
       "    </tr>\n",
       "  </thead>\n",
       "  <tbody>\n",
       "    <tr>\n",
       "      <th>0</th>\n",
       "      <td>2013-01-01</td>\n",
       "      <td>1115.0</td>\n",
       "      <td>2.0</td>\n",
       "      <td>0.0</td>\n",
       "      <td>0.0</td>\n",
       "      <td>0.0</td>\n",
       "      <td>0.0</td>\n",
       "      <td>a</td>\n",
       "      <td>1.0</td>\n",
       "      <td>d</td>\n",
       "      <td>c</td>\n",
       "      <td>5350.0</td>\n",
       "      <td>NaN</td>\n",
       "      <td>NaN</td>\n",
       "      <td>1</td>\n",
       "      <td>22.0</td>\n",
       "      <td>2012.0</td>\n",
       "      <td>Mar,Jun,Sept,Dec</td>\n",
       "    </tr>\n",
       "    <tr>\n",
       "      <th>1</th>\n",
       "      <td>2013-01-02</td>\n",
       "      <td>1115.0</td>\n",
       "      <td>3.0</td>\n",
       "      <td>3697.0</td>\n",
       "      <td>305.0</td>\n",
       "      <td>1.0</td>\n",
       "      <td>0.0</td>\n",
       "      <td>0</td>\n",
       "      <td>1.0</td>\n",
       "      <td>d</td>\n",
       "      <td>c</td>\n",
       "      <td>5350.0</td>\n",
       "      <td>NaN</td>\n",
       "      <td>NaN</td>\n",
       "      <td>1</td>\n",
       "      <td>22.0</td>\n",
       "      <td>2012.0</td>\n",
       "      <td>Mar,Jun,Sept,Dec</td>\n",
       "    </tr>\n",
       "    <tr>\n",
       "      <th>2</th>\n",
       "      <td>2013-01-03</td>\n",
       "      <td>1115.0</td>\n",
       "      <td>4.0</td>\n",
       "      <td>4297.0</td>\n",
       "      <td>300.0</td>\n",
       "      <td>1.0</td>\n",
       "      <td>0.0</td>\n",
       "      <td>0</td>\n",
       "      <td>1.0</td>\n",
       "      <td>d</td>\n",
       "      <td>c</td>\n",
       "      <td>5350.0</td>\n",
       "      <td>NaN</td>\n",
       "      <td>NaN</td>\n",
       "      <td>1</td>\n",
       "      <td>22.0</td>\n",
       "      <td>2012.0</td>\n",
       "      <td>Mar,Jun,Sept,Dec</td>\n",
       "    </tr>\n",
       "    <tr>\n",
       "      <th>3</th>\n",
       "      <td>2013-01-04</td>\n",
       "      <td>1115.0</td>\n",
       "      <td>5.0</td>\n",
       "      <td>4540.0</td>\n",
       "      <td>326.0</td>\n",
       "      <td>1.0</td>\n",
       "      <td>0.0</td>\n",
       "      <td>0</td>\n",
       "      <td>1.0</td>\n",
       "      <td>d</td>\n",
       "      <td>c</td>\n",
       "      <td>5350.0</td>\n",
       "      <td>NaN</td>\n",
       "      <td>NaN</td>\n",
       "      <td>1</td>\n",
       "      <td>22.0</td>\n",
       "      <td>2012.0</td>\n",
       "      <td>Mar,Jun,Sept,Dec</td>\n",
       "    </tr>\n",
       "    <tr>\n",
       "      <th>4</th>\n",
       "      <td>2013-01-05</td>\n",
       "      <td>1115.0</td>\n",
       "      <td>6.0</td>\n",
       "      <td>4771.0</td>\n",
       "      <td>339.0</td>\n",
       "      <td>1.0</td>\n",
       "      <td>0.0</td>\n",
       "      <td>0</td>\n",
       "      <td>1.0</td>\n",
       "      <td>d</td>\n",
       "      <td>c</td>\n",
       "      <td>5350.0</td>\n",
       "      <td>NaN</td>\n",
       "      <td>NaN</td>\n",
       "      <td>1</td>\n",
       "      <td>22.0</td>\n",
       "      <td>2012.0</td>\n",
       "      <td>Mar,Jun,Sept,Dec</td>\n",
       "    </tr>\n",
       "  </tbody>\n",
       "</table>\n",
       "</div>"
      ],
      "text/plain": [
       "         Date   Store  DayOfWeek   Sales  Customers  Open  Promo StateHoliday  \\\n",
       "0  2013-01-01  1115.0        2.0     0.0        0.0   0.0    0.0            a   \n",
       "1  2013-01-02  1115.0        3.0  3697.0      305.0   1.0    0.0            0   \n",
       "2  2013-01-03  1115.0        4.0  4297.0      300.0   1.0    0.0            0   \n",
       "3  2013-01-04  1115.0        5.0  4540.0      326.0   1.0    0.0            0   \n",
       "4  2013-01-05  1115.0        6.0  4771.0      339.0   1.0    0.0            0   \n",
       "\n",
       "   SchoolHoliday StoreType Assortment  CompetitionDistance  \\\n",
       "0            1.0         d          c               5350.0   \n",
       "1            1.0         d          c               5350.0   \n",
       "2            1.0         d          c               5350.0   \n",
       "3            1.0         d          c               5350.0   \n",
       "4            1.0         d          c               5350.0   \n",
       "\n",
       "   CompetitionOpenSinceMonth  CompetitionOpenSinceYear  Promo2  \\\n",
       "0                        NaN                       NaN       1   \n",
       "1                        NaN                       NaN       1   \n",
       "2                        NaN                       NaN       1   \n",
       "3                        NaN                       NaN       1   \n",
       "4                        NaN                       NaN       1   \n",
       "\n",
       "   Promo2SinceWeek  Promo2SinceYear     PromoInterval  \n",
       "0             22.0           2012.0  Mar,Jun,Sept,Dec  \n",
       "1             22.0           2012.0  Mar,Jun,Sept,Dec  \n",
       "2             22.0           2012.0  Mar,Jun,Sept,Dec  \n",
       "3             22.0           2012.0  Mar,Jun,Sept,Dec  \n",
       "4             22.0           2012.0  Mar,Jun,Sept,Dec  "
      ]
     },
     "execution_count": 112,
     "metadata": {},
     "output_type": "execute_result"
    }
   ],
   "source": [
    "df_full.head()"
   ]
  },
  {
   "cell_type": "code",
   "execution_count": 113,
   "id": "dbb52851",
   "metadata": {},
   "outputs": [
    {
     "data": {
      "text/plain": [
       "(618473, 18)"
      ]
     },
     "execution_count": 113,
     "metadata": {},
     "output_type": "execute_result"
    }
   ],
   "source": [
    "df_full.shape"
   ]
  },
  {
   "cell_type": "markdown",
   "id": "e7e95f07",
   "metadata": {},
   "source": [
    "#### 2.2.2) Remove Nan sales "
   ]
  },
  {
   "cell_type": "code",
   "execution_count": 114,
   "id": "f1d7f558",
   "metadata": {},
   "outputs": [],
   "source": [
    "# Drop where sales are null\n",
    "df_full_cleaned = df_full.loc[df_full.loc[:, 'Sales'].notnull()]"
   ]
  },
  {
   "cell_type": "code",
   "execution_count": 115,
   "id": "b8d12073",
   "metadata": {},
   "outputs": [
    {
     "name": "stdout",
     "output_type": "stream",
     "text": [
      "Percentage of original data is 97.02%\n"
     ]
    }
   ],
   "source": [
    "print_percentage_of_original_data(df_full_cleaned)"
   ]
  },
  {
   "cell_type": "markdown",
   "id": "afc34c15",
   "metadata": {},
   "source": [
    "### 2.3) Explore Data - Graphs and Correlations"
   ]
  },
  {
   "cell_type": "code",
   "execution_count": null,
   "id": "d99f9aa9",
   "metadata": {},
   "outputs": [],
   "source": []
  },
  {
   "cell_type": "markdown",
   "id": "3452a54f",
   "metadata": {},
   "source": [
    "## 3) Clean Data"
   ]
  },
  {
   "cell_type": "code",
   "execution_count": null,
   "id": "5617a43d",
   "metadata": {},
   "outputs": [],
   "source": []
  },
  {
   "cell_type": "markdown",
   "id": "120fd29b",
   "metadata": {},
   "source": [
    "### 3.1) Cut Features with too many missing values"
   ]
  },
  {
   "cell_type": "markdown",
   "id": "c37b05e4",
   "metadata": {},
   "source": [
    "#### 3.1.1) full dataset"
   ]
  },
  {
   "cell_type": "markdown",
   "id": "50a7c9f7",
   "metadata": {},
   "source": [
    "#### 3.1.1.1) Store Variables"
   ]
  },
  {
   "cell_type": "code",
   "execution_count": 116,
   "id": "80a43b0a",
   "metadata": {},
   "outputs": [
    {
     "data": {
      "text/plain": [
       "Date                          0.000000\n",
       "Store                         0.000000\n",
       "DayOfWeek                     2.893578\n",
       "Sales                         0.000000\n",
       "Customers                     2.904573\n",
       "Open                          2.924461\n",
       "Promo                         2.941115\n",
       "StateHoliday                  2.917508\n",
       "SchoolHoliday                 2.947421\n",
       "StoreType                     0.000000\n",
       "Assortment                    0.000000\n",
       "CompetitionDistance           0.255306\n",
       "CompetitionOpenSinceMonth    30.819130\n",
       "CompetitionOpenSinceYear     30.819130\n",
       "Promo2                        0.000000\n",
       "Promo2SinceWeek              47.615822\n",
       "Promo2SinceYear              47.615822\n",
       "PromoInterval                47.615822\n",
       "dtype: float64"
      ]
     },
     "execution_count": 116,
     "metadata": {},
     "output_type": "execute_result"
    }
   ],
   "source": [
    "df_full_cleaned.isnull().sum() / df_full.shape[0] * 100"
   ]
  },
  {
   "cell_type": "code",
   "execution_count": 117,
   "id": "17fc04ab",
   "metadata": {},
   "outputs": [
    {
     "data": {
      "text/html": [
       "<div>\n",
       "<style scoped>\n",
       "    .dataframe tbody tr th:only-of-type {\n",
       "        vertical-align: middle;\n",
       "    }\n",
       "\n",
       "    .dataframe tbody tr th {\n",
       "        vertical-align: top;\n",
       "    }\n",
       "\n",
       "    .dataframe thead th {\n",
       "        text-align: right;\n",
       "    }\n",
       "</style>\n",
       "<table border=\"1\" class=\"dataframe\">\n",
       "  <thead>\n",
       "    <tr style=\"text-align: right;\">\n",
       "      <th></th>\n",
       "      <th>Date</th>\n",
       "      <th>Store</th>\n",
       "      <th>DayOfWeek</th>\n",
       "      <th>Sales</th>\n",
       "      <th>Customers</th>\n",
       "      <th>Open</th>\n",
       "      <th>Promo</th>\n",
       "      <th>StateHoliday</th>\n",
       "      <th>SchoolHoliday</th>\n",
       "      <th>StoreType</th>\n",
       "      <th>Assortment</th>\n",
       "      <th>CompetitionDistance</th>\n",
       "      <th>CompetitionOpenSinceMonth</th>\n",
       "      <th>CompetitionOpenSinceYear</th>\n",
       "      <th>Promo2</th>\n",
       "      <th>Promo2SinceWeek</th>\n",
       "      <th>Promo2SinceYear</th>\n",
       "      <th>PromoInterval</th>\n",
       "    </tr>\n",
       "  </thead>\n",
       "  <tbody>\n",
       "    <tr>\n",
       "      <th>0</th>\n",
       "      <td>2013-01-01</td>\n",
       "      <td>1115.0</td>\n",
       "      <td>2.0</td>\n",
       "      <td>0.0</td>\n",
       "      <td>0.0</td>\n",
       "      <td>0.0</td>\n",
       "      <td>0.0</td>\n",
       "      <td>a</td>\n",
       "      <td>1.0</td>\n",
       "      <td>d</td>\n",
       "      <td>c</td>\n",
       "      <td>5350.0</td>\n",
       "      <td>NaN</td>\n",
       "      <td>NaN</td>\n",
       "      <td>1</td>\n",
       "      <td>22.0</td>\n",
       "      <td>2012.0</td>\n",
       "      <td>Mar,Jun,Sept,Dec</td>\n",
       "    </tr>\n",
       "    <tr>\n",
       "      <th>1</th>\n",
       "      <td>2013-01-02</td>\n",
       "      <td>1115.0</td>\n",
       "      <td>3.0</td>\n",
       "      <td>3697.0</td>\n",
       "      <td>305.0</td>\n",
       "      <td>1.0</td>\n",
       "      <td>0.0</td>\n",
       "      <td>0</td>\n",
       "      <td>1.0</td>\n",
       "      <td>d</td>\n",
       "      <td>c</td>\n",
       "      <td>5350.0</td>\n",
       "      <td>NaN</td>\n",
       "      <td>NaN</td>\n",
       "      <td>1</td>\n",
       "      <td>22.0</td>\n",
       "      <td>2012.0</td>\n",
       "      <td>Mar,Jun,Sept,Dec</td>\n",
       "    </tr>\n",
       "    <tr>\n",
       "      <th>2</th>\n",
       "      <td>2013-01-03</td>\n",
       "      <td>1115.0</td>\n",
       "      <td>4.0</td>\n",
       "      <td>4297.0</td>\n",
       "      <td>300.0</td>\n",
       "      <td>1.0</td>\n",
       "      <td>0.0</td>\n",
       "      <td>0</td>\n",
       "      <td>1.0</td>\n",
       "      <td>d</td>\n",
       "      <td>c</td>\n",
       "      <td>5350.0</td>\n",
       "      <td>NaN</td>\n",
       "      <td>NaN</td>\n",
       "      <td>1</td>\n",
       "      <td>22.0</td>\n",
       "      <td>2012.0</td>\n",
       "      <td>Mar,Jun,Sept,Dec</td>\n",
       "    </tr>\n",
       "    <tr>\n",
       "      <th>3</th>\n",
       "      <td>2013-01-04</td>\n",
       "      <td>1115.0</td>\n",
       "      <td>5.0</td>\n",
       "      <td>4540.0</td>\n",
       "      <td>326.0</td>\n",
       "      <td>1.0</td>\n",
       "      <td>0.0</td>\n",
       "      <td>0</td>\n",
       "      <td>1.0</td>\n",
       "      <td>d</td>\n",
       "      <td>c</td>\n",
       "      <td>5350.0</td>\n",
       "      <td>NaN</td>\n",
       "      <td>NaN</td>\n",
       "      <td>1</td>\n",
       "      <td>22.0</td>\n",
       "      <td>2012.0</td>\n",
       "      <td>Mar,Jun,Sept,Dec</td>\n",
       "    </tr>\n",
       "    <tr>\n",
       "      <th>4</th>\n",
       "      <td>2013-01-05</td>\n",
       "      <td>1115.0</td>\n",
       "      <td>6.0</td>\n",
       "      <td>4771.0</td>\n",
       "      <td>339.0</td>\n",
       "      <td>1.0</td>\n",
       "      <td>0.0</td>\n",
       "      <td>0</td>\n",
       "      <td>1.0</td>\n",
       "      <td>d</td>\n",
       "      <td>c</td>\n",
       "      <td>5350.0</td>\n",
       "      <td>NaN</td>\n",
       "      <td>NaN</td>\n",
       "      <td>1</td>\n",
       "      <td>22.0</td>\n",
       "      <td>2012.0</td>\n",
       "      <td>Mar,Jun,Sept,Dec</td>\n",
       "    </tr>\n",
       "  </tbody>\n",
       "</table>\n",
       "</div>"
      ],
      "text/plain": [
       "         Date   Store  DayOfWeek   Sales  Customers  Open  Promo StateHoliday  \\\n",
       "0  2013-01-01  1115.0        2.0     0.0        0.0   0.0    0.0            a   \n",
       "1  2013-01-02  1115.0        3.0  3697.0      305.0   1.0    0.0            0   \n",
       "2  2013-01-03  1115.0        4.0  4297.0      300.0   1.0    0.0            0   \n",
       "3  2013-01-04  1115.0        5.0  4540.0      326.0   1.0    0.0            0   \n",
       "4  2013-01-05  1115.0        6.0  4771.0      339.0   1.0    0.0            0   \n",
       "\n",
       "   SchoolHoliday StoreType Assortment  CompetitionDistance  \\\n",
       "0            1.0         d          c               5350.0   \n",
       "1            1.0         d          c               5350.0   \n",
       "2            1.0         d          c               5350.0   \n",
       "3            1.0         d          c               5350.0   \n",
       "4            1.0         d          c               5350.0   \n",
       "\n",
       "   CompetitionOpenSinceMonth  CompetitionOpenSinceYear  Promo2  \\\n",
       "0                        NaN                       NaN       1   \n",
       "1                        NaN                       NaN       1   \n",
       "2                        NaN                       NaN       1   \n",
       "3                        NaN                       NaN       1   \n",
       "4                        NaN                       NaN       1   \n",
       "\n",
       "   Promo2SinceWeek  Promo2SinceYear     PromoInterval  \n",
       "0             22.0           2012.0  Mar,Jun,Sept,Dec  \n",
       "1             22.0           2012.0  Mar,Jun,Sept,Dec  \n",
       "2             22.0           2012.0  Mar,Jun,Sept,Dec  \n",
       "3             22.0           2012.0  Mar,Jun,Sept,Dec  \n",
       "4             22.0           2012.0  Mar,Jun,Sept,Dec  "
      ]
     },
     "execution_count": 117,
     "metadata": {},
     "output_type": "execute_result"
    }
   ],
   "source": [
    "df_full_cleaned.head()"
   ]
  },
  {
   "cell_type": "markdown",
   "id": "d5a5ad0d",
   "metadata": {},
   "source": [
    "**Competition Distance**"
   ]
  },
  {
   "cell_type": "code",
   "execution_count": 118,
   "id": "24a4a7c6",
   "metadata": {},
   "outputs": [
    {
     "name": "stderr",
     "output_type": "stream",
     "text": [
      "/Users/grahamherdman/opt/anaconda3/lib/python3.8/site-packages/pandas/core/indexing.py:1743: SettingWithCopyWarning: \n",
      "A value is trying to be set on a copy of a slice from a DataFrame.\n",
      "Try using .loc[row_indexer,col_indexer] = value instead\n",
      "\n",
      "See the caveats in the documentation: https://pandas.pydata.org/pandas-docs/stable/user_guide/indexing.html#returning-a-view-versus-a-copy\n",
      "  isetter(ilocs[0], value)\n"
     ]
    }
   ],
   "source": [
    "# calculate the mean for CompetitionDistance\n",
    "mean_competition_distance = df_full_cleaned.loc[:, 'CompetitionDistance'].mean()\n",
    "\n",
    "# fill the competition distance with the mean \n",
    "df_full_cleaned.loc[:, \"CompetitionDistance\"] = df_full_cleaned.loc[:, \"CompetitionDistance\"].fillna(mean_competition_distance)"
   ]
  },
  {
   "cell_type": "code",
   "execution_count": 119,
   "id": "b0a4b826",
   "metadata": {},
   "outputs": [
    {
     "data": {
      "text/plain": [
       "Date                          0.000000\n",
       "Store                         0.000000\n",
       "DayOfWeek                     2.893578\n",
       "Sales                         0.000000\n",
       "Customers                     2.904573\n",
       "Open                          2.924461\n",
       "Promo                         2.941115\n",
       "StateHoliday                  2.917508\n",
       "SchoolHoliday                 2.947421\n",
       "StoreType                     0.000000\n",
       "Assortment                    0.000000\n",
       "CompetitionDistance           0.000000\n",
       "CompetitionOpenSinceMonth    30.819130\n",
       "CompetitionOpenSinceYear     30.819130\n",
       "Promo2                        0.000000\n",
       "Promo2SinceWeek              47.615822\n",
       "Promo2SinceYear              47.615822\n",
       "PromoInterval                47.615822\n",
       "dtype: float64"
      ]
     },
     "execution_count": 119,
     "metadata": {},
     "output_type": "execute_result"
    }
   ],
   "source": [
    "df_full_cleaned.isnull().sum() / df_full.shape[0] * 100"
   ]
  },
  {
   "cell_type": "markdown",
   "id": "8b856be4",
   "metadata": {},
   "source": [
    "**Remove CompetitionOpenSinceMonth, CompetitionOpenSinceYear**"
   ]
  },
  {
   "cell_type": "code",
   "execution_count": null,
   "id": "5c8330ed",
   "metadata": {},
   "outputs": [],
   "source": [
    "# Remove CompetitionOpenSinceMonth, CompetitionOpenSinceYear\n",
    "# Reasoning: we think the information contained here is already encoded in the CompetitionDistance."
   ]
  },
  {
   "cell_type": "code",
   "execution_count": 122,
   "id": "3e685168",
   "metadata": {
    "collapsed": true
   },
   "outputs": [
    {
     "data": {
      "text/plain": [
       "NaN     190608\n",
       "9.0      67270\n",
       "4.0      50907\n",
       "11.0     49568\n",
       "3.0      37608\n",
       "7.0      35777\n",
       "12.0     34368\n",
       "10.0     32806\n",
       "6.0      26921\n",
       "5.0      23580\n",
       "2.0      22087\n",
       "8.0      21053\n",
       "1.0       7475\n",
       "Name: CompetitionOpenSinceMonth, dtype: int64"
      ]
     },
     "execution_count": 122,
     "metadata": {},
     "output_type": "execute_result"
    }
   ],
   "source": [
    "df_full_cleaned.loc[:, \"CompetitionOpenSinceMonth\"].value_counts(dropna=False)"
   ]
  },
  {
   "cell_type": "code",
   "execution_count": 123,
   "id": "36092717",
   "metadata": {
    "collapsed": true
   },
   "outputs": [
    {
     "data": {
      "text/plain": [
       "NaN       190608\n",
       "2013.0     44592\n",
       "2012.0     44025\n",
       "2014.0     37598\n",
       "2005.0     33350\n",
       "2010.0     29749\n",
       "2011.0     29128\n",
       "2009.0     29097\n",
       "2008.0     28943\n",
       "2007.0     25835\n",
       "2006.0     25304\n",
       "2015.0     20480\n",
       "2002.0     14566\n",
       "2004.0     11795\n",
       "2003.0     10155\n",
       "2001.0      8627\n",
       "2000.0      5391\n",
       "1999.0      4317\n",
       "1990.0      2705\n",
       "1994.0      1087\n",
       "1995.0      1070\n",
       "1998.0       546\n",
       "1961.0       546\n",
       "1900.0       514\n",
       "Name: CompetitionOpenSinceYear, dtype: int64"
      ]
     },
     "execution_count": 123,
     "metadata": {},
     "output_type": "execute_result"
    }
   ],
   "source": [
    "df_full_cleaned.loc[:, \"CompetitionOpenSinceYear\"].value_counts(dropna=False)"
   ]
  },
  {
   "cell_type": "code",
   "execution_count": 126,
   "id": "1e3b2441",
   "metadata": {},
   "outputs": [],
   "source": [
    "all_columns = df_full_cleaned.columns\n",
    "removed_columns = [\"CompetitionOpenSinceMonth\", \"CompetitionOpenSinceYear\"]\n",
    "keep_columns = [col for col in all_columns if col not in removed_columns]\n",
    "\n",
    "df_full_cleaned = df_full_cleaned.loc[:, keep_columns]"
   ]
  },
  {
   "cell_type": "markdown",
   "id": "30d26b2f",
   "metadata": {},
   "source": [
    "**Remove Promo2SinceWeek, Promo2SinceYear, PromoInterval**\n",
    "<br>\n",
    "Reasoning: They are a large % of the dataset and don't add much predictive power"
   ]
  },
  {
   "cell_type": "code",
   "execution_count": 127,
   "id": "9a3d23e0",
   "metadata": {},
   "outputs": [
    {
     "data": {
      "text/plain": [
       "Date                    0.000000\n",
       "Store                   0.000000\n",
       "DayOfWeek               2.893578\n",
       "Sales                   0.000000\n",
       "Customers               2.904573\n",
       "Open                    2.924461\n",
       "Promo                   2.941115\n",
       "StateHoliday            2.917508\n",
       "SchoolHoliday           2.947421\n",
       "StoreType               0.000000\n",
       "Assortment              0.000000\n",
       "CompetitionDistance     0.000000\n",
       "Promo2                  0.000000\n",
       "Promo2SinceWeek        47.615822\n",
       "Promo2SinceYear        47.615822\n",
       "PromoInterval          47.615822\n",
       "dtype: float64"
      ]
     },
     "execution_count": 127,
     "metadata": {},
     "output_type": "execute_result"
    }
   ],
   "source": [
    "df_full_cleaned.isnull().sum() / df_full.shape[0] * 100"
   ]
  },
  {
   "cell_type": "code",
   "execution_count": 129,
   "id": "cdb6984f",
   "metadata": {},
   "outputs": [],
   "source": [
    "all_columns = df_full_cleaned.columns\n",
    "removed_columns = [\"Promo2SinceWeek\", \"Promo2SinceYear\", \"PromoInterval\"]\n",
    "keep_columns = [col for col in all_columns if col not in removed_columns]\n",
    "\n",
    "df_full_cleaned = df_full_cleaned.loc[:, keep_columns]"
   ]
  },
  {
   "cell_type": "code",
   "execution_count": 130,
   "id": "7e0c88c6",
   "metadata": {},
   "outputs": [
    {
     "data": {
      "text/plain": [
       "Date                   0.000000\n",
       "Store                  0.000000\n",
       "DayOfWeek              2.893578\n",
       "Sales                  0.000000\n",
       "Customers              2.904573\n",
       "Open                   2.924461\n",
       "Promo                  2.941115\n",
       "StateHoliday           2.917508\n",
       "SchoolHoliday          2.947421\n",
       "StoreType              0.000000\n",
       "Assortment             0.000000\n",
       "CompetitionDistance    0.000000\n",
       "Promo2                 0.000000\n",
       "dtype: float64"
      ]
     },
     "execution_count": 130,
     "metadata": {},
     "output_type": "execute_result"
    }
   ],
   "source": [
    "df_full_cleaned.isnull().sum() / df_full.shape[0] * 100"
   ]
  },
  {
   "cell_type": "code",
   "execution_count": 131,
   "id": "15e6733e",
   "metadata": {},
   "outputs": [
    {
     "name": "stdout",
     "output_type": "stream",
     "text": [
      "Percentage of original data is 97.02%\n"
     ]
    }
   ],
   "source": [
    "print_percentage_of_original_data(df_full_cleaned)"
   ]
  },
  {
   "cell_type": "markdown",
   "id": "b2b99696",
   "metadata": {},
   "source": [
    "***"
   ]
  },
  {
   "cell_type": "markdown",
   "id": "bb673c25",
   "metadata": {},
   "source": [
    "**Start from here**"
   ]
  },
  {
   "cell_type": "markdown",
   "id": "b16d025d",
   "metadata": {},
   "source": [
    "***"
   ]
  },
  {
   "cell_type": "code",
   "execution_count": null,
   "id": "39925c7b",
   "metadata": {},
   "outputs": [],
   "source": []
  },
  {
   "cell_type": "code",
   "execution_count": null,
   "id": "33d1b032",
   "metadata": {},
   "outputs": [],
   "source": []
  },
  {
   "cell_type": "markdown",
   "id": "3a7ee420",
   "metadata": {},
   "source": [
    "#### 3.1.1) Store"
   ]
  },
  {
   "cell_type": "code",
   "execution_count": 12,
   "id": "0fa38077",
   "metadata": {},
   "outputs": [
    {
     "data": {
      "text/plain": [
       "Store                         0.000000\n",
       "StoreType                     0.000000\n",
       "Assortment                    0.000000\n",
       "CompetitionDistance           0.269058\n",
       "CompetitionOpenSinceMonth    31.748879\n",
       "CompetitionOpenSinceYear     31.748879\n",
       "Promo2                        0.000000\n",
       "Promo2SinceWeek              48.789238\n",
       "Promo2SinceYear              48.789238\n",
       "PromoInterval                48.789238\n",
       "dtype: float64"
      ]
     },
     "execution_count": 12,
     "metadata": {},
     "output_type": "execute_result"
    }
   ],
   "source": [
    "df_store.isnull().sum() / df_store.shape[0] * 100"
   ]
  },
  {
   "cell_type": "code",
   "execution_count": 13,
   "id": "3030667e",
   "metadata": {},
   "outputs": [],
   "source": [
    "# drop columns with lots of nulls \n",
    "columns_to_drop = ['CompetitionOpenSinceMonth', 'CompetitionOpenSinceYear', 'Promo2SinceWeek', 'Promo2SinceYear', 'PromoInterval']\n",
    "\n",
    "df_store_cleaned = df_store.drop(columns_to_drop, axis=1)"
   ]
  },
  {
   "cell_type": "code",
   "execution_count": 14,
   "id": "c600f7d4",
   "metadata": {},
   "outputs": [
    {
     "data": {
      "text/html": [
       "<div>\n",
       "<style scoped>\n",
       "    .dataframe tbody tr th:only-of-type {\n",
       "        vertical-align: middle;\n",
       "    }\n",
       "\n",
       "    .dataframe tbody tr th {\n",
       "        vertical-align: top;\n",
       "    }\n",
       "\n",
       "    .dataframe thead th {\n",
       "        text-align: right;\n",
       "    }\n",
       "</style>\n",
       "<table border=\"1\" class=\"dataframe\">\n",
       "  <thead>\n",
       "    <tr style=\"text-align: right;\">\n",
       "      <th></th>\n",
       "      <th>Store</th>\n",
       "      <th>StoreType</th>\n",
       "      <th>Assortment</th>\n",
       "      <th>CompetitionDistance</th>\n",
       "      <th>Promo2</th>\n",
       "    </tr>\n",
       "  </thead>\n",
       "  <tbody>\n",
       "    <tr>\n",
       "      <th>0</th>\n",
       "      <td>1</td>\n",
       "      <td>c</td>\n",
       "      <td>a</td>\n",
       "      <td>1270.0</td>\n",
       "      <td>0</td>\n",
       "    </tr>\n",
       "    <tr>\n",
       "      <th>1</th>\n",
       "      <td>2</td>\n",
       "      <td>a</td>\n",
       "      <td>a</td>\n",
       "      <td>570.0</td>\n",
       "      <td>1</td>\n",
       "    </tr>\n",
       "    <tr>\n",
       "      <th>2</th>\n",
       "      <td>3</td>\n",
       "      <td>a</td>\n",
       "      <td>a</td>\n",
       "      <td>14130.0</td>\n",
       "      <td>1</td>\n",
       "    </tr>\n",
       "    <tr>\n",
       "      <th>3</th>\n",
       "      <td>4</td>\n",
       "      <td>c</td>\n",
       "      <td>c</td>\n",
       "      <td>620.0</td>\n",
       "      <td>0</td>\n",
       "    </tr>\n",
       "    <tr>\n",
       "      <th>4</th>\n",
       "      <td>5</td>\n",
       "      <td>a</td>\n",
       "      <td>a</td>\n",
       "      <td>29910.0</td>\n",
       "      <td>0</td>\n",
       "    </tr>\n",
       "  </tbody>\n",
       "</table>\n",
       "</div>"
      ],
      "text/plain": [
       "   Store StoreType Assortment  CompetitionDistance  Promo2\n",
       "0      1         c          a               1270.0       0\n",
       "1      2         a          a                570.0       1\n",
       "2      3         a          a              14130.0       1\n",
       "3      4         c          c                620.0       0\n",
       "4      5         a          a              29910.0       0"
      ]
     },
     "execution_count": 14,
     "metadata": {},
     "output_type": "execute_result"
    }
   ],
   "source": [
    "df_store_cleaned.head()"
   ]
  },
  {
   "cell_type": "markdown",
   "id": "2aacdf0a",
   "metadata": {},
   "source": [
    "#### 3.1.2) Train"
   ]
  },
  {
   "cell_type": "code",
   "execution_count": 39,
   "id": "177158ac",
   "metadata": {},
   "outputs": [
    {
     "data": {
      "text/html": [
       "<div>\n",
       "<style scoped>\n",
       "    .dataframe tbody tr th:only-of-type {\n",
       "        vertical-align: middle;\n",
       "    }\n",
       "\n",
       "    .dataframe tbody tr th {\n",
       "        vertical-align: top;\n",
       "    }\n",
       "\n",
       "    .dataframe thead th {\n",
       "        text-align: right;\n",
       "    }\n",
       "</style>\n",
       "<table border=\"1\" class=\"dataframe\">\n",
       "  <thead>\n",
       "    <tr style=\"text-align: right;\">\n",
       "      <th></th>\n",
       "      <th>Date</th>\n",
       "      <th>Store</th>\n",
       "      <th>DayOfWeek</th>\n",
       "      <th>Sales</th>\n",
       "      <th>Customers</th>\n",
       "      <th>Open</th>\n",
       "      <th>Promo</th>\n",
       "      <th>StateHoliday</th>\n",
       "      <th>SchoolHoliday</th>\n",
       "    </tr>\n",
       "  </thead>\n",
       "  <tbody>\n",
       "    <tr>\n",
       "      <th>0</th>\n",
       "      <td>2013-01-01</td>\n",
       "      <td>1115.0</td>\n",
       "      <td>2.0</td>\n",
       "      <td>0.0</td>\n",
       "      <td>0.0</td>\n",
       "      <td>0.0</td>\n",
       "      <td>0.0</td>\n",
       "      <td>a</td>\n",
       "      <td>1.0</td>\n",
       "    </tr>\n",
       "    <tr>\n",
       "      <th>1</th>\n",
       "      <td>2013-01-01</td>\n",
       "      <td>379.0</td>\n",
       "      <td>2.0</td>\n",
       "      <td>0.0</td>\n",
       "      <td>0.0</td>\n",
       "      <td>0.0</td>\n",
       "      <td>0.0</td>\n",
       "      <td>a</td>\n",
       "      <td>1.0</td>\n",
       "    </tr>\n",
       "    <tr>\n",
       "      <th>2</th>\n",
       "      <td>2013-01-01</td>\n",
       "      <td>378.0</td>\n",
       "      <td>2.0</td>\n",
       "      <td>0.0</td>\n",
       "      <td>0.0</td>\n",
       "      <td>0.0</td>\n",
       "      <td>0.0</td>\n",
       "      <td>a</td>\n",
       "      <td>1.0</td>\n",
       "    </tr>\n",
       "    <tr>\n",
       "      <th>3</th>\n",
       "      <td>2013-01-01</td>\n",
       "      <td>377.0</td>\n",
       "      <td>2.0</td>\n",
       "      <td>0.0</td>\n",
       "      <td>0.0</td>\n",
       "      <td>0.0</td>\n",
       "      <td>0.0</td>\n",
       "      <td>a</td>\n",
       "      <td>1.0</td>\n",
       "    </tr>\n",
       "    <tr>\n",
       "      <th>4</th>\n",
       "      <td>2013-01-01</td>\n",
       "      <td>376.0</td>\n",
       "      <td>2.0</td>\n",
       "      <td>0.0</td>\n",
       "      <td>0.0</td>\n",
       "      <td>0.0</td>\n",
       "      <td>0.0</td>\n",
       "      <td>a</td>\n",
       "      <td>1.0</td>\n",
       "    </tr>\n",
       "  </tbody>\n",
       "</table>\n",
       "</div>"
      ],
      "text/plain": [
       "         Date   Store  DayOfWeek  Sales  Customers  Open  Promo StateHoliday  \\\n",
       "0  2013-01-01  1115.0        2.0    0.0        0.0   0.0    0.0            a   \n",
       "1  2013-01-01   379.0        2.0    0.0        0.0   0.0    0.0            a   \n",
       "2  2013-01-01   378.0        2.0    0.0        0.0   0.0    0.0            a   \n",
       "3  2013-01-01   377.0        2.0    0.0        0.0   0.0    0.0            a   \n",
       "4  2013-01-01   376.0        2.0    0.0        0.0   0.0    0.0            a   \n",
       "\n",
       "   SchoolHoliday  \n",
       "0            1.0  \n",
       "1            1.0  \n",
       "2            1.0  \n",
       "3            1.0  \n",
       "4            1.0  "
      ]
     },
     "execution_count": 39,
     "metadata": {},
     "output_type": "execute_result"
    }
   ],
   "source": [
    "# Train\n",
    "df_train.head()"
   ]
  },
  {
   "cell_type": "code",
   "execution_count": 40,
   "id": "cd96e4fc",
   "metadata": {},
   "outputs": [
    {
     "data": {
      "text/plain": [
       "(637774, 9)"
      ]
     },
     "execution_count": 40,
     "metadata": {},
     "output_type": "execute_result"
    }
   ],
   "source": [
    "df_train.shape"
   ]
  },
  {
   "cell_type": "code",
   "execution_count": 41,
   "id": "18bfb19d",
   "metadata": {},
   "outputs": [
    {
     "data": {
      "text/plain": [
       "Date             0.000000\n",
       "Store            3.026307\n",
       "DayOfWeek        2.981777\n",
       "Sales            2.983345\n",
       "Customers        2.993380\n",
       "Open             3.008276\n",
       "Promo            3.009530\n",
       "StateHoliday     3.018938\n",
       "SchoolHoliday    3.031952\n",
       "dtype: float64"
      ]
     },
     "execution_count": 41,
     "metadata": {},
     "output_type": "execute_result"
    }
   ],
   "source": [
    "df_train.isnull().sum() / df_train.shape[0] * 100"
   ]
  },
  {
   "cell_type": "code",
   "execution_count": 42,
   "id": "f2e9d60b",
   "metadata": {},
   "outputs": [
    {
     "data": {
      "text/plain": [
       "Date             False\n",
       "Store             True\n",
       "DayOfWeek         True\n",
       "Sales             True\n",
       "Customers         True\n",
       "Open              True\n",
       "Promo             True\n",
       "StateHoliday      True\n",
       "SchoolHoliday     True\n",
       "dtype: bool"
      ]
     },
     "execution_count": 42,
     "metadata": {},
     "output_type": "execute_result"
    }
   ],
   "source": [
    "df_train.isnull().any()"
   ]
  },
  {
   "cell_type": "code",
   "execution_count": null,
   "id": "e34529bb",
   "metadata": {},
   "outputs": [],
   "source": []
  },
  {
   "cell_type": "code",
   "execution_count": null,
   "id": "b93fca19",
   "metadata": {},
   "outputs": [],
   "source": [
    "# STORE - Drop columns - Store, Assortment, "
   ]
  },
  {
   "cell_type": "code",
   "execution_count": null,
   "id": "80a1ad2e",
   "metadata": {},
   "outputs": [],
   "source": []
  },
  {
   "cell_type": "markdown",
   "id": "ba7ba0ae",
   "metadata": {},
   "source": [
    "### 3.2) Clean Numeric data"
   ]
  },
  {
   "cell_type": "markdown",
   "id": "1f90bf96",
   "metadata": {},
   "source": [
    "#### 3.1.1) Store"
   ]
  },
  {
   "cell_type": "code",
   "execution_count": 17,
   "id": "56129fb4",
   "metadata": {},
   "outputs": [
    {
     "data": {
      "text/plain": [
       "Store                  0\n",
       "StoreType              0\n",
       "Assortment             0\n",
       "CompetitionDistance    3\n",
       "Promo2                 0\n",
       "dtype: int64"
      ]
     },
     "execution_count": 17,
     "metadata": {},
     "output_type": "execute_result"
    }
   ],
   "source": [
    "df_store_cleaned.isnull().sum()"
   ]
  },
  {
   "cell_type": "code",
   "execution_count": 19,
   "id": "3f289c1d",
   "metadata": {},
   "outputs": [],
   "source": [
    "# impute the mean for CompetitionDistance\n",
    "df_store_cleaned['CompetitionDistance'] = df_store_cleaned['CompetitionDistance'].fillna(df_store_cleaned['CompetitionDistance'].mean())\n"
   ]
  },
  {
   "cell_type": "code",
   "execution_count": 20,
   "id": "03957748",
   "metadata": {},
   "outputs": [
    {
     "data": {
      "text/plain": [
       "Store                  0\n",
       "StoreType              0\n",
       "Assortment             0\n",
       "CompetitionDistance    0\n",
       "Promo2                 0\n",
       "dtype: int64"
      ]
     },
     "execution_count": 20,
     "metadata": {},
     "output_type": "execute_result"
    }
   ],
   "source": [
    "# No nulls\n",
    "df_store_cleaned.isnull().sum()"
   ]
  },
  {
   "cell_type": "markdown",
   "id": "c656fd82",
   "metadata": {},
   "source": [
    "#### 3.1.1) Train"
   ]
  },
  {
   "cell_type": "code",
   "execution_count": 43,
   "id": "a340e152",
   "metadata": {},
   "outputs": [],
   "source": [
    "# Sales \n",
    "# 1) Drop where sales are null\n",
    "df_train_cleaned = df_train.loc[df_train.loc[:, 'Sales'].notnull()]"
   ]
  },
  {
   "cell_type": "code",
   "execution_count": 64,
   "id": "61c078af",
   "metadata": {},
   "outputs": [],
   "source": [
    "# 2) Drop where sales are 0 \n",
    "\n",
    "# 16.59% where sales = 0\n",
    "(df_train_cleaned.loc[:, 'Sales'].eq(0).sum() / df_train.shape[0]) * 100\n",
    "\n",
    "# drop where sales = 0\n",
    "df_train_cleaned = df_train_cleaned.loc[~df_train_cleaned.loc[:, 'Sales'].eq(0)]"
   ]
  },
  {
   "cell_type": "code",
   "execution_count": 66,
   "id": "c0d4d74b",
   "metadata": {},
   "outputs": [
    {
     "data": {
      "text/plain": [
       "Date             0.000000\n",
       "Store            3.037298\n",
       "DayOfWeek        2.982517\n",
       "Sales            0.000000\n",
       "Customers        3.012734\n",
       "Open             3.012929\n",
       "Promo            3.009810\n",
       "StateHoliday     3.033399\n",
       "SchoolHoliday    3.030864\n",
       "dtype: float64"
      ]
     },
     "execution_count": 66,
     "metadata": {},
     "output_type": "execute_result"
    }
   ],
   "source": [
    "df_train_cleaned.isnull().sum() / df_train_cleaned.shape[0] * 100"
   ]
  },
  {
   "cell_type": "code",
   "execution_count": 67,
   "id": "ddb30ca3",
   "metadata": {},
   "outputs": [],
   "source": [
    "# Store - drop the nulls because we can't impute this \n",
    "df_train_cleaned = df_train_cleaned.loc[df_train_cleaned.loc[:, 'Store'].notnull()]\n"
   ]
  },
  {
   "cell_type": "code",
   "execution_count": 68,
   "id": "66e11101",
   "metadata": {},
   "outputs": [
    {
     "data": {
      "text/plain": [
       "Date             0.000000\n",
       "Store            0.000000\n",
       "DayOfWeek        2.977627\n",
       "Sales            0.000000\n",
       "Customers        3.012610\n",
       "Open             3.017838\n",
       "Promo            3.018240\n",
       "StateHoliday     3.022060\n",
       "SchoolHoliday    3.034525\n",
       "dtype: float64"
      ]
     },
     "execution_count": 68,
     "metadata": {},
     "output_type": "execute_result"
    }
   ],
   "source": [
    "df_train_cleaned.isnull().sum() / df_train_cleaned.shape[0] * 100"
   ]
  },
  {
   "cell_type": "code",
   "execution_count": 71,
   "id": "9b40612e",
   "metadata": {},
   "outputs": [],
   "source": [
    "# Initial Run through - drop all the nulls \n",
    "df_train_cleaned = df_train_cleaned.dropna()"
   ]
  },
  {
   "cell_type": "code",
   "execution_count": 72,
   "id": "2173d39e",
   "metadata": {},
   "outputs": [
    {
     "data": {
      "text/plain": [
       "Date             0\n",
       "Store            0\n",
       "DayOfWeek        0\n",
       "Sales            0\n",
       "Customers        0\n",
       "Open             0\n",
       "Promo            0\n",
       "StateHoliday     0\n",
       "SchoolHoliday    0\n",
       "dtype: int64"
      ]
     },
     "execution_count": 72,
     "metadata": {},
     "output_type": "execute_result"
    }
   ],
   "source": [
    "# No nulls\n",
    "df_train_cleaned.isnull().sum()"
   ]
  },
  {
   "cell_type": "markdown",
   "id": "395f18da",
   "metadata": {},
   "source": [
    "### 3.3) Clean Categorical Data"
   ]
  },
  {
   "cell_type": "code",
   "execution_count": null,
   "id": "e6605a35",
   "metadata": {},
   "outputs": [],
   "source": []
  },
  {
   "cell_type": "markdown",
   "id": "aa71f54f",
   "metadata": {},
   "source": [
    "### 3.4) Clean Ordinal Data"
   ]
  },
  {
   "cell_type": "code",
   "execution_count": null,
   "id": "47c68454",
   "metadata": {},
   "outputs": [],
   "source": []
  },
  {
   "cell_type": "markdown",
   "id": "c3d420ce",
   "metadata": {},
   "source": [
    "### 3.5) Drop Superfluous Columns"
   ]
  },
  {
   "cell_type": "code",
   "execution_count": null,
   "id": "808e1b77",
   "metadata": {},
   "outputs": [],
   "source": []
  },
  {
   "cell_type": "markdown",
   "id": "1b76f837",
   "metadata": {},
   "source": [
    "### 3.6) Remove Highly Correlated Variables"
   ]
  },
  {
   "cell_type": "code",
   "execution_count": null,
   "id": "b73ba6d2",
   "metadata": {},
   "outputs": [],
   "source": []
  },
  {
   "cell_type": "markdown",
   "id": "564e71f8",
   "metadata": {},
   "source": [
    "### 3.7) Merge the datasets \n"
   ]
  },
  {
   "cell_type": "code",
   "execution_count": 74,
   "id": "5d3edab3",
   "metadata": {},
   "outputs": [],
   "source": [
    "# START HERE \n",
    "df_full = pd.merge(df_train_cleaned, df_store_cleaned, on=[\"Store\"])"
   ]
  },
  {
   "cell_type": "code",
   "execution_count": 75,
   "id": "b5fdc8e6",
   "metadata": {},
   "outputs": [
    {
     "data": {
      "text/html": [
       "<div>\n",
       "<style scoped>\n",
       "    .dataframe tbody tr th:only-of-type {\n",
       "        vertical-align: middle;\n",
       "    }\n",
       "\n",
       "    .dataframe tbody tr th {\n",
       "        vertical-align: top;\n",
       "    }\n",
       "\n",
       "    .dataframe thead th {\n",
       "        text-align: right;\n",
       "    }\n",
       "</style>\n",
       "<table border=\"1\" class=\"dataframe\">\n",
       "  <thead>\n",
       "    <tr style=\"text-align: right;\">\n",
       "      <th></th>\n",
       "      <th>Date</th>\n",
       "      <th>Store</th>\n",
       "      <th>DayOfWeek</th>\n",
       "      <th>Sales</th>\n",
       "      <th>Customers</th>\n",
       "      <th>Open</th>\n",
       "      <th>Promo</th>\n",
       "      <th>StateHoliday</th>\n",
       "      <th>SchoolHoliday</th>\n",
       "      <th>StoreType</th>\n",
       "      <th>Assortment</th>\n",
       "      <th>CompetitionDistance</th>\n",
       "      <th>Promo2</th>\n",
       "    </tr>\n",
       "  </thead>\n",
       "  <tbody>\n",
       "    <tr>\n",
       "      <th>0</th>\n",
       "      <td>2013-01-01</td>\n",
       "      <td>353.0</td>\n",
       "      <td>2.0</td>\n",
       "      <td>3139.0</td>\n",
       "      <td>820.0</td>\n",
       "      <td>1.0</td>\n",
       "      <td>0.0</td>\n",
       "      <td>a</td>\n",
       "      <td>1.0</td>\n",
       "      <td>b</td>\n",
       "      <td>b</td>\n",
       "      <td>900.0</td>\n",
       "      <td>1</td>\n",
       "    </tr>\n",
       "    <tr>\n",
       "      <th>1</th>\n",
       "      <td>2013-01-02</td>\n",
       "      <td>353.0</td>\n",
       "      <td>3.0</td>\n",
       "      <td>2686.0</td>\n",
       "      <td>835.0</td>\n",
       "      <td>1.0</td>\n",
       "      <td>0.0</td>\n",
       "      <td>0</td>\n",
       "      <td>1.0</td>\n",
       "      <td>b</td>\n",
       "      <td>b</td>\n",
       "      <td>900.0</td>\n",
       "      <td>1</td>\n",
       "    </tr>\n",
       "    <tr>\n",
       "      <th>2</th>\n",
       "      <td>2013-01-03</td>\n",
       "      <td>353.0</td>\n",
       "      <td>4.0</td>\n",
       "      <td>2628.0</td>\n",
       "      <td>815.0</td>\n",
       "      <td>1.0</td>\n",
       "      <td>0.0</td>\n",
       "      <td>0</td>\n",
       "      <td>1.0</td>\n",
       "      <td>b</td>\n",
       "      <td>b</td>\n",
       "      <td>900.0</td>\n",
       "      <td>1</td>\n",
       "    </tr>\n",
       "    <tr>\n",
       "      <th>3</th>\n",
       "      <td>2013-01-04</td>\n",
       "      <td>353.0</td>\n",
       "      <td>5.0</td>\n",
       "      <td>2677.0</td>\n",
       "      <td>856.0</td>\n",
       "      <td>1.0</td>\n",
       "      <td>0.0</td>\n",
       "      <td>0</td>\n",
       "      <td>1.0</td>\n",
       "      <td>b</td>\n",
       "      <td>b</td>\n",
       "      <td>900.0</td>\n",
       "      <td>1</td>\n",
       "    </tr>\n",
       "    <tr>\n",
       "      <th>4</th>\n",
       "      <td>2013-01-05</td>\n",
       "      <td>353.0</td>\n",
       "      <td>6.0</td>\n",
       "      <td>2224.0</td>\n",
       "      <td>719.0</td>\n",
       "      <td>1.0</td>\n",
       "      <td>0.0</td>\n",
       "      <td>0</td>\n",
       "      <td>0.0</td>\n",
       "      <td>b</td>\n",
       "      <td>b</td>\n",
       "      <td>900.0</td>\n",
       "      <td>1</td>\n",
       "    </tr>\n",
       "  </tbody>\n",
       "</table>\n",
       "</div>"
      ],
      "text/plain": [
       "         Date  Store  DayOfWeek   Sales  Customers  Open  Promo StateHoliday  \\\n",
       "0  2013-01-01  353.0        2.0  3139.0      820.0   1.0    0.0            a   \n",
       "1  2013-01-02  353.0        3.0  2686.0      835.0   1.0    0.0            0   \n",
       "2  2013-01-03  353.0        4.0  2628.0      815.0   1.0    0.0            0   \n",
       "3  2013-01-04  353.0        5.0  2677.0      856.0   1.0    0.0            0   \n",
       "4  2013-01-05  353.0        6.0  2224.0      719.0   1.0    0.0            0   \n",
       "\n",
       "   SchoolHoliday StoreType Assortment  CompetitionDistance  Promo2  \n",
       "0            1.0         b          b                900.0       1  \n",
       "1            1.0         b          b                900.0       1  \n",
       "2            1.0         b          b                900.0       1  \n",
       "3            1.0         b          b                900.0       1  \n",
       "4            0.0         b          b                900.0       1  "
      ]
     },
     "execution_count": 75,
     "metadata": {},
     "output_type": "execute_result"
    }
   ],
   "source": [
    "df_full.head()"
   ]
  },
  {
   "cell_type": "code",
   "execution_count": 76,
   "id": "5aec2e85",
   "metadata": {},
   "outputs": [
    {
     "data": {
      "text/plain": [
       "Date                   0\n",
       "Store                  0\n",
       "DayOfWeek              0\n",
       "Sales                  0\n",
       "Customers              0\n",
       "Open                   0\n",
       "Promo                  0\n",
       "StateHoliday           0\n",
       "SchoolHoliday          0\n",
       "StoreType              0\n",
       "Assortment             0\n",
       "CompetitionDistance    0\n",
       "Promo2                 0\n",
       "dtype: int64"
      ]
     },
     "execution_count": 76,
     "metadata": {},
     "output_type": "execute_result"
    }
   ],
   "source": [
    "# No nulls\n",
    "df_full.isnull().sum()"
   ]
  },
  {
   "cell_type": "markdown",
   "id": "272715ee",
   "metadata": {},
   "source": [
    "### 3.8) Convert non-numeric variables to numeric"
   ]
  },
  {
   "cell_type": "code",
   "execution_count": 79,
   "id": "4a439064",
   "metadata": {},
   "outputs": [
    {
     "data": {
      "text/plain": [
       "Date                    object\n",
       "Store                  float64\n",
       "DayOfWeek              float64\n",
       "Sales                  float64\n",
       "Customers              float64\n",
       "Open                   float64\n",
       "Promo                  float64\n",
       "StateHoliday            object\n",
       "SchoolHoliday          float64\n",
       "StoreType               object\n",
       "Assortment              object\n",
       "CompetitionDistance    float64\n",
       "Promo2                   int64\n",
       "dtype: object"
      ]
     },
     "execution_count": 79,
     "metadata": {},
     "output_type": "execute_result"
    }
   ],
   "source": [
    "df_full.dtypes"
   ]
  },
  {
   "cell_type": "code",
   "execution_count": 83,
   "id": "33861caa",
   "metadata": {},
   "outputs": [],
   "source": [
    "# drop non-numeric columns for now\n",
    "df_full = df_full.select_dtypes(np.number)"
   ]
  },
  {
   "cell_type": "markdown",
   "id": "8aa7a71f",
   "metadata": {},
   "source": [
    "### 3.9) Convert Customer Number to mean for store"
   ]
  },
  {
   "cell_type": "code",
   "execution_count": 106,
   "id": "96c67f0c",
   "metadata": {},
   "outputs": [],
   "source": [
    "df_full['Customers'] = df_full.groupby('Store')['Customers'].transform('mean').astype('int')"
   ]
  },
  {
   "cell_type": "code",
   "execution_count": 108,
   "id": "bbbb03d6",
   "metadata": {},
   "outputs": [
    {
     "data": {
      "text/html": [
       "<div>\n",
       "<style scoped>\n",
       "    .dataframe tbody tr th:only-of-type {\n",
       "        vertical-align: middle;\n",
       "    }\n",
       "\n",
       "    .dataframe tbody tr th {\n",
       "        vertical-align: top;\n",
       "    }\n",
       "\n",
       "    .dataframe thead th {\n",
       "        text-align: right;\n",
       "    }\n",
       "</style>\n",
       "<table border=\"1\" class=\"dataframe\">\n",
       "  <thead>\n",
       "    <tr style=\"text-align: right;\">\n",
       "      <th></th>\n",
       "      <th>Store</th>\n",
       "      <th>DayOfWeek</th>\n",
       "      <th>Sales</th>\n",
       "      <th>Customers</th>\n",
       "      <th>Open</th>\n",
       "      <th>Promo</th>\n",
       "      <th>SchoolHoliday</th>\n",
       "      <th>CompetitionDistance</th>\n",
       "      <th>Promo2</th>\n",
       "    </tr>\n",
       "  </thead>\n",
       "  <tbody>\n",
       "    <tr>\n",
       "      <th>413959</th>\n",
       "      <td>1081.0</td>\n",
       "      <td>3.0</td>\n",
       "      <td>5042.0</td>\n",
       "      <td>941</td>\n",
       "      <td>1.0</td>\n",
       "      <td>0.0</td>\n",
       "      <td>1.0</td>\n",
       "      <td>400.0</td>\n",
       "      <td>0</td>\n",
       "    </tr>\n",
       "    <tr>\n",
       "      <th>413960</th>\n",
       "      <td>1081.0</td>\n",
       "      <td>7.0</td>\n",
       "      <td>4974.0</td>\n",
       "      <td>941</td>\n",
       "      <td>1.0</td>\n",
       "      <td>0.0</td>\n",
       "      <td>0.0</td>\n",
       "      <td>400.0</td>\n",
       "      <td>0</td>\n",
       "    </tr>\n",
       "    <tr>\n",
       "      <th>413961</th>\n",
       "      <td>1081.0</td>\n",
       "      <td>1.0</td>\n",
       "      <td>7900.0</td>\n",
       "      <td>941</td>\n",
       "      <td>1.0</td>\n",
       "      <td>1.0</td>\n",
       "      <td>1.0</td>\n",
       "      <td>400.0</td>\n",
       "      <td>0</td>\n",
       "    </tr>\n",
       "    <tr>\n",
       "      <th>413962</th>\n",
       "      <td>1081.0</td>\n",
       "      <td>2.0</td>\n",
       "      <td>7563.0</td>\n",
       "      <td>941</td>\n",
       "      <td>1.0</td>\n",
       "      <td>1.0</td>\n",
       "      <td>1.0</td>\n",
       "      <td>400.0</td>\n",
       "      <td>0</td>\n",
       "    </tr>\n",
       "    <tr>\n",
       "      <th>413963</th>\n",
       "      <td>1081.0</td>\n",
       "      <td>4.0</td>\n",
       "      <td>6895.0</td>\n",
       "      <td>941</td>\n",
       "      <td>1.0</td>\n",
       "      <td>1.0</td>\n",
       "      <td>1.0</td>\n",
       "      <td>400.0</td>\n",
       "      <td>0</td>\n",
       "    </tr>\n",
       "  </tbody>\n",
       "</table>\n",
       "</div>"
      ],
      "text/plain": [
       "         Store  DayOfWeek   Sales  Customers  Open  Promo  SchoolHoliday  \\\n",
       "413959  1081.0        3.0  5042.0        941   1.0    0.0            1.0   \n",
       "413960  1081.0        7.0  4974.0        941   1.0    0.0            0.0   \n",
       "413961  1081.0        1.0  7900.0        941   1.0    1.0            1.0   \n",
       "413962  1081.0        2.0  7563.0        941   1.0    1.0            1.0   \n",
       "413963  1081.0        4.0  6895.0        941   1.0    1.0            1.0   \n",
       "\n",
       "        CompetitionDistance  Promo2  \n",
       "413959                400.0       0  \n",
       "413960                400.0       0  \n",
       "413961                400.0       0  \n",
       "413962                400.0       0  \n",
       "413963                400.0       0  "
      ]
     },
     "execution_count": 108,
     "metadata": {},
     "output_type": "execute_result"
    }
   ],
   "source": [
    "df_full.tail()"
   ]
  },
  {
   "cell_type": "markdown",
   "id": "f6adf7d1",
   "metadata": {},
   "source": [
    "## 4) Train, Test, Split"
   ]
  },
  {
   "cell_type": "code",
   "execution_count": 109,
   "id": "2a951ddb",
   "metadata": {},
   "outputs": [],
   "source": [
    "X_columns = list(df_full.columns)\n",
    "X_columns.remove(\"Sales\")\n",
    "\n",
    "# create the X, y dataframes\n",
    "X = df_full.loc[:, X_columns]\n",
    "y = df_full.loc[:, 'Sales']"
   ]
  },
  {
   "cell_type": "code",
   "execution_count": 110,
   "id": "ff754a05",
   "metadata": {},
   "outputs": [
    {
     "data": {
      "text/html": [
       "<div>\n",
       "<style scoped>\n",
       "    .dataframe tbody tr th:only-of-type {\n",
       "        vertical-align: middle;\n",
       "    }\n",
       "\n",
       "    .dataframe tbody tr th {\n",
       "        vertical-align: top;\n",
       "    }\n",
       "\n",
       "    .dataframe thead th {\n",
       "        text-align: right;\n",
       "    }\n",
       "</style>\n",
       "<table border=\"1\" class=\"dataframe\">\n",
       "  <thead>\n",
       "    <tr style=\"text-align: right;\">\n",
       "      <th></th>\n",
       "      <th>Store</th>\n",
       "      <th>DayOfWeek</th>\n",
       "      <th>Customers</th>\n",
       "      <th>Open</th>\n",
       "      <th>Promo</th>\n",
       "      <th>SchoolHoliday</th>\n",
       "      <th>CompetitionDistance</th>\n",
       "      <th>Promo2</th>\n",
       "    </tr>\n",
       "  </thead>\n",
       "  <tbody>\n",
       "    <tr>\n",
       "      <th>0</th>\n",
       "      <td>353.0</td>\n",
       "      <td>2.0</td>\n",
       "      <td>1335</td>\n",
       "      <td>1.0</td>\n",
       "      <td>0.0</td>\n",
       "      <td>1.0</td>\n",
       "      <td>900.0</td>\n",
       "      <td>1</td>\n",
       "    </tr>\n",
       "    <tr>\n",
       "      <th>1</th>\n",
       "      <td>353.0</td>\n",
       "      <td>3.0</td>\n",
       "      <td>1335</td>\n",
       "      <td>1.0</td>\n",
       "      <td>0.0</td>\n",
       "      <td>1.0</td>\n",
       "      <td>900.0</td>\n",
       "      <td>1</td>\n",
       "    </tr>\n",
       "    <tr>\n",
       "      <th>2</th>\n",
       "      <td>353.0</td>\n",
       "      <td>4.0</td>\n",
       "      <td>1335</td>\n",
       "      <td>1.0</td>\n",
       "      <td>0.0</td>\n",
       "      <td>1.0</td>\n",
       "      <td>900.0</td>\n",
       "      <td>1</td>\n",
       "    </tr>\n",
       "    <tr>\n",
       "      <th>3</th>\n",
       "      <td>353.0</td>\n",
       "      <td>5.0</td>\n",
       "      <td>1335</td>\n",
       "      <td>1.0</td>\n",
       "      <td>0.0</td>\n",
       "      <td>1.0</td>\n",
       "      <td>900.0</td>\n",
       "      <td>1</td>\n",
       "    </tr>\n",
       "    <tr>\n",
       "      <th>4</th>\n",
       "      <td>353.0</td>\n",
       "      <td>6.0</td>\n",
       "      <td>1335</td>\n",
       "      <td>1.0</td>\n",
       "      <td>0.0</td>\n",
       "      <td>0.0</td>\n",
       "      <td>900.0</td>\n",
       "      <td>1</td>\n",
       "    </tr>\n",
       "  </tbody>\n",
       "</table>\n",
       "</div>"
      ],
      "text/plain": [
       "   Store  DayOfWeek  Customers  Open  Promo  SchoolHoliday  \\\n",
       "0  353.0        2.0       1335   1.0    0.0            1.0   \n",
       "1  353.0        3.0       1335   1.0    0.0            1.0   \n",
       "2  353.0        4.0       1335   1.0    0.0            1.0   \n",
       "3  353.0        5.0       1335   1.0    0.0            1.0   \n",
       "4  353.0        6.0       1335   1.0    0.0            0.0   \n",
       "\n",
       "   CompetitionDistance  Promo2  \n",
       "0                900.0       1  \n",
       "1                900.0       1  \n",
       "2                900.0       1  \n",
       "3                900.0       1  \n",
       "4                900.0       1  "
      ]
     },
     "execution_count": 110,
     "metadata": {},
     "output_type": "execute_result"
    }
   ],
   "source": [
    "X.head()"
   ]
  },
  {
   "cell_type": "code",
   "execution_count": 111,
   "id": "ebf3b404",
   "metadata": {},
   "outputs": [
    {
     "data": {
      "text/plain": [
       "(413964, 8)"
      ]
     },
     "execution_count": 111,
     "metadata": {},
     "output_type": "execute_result"
    }
   ],
   "source": [
    "X.shape"
   ]
  },
  {
   "cell_type": "code",
   "execution_count": 90,
   "id": "de180a5d",
   "metadata": {},
   "outputs": [
    {
     "data": {
      "text/plain": [
       "0    3139.0\n",
       "1    2686.0\n",
       "2    2628.0\n",
       "3    2677.0\n",
       "4    2224.0\n",
       "Name: Sales, dtype: float64"
      ]
     },
     "execution_count": 90,
     "metadata": {},
     "output_type": "execute_result"
    }
   ],
   "source": [
    "y.head()"
   ]
  },
  {
   "cell_type": "code",
   "execution_count": 112,
   "id": "6f14990a",
   "metadata": {},
   "outputs": [
    {
     "data": {
      "text/plain": [
       "(413964,)"
      ]
     },
     "execution_count": 112,
     "metadata": {},
     "output_type": "execute_result"
    }
   ],
   "source": [
    "y.shape"
   ]
  },
  {
   "cell_type": "code",
   "execution_count": 113,
   "id": "b4cde85f",
   "metadata": {},
   "outputs": [],
   "source": [
    "X_train, X_test, y_train, y_test = train_test_split(X, y, test_size=0.33, random_state=42)"
   ]
  },
  {
   "cell_type": "code",
   "execution_count": 115,
   "id": "f1c42a13",
   "metadata": {},
   "outputs": [
    {
     "data": {
      "text/html": [
       "<div>\n",
       "<style scoped>\n",
       "    .dataframe tbody tr th:only-of-type {\n",
       "        vertical-align: middle;\n",
       "    }\n",
       "\n",
       "    .dataframe tbody tr th {\n",
       "        vertical-align: top;\n",
       "    }\n",
       "\n",
       "    .dataframe thead th {\n",
       "        text-align: right;\n",
       "    }\n",
       "</style>\n",
       "<table border=\"1\" class=\"dataframe\">\n",
       "  <thead>\n",
       "    <tr style=\"text-align: right;\">\n",
       "      <th></th>\n",
       "      <th>Store</th>\n",
       "      <th>DayOfWeek</th>\n",
       "      <th>Customers</th>\n",
       "      <th>Open</th>\n",
       "      <th>Promo</th>\n",
       "      <th>SchoolHoliday</th>\n",
       "      <th>CompetitionDistance</th>\n",
       "      <th>Promo2</th>\n",
       "    </tr>\n",
       "  </thead>\n",
       "  <tbody>\n",
       "    <tr>\n",
       "      <th>326034</th>\n",
       "      <td>366.0</td>\n",
       "      <td>4.0</td>\n",
       "      <td>748</td>\n",
       "      <td>1.0</td>\n",
       "      <td>0.0</td>\n",
       "      <td>0.0</td>\n",
       "      <td>6470.0</td>\n",
       "      <td>0</td>\n",
       "    </tr>\n",
       "    <tr>\n",
       "      <th>78686</th>\n",
       "      <td>481.0</td>\n",
       "      <td>6.0</td>\n",
       "      <td>845</td>\n",
       "      <td>1.0</td>\n",
       "      <td>0.0</td>\n",
       "      <td>1.0</td>\n",
       "      <td>7470.0</td>\n",
       "      <td>1</td>\n",
       "    </tr>\n",
       "    <tr>\n",
       "      <th>142898</th>\n",
       "      <td>254.0</td>\n",
       "      <td>1.0</td>\n",
       "      <td>716</td>\n",
       "      <td>1.0</td>\n",
       "      <td>0.0</td>\n",
       "      <td>0.0</td>\n",
       "      <td>330.0</td>\n",
       "      <td>1</td>\n",
       "    </tr>\n",
       "    <tr>\n",
       "      <th>330671</th>\n",
       "      <td>342.0</td>\n",
       "      <td>5.0</td>\n",
       "      <td>762</td>\n",
       "      <td>1.0</td>\n",
       "      <td>1.0</td>\n",
       "      <td>0.0</td>\n",
       "      <td>15770.0</td>\n",
       "      <td>1</td>\n",
       "    </tr>\n",
       "    <tr>\n",
       "      <th>58621</th>\n",
       "      <td>549.0</td>\n",
       "      <td>4.0</td>\n",
       "      <td>782</td>\n",
       "      <td>1.0</td>\n",
       "      <td>1.0</td>\n",
       "      <td>1.0</td>\n",
       "      <td>2330.0</td>\n",
       "      <td>0</td>\n",
       "    </tr>\n",
       "  </tbody>\n",
       "</table>\n",
       "</div>"
      ],
      "text/plain": [
       "        Store  DayOfWeek  Customers  Open  Promo  SchoolHoliday  \\\n",
       "326034  366.0        4.0        748   1.0    0.0            0.0   \n",
       "78686   481.0        6.0        845   1.0    0.0            1.0   \n",
       "142898  254.0        1.0        716   1.0    0.0            0.0   \n",
       "330671  342.0        5.0        762   1.0    1.0            0.0   \n",
       "58621   549.0        4.0        782   1.0    1.0            1.0   \n",
       "\n",
       "        CompetitionDistance  Promo2  \n",
       "326034               6470.0       0  \n",
       "78686                7470.0       1  \n",
       "142898                330.0       1  \n",
       "330671              15770.0       1  \n",
       "58621                2330.0       0  "
      ]
     },
     "execution_count": 115,
     "metadata": {},
     "output_type": "execute_result"
    }
   ],
   "source": [
    "X_train.head()"
   ]
  },
  {
   "cell_type": "code",
   "execution_count": 116,
   "id": "a9b2370d",
   "metadata": {},
   "outputs": [
    {
     "data": {
      "text/html": [
       "<div>\n",
       "<style scoped>\n",
       "    .dataframe tbody tr th:only-of-type {\n",
       "        vertical-align: middle;\n",
       "    }\n",
       "\n",
       "    .dataframe tbody tr th {\n",
       "        vertical-align: top;\n",
       "    }\n",
       "\n",
       "    .dataframe thead th {\n",
       "        text-align: right;\n",
       "    }\n",
       "</style>\n",
       "<table border=\"1\" class=\"dataframe\">\n",
       "  <thead>\n",
       "    <tr style=\"text-align: right;\">\n",
       "      <th></th>\n",
       "      <th>Store</th>\n",
       "      <th>DayOfWeek</th>\n",
       "      <th>Customers</th>\n",
       "      <th>Open</th>\n",
       "      <th>Promo</th>\n",
       "      <th>SchoolHoliday</th>\n",
       "      <th>CompetitionDistance</th>\n",
       "      <th>Promo2</th>\n",
       "    </tr>\n",
       "  </thead>\n",
       "  <tbody>\n",
       "    <tr>\n",
       "      <th>273821</th>\n",
       "      <td>624.0</td>\n",
       "      <td>2.0</td>\n",
       "      <td>756</td>\n",
       "      <td>1.0</td>\n",
       "      <td>1.0</td>\n",
       "      <td>0.0</td>\n",
       "      <td>6920.0</td>\n",
       "      <td>0</td>\n",
       "    </tr>\n",
       "    <tr>\n",
       "      <th>308601</th>\n",
       "      <td>723.0</td>\n",
       "      <td>3.0</td>\n",
       "      <td>786</td>\n",
       "      <td>1.0</td>\n",
       "      <td>0.0</td>\n",
       "      <td>0.0</td>\n",
       "      <td>5650.0</td>\n",
       "      <td>1</td>\n",
       "    </tr>\n",
       "    <tr>\n",
       "      <th>233565</th>\n",
       "      <td>1012.0</td>\n",
       "      <td>3.0</td>\n",
       "      <td>819</td>\n",
       "      <td>1.0</td>\n",
       "      <td>0.0</td>\n",
       "      <td>1.0</td>\n",
       "      <td>6330.0</td>\n",
       "      <td>1</td>\n",
       "    </tr>\n",
       "    <tr>\n",
       "      <th>395961</th>\n",
       "      <td>10.0</td>\n",
       "      <td>1.0</td>\n",
       "      <td>779</td>\n",
       "      <td>1.0</td>\n",
       "      <td>0.0</td>\n",
       "      <td>0.0</td>\n",
       "      <td>3160.0</td>\n",
       "      <td>0</td>\n",
       "    </tr>\n",
       "    <tr>\n",
       "      <th>6238</th>\n",
       "      <td>733.0</td>\n",
       "      <td>4.0</td>\n",
       "      <td>3399</td>\n",
       "      <td>1.0</td>\n",
       "      <td>1.0</td>\n",
       "      <td>0.0</td>\n",
       "      <td>860.0</td>\n",
       "      <td>0</td>\n",
       "    </tr>\n",
       "  </tbody>\n",
       "</table>\n",
       "</div>"
      ],
      "text/plain": [
       "         Store  DayOfWeek  Customers  Open  Promo  SchoolHoliday  \\\n",
       "273821   624.0        2.0        756   1.0    1.0            0.0   \n",
       "308601   723.0        3.0        786   1.0    0.0            0.0   \n",
       "233565  1012.0        3.0        819   1.0    0.0            1.0   \n",
       "395961    10.0        1.0        779   1.0    0.0            0.0   \n",
       "6238     733.0        4.0       3399   1.0    1.0            0.0   \n",
       "\n",
       "        CompetitionDistance  Promo2  \n",
       "273821               6920.0       0  \n",
       "308601               5650.0       1  \n",
       "233565               6330.0       1  \n",
       "395961               3160.0       0  \n",
       "6238                  860.0       0  "
      ]
     },
     "execution_count": 116,
     "metadata": {},
     "output_type": "execute_result"
    }
   ],
   "source": [
    "X_test.head()"
   ]
  },
  {
   "cell_type": "code",
   "execution_count": 117,
   "id": "45c3e0d1",
   "metadata": {},
   "outputs": [
    {
     "data": {
      "text/plain": [
       "326034     5630.0\n",
       "78686      3366.0\n",
       "142898     1560.0\n",
       "330671    10935.0\n",
       "58621      4712.0\n",
       "Name: Sales, dtype: float64"
      ]
     },
     "execution_count": 117,
     "metadata": {},
     "output_type": "execute_result"
    }
   ],
   "source": [
    "y_train.head()"
   ]
  },
  {
   "cell_type": "code",
   "execution_count": 118,
   "id": "64175186",
   "metadata": {},
   "outputs": [
    {
     "data": {
      "text/plain": [
       "273821     7611.0\n",
       "308601     4356.0\n",
       "233565     4484.0\n",
       "395961     4543.0\n",
       "6238      14382.0\n",
       "Name: Sales, dtype: float64"
      ]
     },
     "execution_count": 118,
     "metadata": {},
     "output_type": "execute_result"
    }
   ],
   "source": [
    "y_test.head()"
   ]
  },
  {
   "cell_type": "markdown",
   "id": "99751017",
   "metadata": {},
   "source": [
    "## 5) Balance Positive and Negative Distribution"
   ]
  },
  {
   "cell_type": "code",
   "execution_count": null,
   "id": "19d03551",
   "metadata": {},
   "outputs": [],
   "source": []
  },
  {
   "cell_type": "markdown",
   "id": "ac04618b",
   "metadata": {},
   "source": [
    "## 6) Select Model Features"
   ]
  },
  {
   "cell_type": "code",
   "execution_count": null,
   "id": "16f38cb9",
   "metadata": {},
   "outputs": [],
   "source": []
  },
  {
   "cell_type": "markdown",
   "id": "bb1406ad",
   "metadata": {},
   "source": [
    "## 7) Normalise and Scale"
   ]
  },
  {
   "cell_type": "code",
   "execution_count": null,
   "id": "19c2b1d4",
   "metadata": {},
   "outputs": [],
   "source": []
  },
  {
   "cell_type": "code",
   "execution_count": null,
   "id": "694d8f10",
   "metadata": {},
   "outputs": [],
   "source": []
  },
  {
   "cell_type": "markdown",
   "id": "eec399b9",
   "metadata": {},
   "source": [
    "***"
   ]
  },
  {
   "cell_type": "markdown",
   "id": "81011b41",
   "metadata": {},
   "source": [
    "Data should be model ready by now"
   ]
  },
  {
   "cell_type": "markdown",
   "id": "7eea6e23",
   "metadata": {},
   "source": [
    "***"
   ]
  },
  {
   "cell_type": "markdown",
   "id": "6fecc43f",
   "metadata": {},
   "source": [
    "## 8) Kfolds Cross Validation "
   ]
  },
  {
   "cell_type": "code",
   "execution_count": null,
   "id": "ad552d0f",
   "metadata": {},
   "outputs": [],
   "source": []
  },
  {
   "cell_type": "markdown",
   "id": "6da5bbd9",
   "metadata": {},
   "source": [
    "## 9) Build Models"
   ]
  },
  {
   "cell_type": "code",
   "execution_count": 145,
   "id": "15974e46",
   "metadata": {},
   "outputs": [],
   "source": [
    "def metric(preds, actuals):\n",
    "    preds = preds.reshape(-1)\n",
    "    actuals = actuals.reshape(-1)\n",
    "    assert preds.shape == actuals.shape\n",
    "    return 100 * np.linalg.norm((actuals - preds) / actuals) / np.sqrt(preds.shape[0])"
   ]
  },
  {
   "cell_type": "code",
   "execution_count": 168,
   "id": "f3976b46",
   "metadata": {},
   "outputs": [],
   "source": [
    "def pretty_metric(predictions, actuals, model):\n",
    "    prediction = metric(predictions, actuals)\n",
    "    print(f\"The prediction for {model} is: {round(prediction, 2)}%\")"
   ]
  },
  {
   "cell_type": "markdown",
   "id": "3e2fe50f",
   "metadata": {},
   "source": [
    "### 9.1) Baseline - Mean and Median of Sales"
   ]
  },
  {
   "cell_type": "markdown",
   "id": "ccc57c70",
   "metadata": {},
   "source": [
    "#### 9.1.1) Mean prediction "
   ]
  },
  {
   "cell_type": "code",
   "execution_count": 147,
   "id": "02782311",
   "metadata": {},
   "outputs": [
    {
     "data": {
      "text/plain": [
       "326034     5630.0\n",
       "78686      3366.0\n",
       "142898     1560.0\n",
       "330671    10935.0\n",
       "58621      4712.0\n",
       "           ...   \n",
       "259178     5564.0\n",
       "365838     6670.0\n",
       "131932    11175.0\n",
       "146867     7444.0\n",
       "121958     5562.0\n",
       "Name: Sales, Length: 277355, dtype: float64"
      ]
     },
     "execution_count": 147,
     "metadata": {},
     "output_type": "execute_result"
    }
   ],
   "source": [
    "y_train"
   ]
  },
  {
   "cell_type": "code",
   "execution_count": 151,
   "id": "28c7bbf1",
   "metadata": {},
   "outputs": [],
   "source": [
    "# broadcast the mean predictions \n",
    "mean_predictions = [y_train.mean()]\n",
    "mean_predictions = np.array(mean_predictions * y_test.shape[0])"
   ]
  },
  {
   "cell_type": "code",
   "execution_count": 169,
   "id": "d5d68b17",
   "metadata": {},
   "outputs": [
    {
     "name": "stdout",
     "output_type": "stream",
     "text": [
      "The prediction for Mean Regressor is: 62.34%\n"
     ]
    }
   ],
   "source": [
    "pretty_metric(mean_predictions, y_test.to_numpy(), \"Mean Regressor\")"
   ]
  },
  {
   "cell_type": "markdown",
   "id": "1e2cbe10",
   "metadata": {},
   "source": [
    "### 9.2) Linear Regression"
   ]
  },
  {
   "cell_type": "code",
   "execution_count": 174,
   "id": "ac1de7a3",
   "metadata": {},
   "outputs": [],
   "source": [
    "regressor = LinearRegression().fit(X_train, y_train)"
   ]
  },
  {
   "cell_type": "code",
   "execution_count": 175,
   "id": "60ef7e45",
   "metadata": {},
   "outputs": [],
   "source": [
    "linear_regression_predictions = regressor.predict(X_test)"
   ]
  },
  {
   "cell_type": "code",
   "execution_count": 176,
   "id": "fa31730c",
   "metadata": {},
   "outputs": [
    {
     "name": "stdout",
     "output_type": "stream",
     "text": [
      "The prediction for Mean Regressor is: 48.1%\n"
     ]
    }
   ],
   "source": [
    "pretty_metric(linear_regression_predictions, y_test.to_numpy(), \"Linear Regressor\")"
   ]
  },
  {
   "cell_type": "markdown",
   "id": "3c868bfd",
   "metadata": {},
   "source": [
    "### 9.3) Random Forest "
   ]
  },
  {
   "cell_type": "code",
   "execution_count": 179,
   "id": "0b1a3e9b",
   "metadata": {},
   "outputs": [],
   "source": [
    "regressor_random_forest = RandomForestRegressor(max_depth=2, random_state=0)\n",
    "regressor_random_forest.fit(X_train, y_train)\n",
    "random_forest_predictions = regressor_random_forest.predict(X_test)"
   ]
  },
  {
   "cell_type": "code",
   "execution_count": 180,
   "id": "e17051d9",
   "metadata": {},
   "outputs": [
    {
     "name": "stdout",
     "output_type": "stream",
     "text": [
      "The prediction for Random Forest is: 47.55%\n"
     ]
    }
   ],
   "source": [
    "pretty_metric(random_forest_predictions, y_test.to_numpy(), \"Random Forest\")"
   ]
  },
  {
   "cell_type": "markdown",
   "id": "4ef2239f",
   "metadata": {},
   "source": [
    "#### 9.3.1) What Features did Random Forest use?"
   ]
  },
  {
   "cell_type": "code",
   "execution_count": null,
   "id": "b8ecc62c",
   "metadata": {},
   "outputs": [],
   "source": []
  },
  {
   "cell_type": "markdown",
   "id": "21d56b2f",
   "metadata": {},
   "source": [
    "### 9.4) Xgboost "
   ]
  },
  {
   "cell_type": "code",
   "execution_count": 185,
   "id": "cff3053b",
   "metadata": {},
   "outputs": [],
   "source": [
    "regressor_xgboost = XGBRegressor(n_estimators=1000, max_depth=7, eta=0.1, subsample=0.7, colsample_bytree=0.8)\n",
    "regressor_xgboost.fit(X_train, y_train)\n",
    "xgboost_predictions = regressor_xgboost.predict(X_test)"
   ]
  },
  {
   "cell_type": "code",
   "execution_count": 186,
   "id": "fcb77bdd",
   "metadata": {},
   "outputs": [
    {
     "name": "stdout",
     "output_type": "stream",
     "text": [
      "The prediction for XGBoost is: 28.58%\n"
     ]
    }
   ],
   "source": [
    "pretty_metric(xgboost_predictions, y_test.to_numpy(), \"XGBoost\")"
   ]
  },
  {
   "cell_type": "markdown",
   "id": "44887b97",
   "metadata": {},
   "source": [
    "#### 9.4.1) What Features did Xgboost use?"
   ]
  },
  {
   "cell_type": "code",
   "execution_count": null,
   "id": "2b0bb441",
   "metadata": {},
   "outputs": [],
   "source": []
  },
  {
   "cell_type": "markdown",
   "id": "86ba86fb",
   "metadata": {},
   "source": [
    "## 10) Hyper parameter tuning "
   ]
  },
  {
   "cell_type": "code",
   "execution_count": null,
   "id": "85d1e6c8",
   "metadata": {},
   "outputs": [],
   "source": []
  },
  {
   "cell_type": "markdown",
   "id": "e2b59f5e",
   "metadata": {},
   "source": [
    "### 10.1) Random Hyperparameter Grid"
   ]
  },
  {
   "cell_type": "code",
   "execution_count": 1,
   "id": "f79db5d7",
   "metadata": {},
   "outputs": [],
   "source": [
    "from sklearn.model_selection import RandomizedSearchCV"
   ]
  },
  {
   "cell_type": "code",
   "execution_count": null,
   "id": "6c2ccc54",
   "metadata": {},
   "outputs": [],
   "source": []
  }
 ],
 "metadata": {
  "kernelspec": {
   "display_name": "Python 3",
   "language": "python",
   "name": "python3"
  },
  "language_info": {
   "codemirror_mode": {
    "name": "ipython",
    "version": 3
   },
   "file_extension": ".py",
   "mimetype": "text/x-python",
   "name": "python",
   "nbconvert_exporter": "python",
   "pygments_lexer": "ipython3",
   "version": "3.8.8"
  }
 },
 "nbformat": 4,
 "nbformat_minor": 5
}

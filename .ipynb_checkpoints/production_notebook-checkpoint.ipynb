{
 "cells": [
  {
   "cell_type": "markdown",
   "id": "ab30c84e",
   "metadata": {},
   "source": [
    "# Learnings"
   ]
  },
  {
   "cell_type": "markdown",
   "id": "7dda3392",
   "metadata": {},
   "source": [
    "1. Spent too much time on how to replace nulls in the dataset\n",
    "    - Thought that this was feature engineering but clearly is not 😂\n",
    "    - Should've done this very quickly and instead used that time on adding features and testing them "
   ]
  },
  {
   "cell_type": "markdown",
   "id": "01d244ea",
   "metadata": {},
   "source": [
    "# The Singularity"
   ]
  },
  {
   "cell_type": "code",
   "execution_count": 1,
   "id": "46dfe514",
   "metadata": {},
   "outputs": [],
   "source": [
    "# Notes\n",
    "# put the cleaning of the dataset into 1 big function to clean things up \n",
    "# Think about mean encoding everything\n",
    "# put model into production code using vscode\n",
    "# put helper methods into a python file and import them"
   ]
  },
  {
   "cell_type": "markdown",
   "id": "b730f7ad",
   "metadata": {},
   "source": [
    "**Things to do differently on second iteration**\n",
    "Accounted For\n",
    "1. <font color='red'>Maybe merge the datasets before cleaning them</font>\n",
    "\n",
    "Still to go\n",
    "1. Maybe keep Sales = 0 \n",
    "- - Because sales might be 0 on holidays therefore we might need this information to predict holidays accurately\n",
    "2. For Train We want to investigate further into which rows should be dropped and don't just drop all the null values\n",
    "3. Keep non-numeric columns and find a way to encode them\n",
    "4. How to impute customer number\n",
    "- - Currentlt using the mean for each store\n",
    "5. Remove CompetitionOpenSinceMonth, CompetitionOpenSinceYear - Reasoning: we think the information contained here is already encoded in the CompetitionDistance.\n",
    "6. Use mean sales for each day.\n",
    "- - do we want to use the mean of sales "
   ]
  },
  {
   "cell_type": "markdown",
   "id": "b9f6197e",
   "metadata": {},
   "source": [
    "## 2) Exploratory Data Analysis"
   ]
  },
  {
   "cell_type": "markdown",
   "id": "0ef68b53",
   "metadata": {},
   "source": [
    "### 2.1) Import libraries"
   ]
  },
  {
   "cell_type": "code",
   "execution_count": 2,
   "id": "04b435df",
   "metadata": {},
   "outputs": [],
   "source": [
    "# Basic\n",
    "import pandas as pd\n",
    "import matplotlib.pyplot as plt\n",
    "import seaborn as sns\n",
    "import numpy as np\n",
    "%matplotlib inline"
   ]
  },
  {
   "cell_type": "code",
   "execution_count": 3,
   "id": "c19f8408",
   "metadata": {},
   "outputs": [],
   "source": [
    "# Advanced \n",
    "from sklearn.model_selection import train_test_split\n",
    "from sklearn.linear_model import LinearRegression\n",
    "from sklearn.ensemble import RandomForestRegressor"
   ]
  },
  {
   "cell_type": "code",
   "execution_count": 4,
   "id": "d71fca01",
   "metadata": {},
   "outputs": [],
   "source": [
    "# Super advanced \n",
    "from xgboost import XGBRegressor"
   ]
  },
  {
   "cell_type": "code",
   "execution_count": 5,
   "id": "a5fc7a65",
   "metadata": {},
   "outputs": [],
   "source": [
    "# my modules \n",
    "from helper_methods import *"
   ]
  },
  {
   "cell_type": "markdown",
   "id": "ec28f2be",
   "metadata": {},
   "source": [
    "### 2.2) Locate and Access Data"
   ]
  },
  {
   "cell_type": "code",
   "execution_count": 6,
   "id": "ca9f6a23",
   "metadata": {},
   "outputs": [],
   "source": [
    "# Read in store data\n",
    "df_store = pd.read_csv('./data/store.csv', low_memory=False)\n",
    "\n",
    "# Read in store data\n",
    "df_train = pd.read_csv('./data/train.csv', low_memory=False)"
   ]
  },
  {
   "cell_type": "markdown",
   "id": "5d4760d8",
   "metadata": {},
   "source": [
    "#### 2.2.1) Merge the datasets - Remove nans in sales"
   ]
  },
  {
   "cell_type": "markdown",
   "id": "9960a427",
   "metadata": {},
   "source": [
    "**Remove the nulls in the store column**"
   ]
  },
  {
   "cell_type": "code",
   "execution_count": 7,
   "id": "3792022b",
   "metadata": {},
   "outputs": [],
   "source": [
    "# Store - drop the nulls because we can't impute this \n",
    "df_train_cleaned = df_train.loc[df_train.loc[:, 'Store'].notnull()]"
   ]
  },
  {
   "cell_type": "markdown",
   "id": "430f7840",
   "metadata": {},
   "source": [
    "**Merge the datasets**"
   ]
  },
  {
   "cell_type": "code",
   "execution_count": 8,
   "id": "a4f574d4",
   "metadata": {},
   "outputs": [],
   "source": [
    "# Merge the datasets\n",
    "df_full = pd.merge(df_train_cleaned, df_store, on=[\"Store\"])"
   ]
  },
  {
   "cell_type": "code",
   "execution_count": 9,
   "id": "a0b455d3",
   "metadata": {},
   "outputs": [
    {
     "data": {
      "text/html": [
       "<div>\n",
       "<style scoped>\n",
       "    .dataframe tbody tr th:only-of-type {\n",
       "        vertical-align: middle;\n",
       "    }\n",
       "\n",
       "    .dataframe tbody tr th {\n",
       "        vertical-align: top;\n",
       "    }\n",
       "\n",
       "    .dataframe thead th {\n",
       "        text-align: right;\n",
       "    }\n",
       "</style>\n",
       "<table border=\"1\" class=\"dataframe\">\n",
       "  <thead>\n",
       "    <tr style=\"text-align: right;\">\n",
       "      <th></th>\n",
       "      <th>Date</th>\n",
       "      <th>Store</th>\n",
       "      <th>DayOfWeek</th>\n",
       "      <th>Sales</th>\n",
       "      <th>Customers</th>\n",
       "      <th>Open</th>\n",
       "      <th>Promo</th>\n",
       "      <th>StateHoliday</th>\n",
       "      <th>SchoolHoliday</th>\n",
       "      <th>StoreType</th>\n",
       "      <th>Assortment</th>\n",
       "      <th>CompetitionDistance</th>\n",
       "      <th>CompetitionOpenSinceMonth</th>\n",
       "      <th>CompetitionOpenSinceYear</th>\n",
       "      <th>Promo2</th>\n",
       "      <th>Promo2SinceWeek</th>\n",
       "      <th>Promo2SinceYear</th>\n",
       "      <th>PromoInterval</th>\n",
       "    </tr>\n",
       "  </thead>\n",
       "  <tbody>\n",
       "    <tr>\n",
       "      <th>0</th>\n",
       "      <td>2013-01-01</td>\n",
       "      <td>1115.0</td>\n",
       "      <td>2.0</td>\n",
       "      <td>0.0</td>\n",
       "      <td>0.0</td>\n",
       "      <td>0.0</td>\n",
       "      <td>0.0</td>\n",
       "      <td>a</td>\n",
       "      <td>1.0</td>\n",
       "      <td>d</td>\n",
       "      <td>c</td>\n",
       "      <td>5350.0</td>\n",
       "      <td>NaN</td>\n",
       "      <td>NaN</td>\n",
       "      <td>1</td>\n",
       "      <td>22.0</td>\n",
       "      <td>2012.0</td>\n",
       "      <td>Mar,Jun,Sept,Dec</td>\n",
       "    </tr>\n",
       "    <tr>\n",
       "      <th>1</th>\n",
       "      <td>2013-01-02</td>\n",
       "      <td>1115.0</td>\n",
       "      <td>3.0</td>\n",
       "      <td>3697.0</td>\n",
       "      <td>305.0</td>\n",
       "      <td>1.0</td>\n",
       "      <td>0.0</td>\n",
       "      <td>0</td>\n",
       "      <td>1.0</td>\n",
       "      <td>d</td>\n",
       "      <td>c</td>\n",
       "      <td>5350.0</td>\n",
       "      <td>NaN</td>\n",
       "      <td>NaN</td>\n",
       "      <td>1</td>\n",
       "      <td>22.0</td>\n",
       "      <td>2012.0</td>\n",
       "      <td>Mar,Jun,Sept,Dec</td>\n",
       "    </tr>\n",
       "    <tr>\n",
       "      <th>2</th>\n",
       "      <td>2013-01-03</td>\n",
       "      <td>1115.0</td>\n",
       "      <td>4.0</td>\n",
       "      <td>4297.0</td>\n",
       "      <td>300.0</td>\n",
       "      <td>1.0</td>\n",
       "      <td>0.0</td>\n",
       "      <td>0</td>\n",
       "      <td>1.0</td>\n",
       "      <td>d</td>\n",
       "      <td>c</td>\n",
       "      <td>5350.0</td>\n",
       "      <td>NaN</td>\n",
       "      <td>NaN</td>\n",
       "      <td>1</td>\n",
       "      <td>22.0</td>\n",
       "      <td>2012.0</td>\n",
       "      <td>Mar,Jun,Sept,Dec</td>\n",
       "    </tr>\n",
       "    <tr>\n",
       "      <th>3</th>\n",
       "      <td>2013-01-04</td>\n",
       "      <td>1115.0</td>\n",
       "      <td>5.0</td>\n",
       "      <td>4540.0</td>\n",
       "      <td>326.0</td>\n",
       "      <td>1.0</td>\n",
       "      <td>0.0</td>\n",
       "      <td>0</td>\n",
       "      <td>1.0</td>\n",
       "      <td>d</td>\n",
       "      <td>c</td>\n",
       "      <td>5350.0</td>\n",
       "      <td>NaN</td>\n",
       "      <td>NaN</td>\n",
       "      <td>1</td>\n",
       "      <td>22.0</td>\n",
       "      <td>2012.0</td>\n",
       "      <td>Mar,Jun,Sept,Dec</td>\n",
       "    </tr>\n",
       "    <tr>\n",
       "      <th>4</th>\n",
       "      <td>2013-01-05</td>\n",
       "      <td>1115.0</td>\n",
       "      <td>6.0</td>\n",
       "      <td>4771.0</td>\n",
       "      <td>339.0</td>\n",
       "      <td>1.0</td>\n",
       "      <td>0.0</td>\n",
       "      <td>0</td>\n",
       "      <td>1.0</td>\n",
       "      <td>d</td>\n",
       "      <td>c</td>\n",
       "      <td>5350.0</td>\n",
       "      <td>NaN</td>\n",
       "      <td>NaN</td>\n",
       "      <td>1</td>\n",
       "      <td>22.0</td>\n",
       "      <td>2012.0</td>\n",
       "      <td>Mar,Jun,Sept,Dec</td>\n",
       "    </tr>\n",
       "  </tbody>\n",
       "</table>\n",
       "</div>"
      ],
      "text/plain": [
       "         Date   Store  DayOfWeek   Sales  Customers  Open  Promo StateHoliday  \\\n",
       "0  2013-01-01  1115.0        2.0     0.0        0.0   0.0    0.0            a   \n",
       "1  2013-01-02  1115.0        3.0  3697.0      305.0   1.0    0.0            0   \n",
       "2  2013-01-03  1115.0        4.0  4297.0      300.0   1.0    0.0            0   \n",
       "3  2013-01-04  1115.0        5.0  4540.0      326.0   1.0    0.0            0   \n",
       "4  2013-01-05  1115.0        6.0  4771.0      339.0   1.0    0.0            0   \n",
       "\n",
       "   SchoolHoliday StoreType Assortment  CompetitionDistance  \\\n",
       "0            1.0         d          c               5350.0   \n",
       "1            1.0         d          c               5350.0   \n",
       "2            1.0         d          c               5350.0   \n",
       "3            1.0         d          c               5350.0   \n",
       "4            1.0         d          c               5350.0   \n",
       "\n",
       "   CompetitionOpenSinceMonth  CompetitionOpenSinceYear  Promo2  \\\n",
       "0                        NaN                       NaN       1   \n",
       "1                        NaN                       NaN       1   \n",
       "2                        NaN                       NaN       1   \n",
       "3                        NaN                       NaN       1   \n",
       "4                        NaN                       NaN       1   \n",
       "\n",
       "   Promo2SinceWeek  Promo2SinceYear     PromoInterval  \n",
       "0             22.0           2012.0  Mar,Jun,Sept,Dec  \n",
       "1             22.0           2012.0  Mar,Jun,Sept,Dec  \n",
       "2             22.0           2012.0  Mar,Jun,Sept,Dec  \n",
       "3             22.0           2012.0  Mar,Jun,Sept,Dec  \n",
       "4             22.0           2012.0  Mar,Jun,Sept,Dec  "
      ]
     },
     "execution_count": 9,
     "metadata": {},
     "output_type": "execute_result"
    }
   ],
   "source": [
    "df_full.head()"
   ]
  },
  {
   "cell_type": "code",
   "execution_count": 10,
   "id": "b0d6d120",
   "metadata": {},
   "outputs": [
    {
     "data": {
      "text/plain": [
       "(618473, 18)"
      ]
     },
     "execution_count": 10,
     "metadata": {},
     "output_type": "execute_result"
    }
   ],
   "source": [
    "df_full.shape"
   ]
  },
  {
   "cell_type": "markdown",
   "id": "fd9bf3fb",
   "metadata": {},
   "source": [
    "#### 2.2.2) Remove Nan sales "
   ]
  },
  {
   "cell_type": "code",
   "execution_count": 11,
   "id": "1dc3d7ab",
   "metadata": {},
   "outputs": [],
   "source": [
    "# Drop where sales are null\n",
    "df_full_cleaned = df_full.loc[df_full.loc[:, 'Sales'].notnull()]"
   ]
  },
  {
   "cell_type": "code",
   "execution_count": 12,
   "id": "d8c10d14",
   "metadata": {},
   "outputs": [
    {
     "name": "stdout",
     "output_type": "stream",
     "text": [
      "Percentage of original data is 97.02%\n"
     ]
    }
   ],
   "source": [
    "print_percentage_of_original_data(df_full_cleaned)"
   ]
  },
  {
   "cell_type": "markdown",
   "id": "b4035204",
   "metadata": {},
   "source": [
    "## 3) Add Features"
   ]
  },
  {
   "cell_type": "markdown",
   "id": "abdb7c7b",
   "metadata": {},
   "source": [
    "**Add Year and Month Features**"
   ]
  },
  {
   "cell_type": "code",
   "execution_count": 13,
   "id": "2a03834b",
   "metadata": {},
   "outputs": [],
   "source": [
    "# df_full_cleaned.loc[:, 'Year'] = pd.DatetimeIndex(df_full_cleaned['Date']).year\n",
    "# df_full_cleaned.loc[:, 'Month'] = pd.DatetimeIndex(df_full_cleaned['Date']).month"
   ]
  },
  {
   "cell_type": "markdown",
   "id": "3452a54f",
   "metadata": {},
   "source": [
    "## 3) Clean Data"
   ]
  },
  {
   "cell_type": "markdown",
   "id": "120fd29b",
   "metadata": {},
   "source": [
    "### 3.1) Cut Features with too many missing values"
   ]
  },
  {
   "cell_type": "code",
   "execution_count": 14,
   "id": "6fb0ffa4",
   "metadata": {},
   "outputs": [
    {
     "data": {
      "text/plain": [
       "Date                          0.000000\n",
       "Store                         0.000000\n",
       "DayOfWeek                     2.893578\n",
       "Sales                         0.000000\n",
       "Customers                     2.904573\n",
       "Open                          2.924461\n",
       "Promo                         2.941115\n",
       "StateHoliday                  2.917508\n",
       "SchoolHoliday                 2.947421\n",
       "StoreType                     0.000000\n",
       "Assortment                    0.000000\n",
       "CompetitionDistance           0.255306\n",
       "CompetitionOpenSinceMonth    30.819130\n",
       "CompetitionOpenSinceYear     30.819130\n",
       "Promo2                        0.000000\n",
       "Promo2SinceWeek              47.615822\n",
       "Promo2SinceYear              47.615822\n",
       "PromoInterval                47.615822\n",
       "dtype: float64"
      ]
     },
     "execution_count": 14,
     "metadata": {},
     "output_type": "execute_result"
    }
   ],
   "source": [
    "df_full_cleaned.isnull().sum() / df_full.shape[0] * 100"
   ]
  },
  {
   "cell_type": "code",
   "execution_count": 15,
   "id": "37c0d261",
   "metadata": {},
   "outputs": [
    {
     "data": {
      "text/html": [
       "<div>\n",
       "<style scoped>\n",
       "    .dataframe tbody tr th:only-of-type {\n",
       "        vertical-align: middle;\n",
       "    }\n",
       "\n",
       "    .dataframe tbody tr th {\n",
       "        vertical-align: top;\n",
       "    }\n",
       "\n",
       "    .dataframe thead th {\n",
       "        text-align: right;\n",
       "    }\n",
       "</style>\n",
       "<table border=\"1\" class=\"dataframe\">\n",
       "  <thead>\n",
       "    <tr style=\"text-align: right;\">\n",
       "      <th></th>\n",
       "      <th>Date</th>\n",
       "      <th>Store</th>\n",
       "      <th>DayOfWeek</th>\n",
       "      <th>Sales</th>\n",
       "      <th>Customers</th>\n",
       "      <th>Open</th>\n",
       "      <th>Promo</th>\n",
       "      <th>StateHoliday</th>\n",
       "      <th>SchoolHoliday</th>\n",
       "      <th>StoreType</th>\n",
       "      <th>Assortment</th>\n",
       "      <th>CompetitionDistance</th>\n",
       "      <th>CompetitionOpenSinceMonth</th>\n",
       "      <th>CompetitionOpenSinceYear</th>\n",
       "      <th>Promo2</th>\n",
       "      <th>Promo2SinceWeek</th>\n",
       "      <th>Promo2SinceYear</th>\n",
       "      <th>PromoInterval</th>\n",
       "    </tr>\n",
       "  </thead>\n",
       "  <tbody>\n",
       "    <tr>\n",
       "      <th>0</th>\n",
       "      <td>2013-01-01</td>\n",
       "      <td>1115.0</td>\n",
       "      <td>2.0</td>\n",
       "      <td>0.0</td>\n",
       "      <td>0.0</td>\n",
       "      <td>0.0</td>\n",
       "      <td>0.0</td>\n",
       "      <td>a</td>\n",
       "      <td>1.0</td>\n",
       "      <td>d</td>\n",
       "      <td>c</td>\n",
       "      <td>5350.0</td>\n",
       "      <td>NaN</td>\n",
       "      <td>NaN</td>\n",
       "      <td>1</td>\n",
       "      <td>22.0</td>\n",
       "      <td>2012.0</td>\n",
       "      <td>Mar,Jun,Sept,Dec</td>\n",
       "    </tr>\n",
       "    <tr>\n",
       "      <th>1</th>\n",
       "      <td>2013-01-02</td>\n",
       "      <td>1115.0</td>\n",
       "      <td>3.0</td>\n",
       "      <td>3697.0</td>\n",
       "      <td>305.0</td>\n",
       "      <td>1.0</td>\n",
       "      <td>0.0</td>\n",
       "      <td>0</td>\n",
       "      <td>1.0</td>\n",
       "      <td>d</td>\n",
       "      <td>c</td>\n",
       "      <td>5350.0</td>\n",
       "      <td>NaN</td>\n",
       "      <td>NaN</td>\n",
       "      <td>1</td>\n",
       "      <td>22.0</td>\n",
       "      <td>2012.0</td>\n",
       "      <td>Mar,Jun,Sept,Dec</td>\n",
       "    </tr>\n",
       "    <tr>\n",
       "      <th>2</th>\n",
       "      <td>2013-01-03</td>\n",
       "      <td>1115.0</td>\n",
       "      <td>4.0</td>\n",
       "      <td>4297.0</td>\n",
       "      <td>300.0</td>\n",
       "      <td>1.0</td>\n",
       "      <td>0.0</td>\n",
       "      <td>0</td>\n",
       "      <td>1.0</td>\n",
       "      <td>d</td>\n",
       "      <td>c</td>\n",
       "      <td>5350.0</td>\n",
       "      <td>NaN</td>\n",
       "      <td>NaN</td>\n",
       "      <td>1</td>\n",
       "      <td>22.0</td>\n",
       "      <td>2012.0</td>\n",
       "      <td>Mar,Jun,Sept,Dec</td>\n",
       "    </tr>\n",
       "    <tr>\n",
       "      <th>3</th>\n",
       "      <td>2013-01-04</td>\n",
       "      <td>1115.0</td>\n",
       "      <td>5.0</td>\n",
       "      <td>4540.0</td>\n",
       "      <td>326.0</td>\n",
       "      <td>1.0</td>\n",
       "      <td>0.0</td>\n",
       "      <td>0</td>\n",
       "      <td>1.0</td>\n",
       "      <td>d</td>\n",
       "      <td>c</td>\n",
       "      <td>5350.0</td>\n",
       "      <td>NaN</td>\n",
       "      <td>NaN</td>\n",
       "      <td>1</td>\n",
       "      <td>22.0</td>\n",
       "      <td>2012.0</td>\n",
       "      <td>Mar,Jun,Sept,Dec</td>\n",
       "    </tr>\n",
       "    <tr>\n",
       "      <th>4</th>\n",
       "      <td>2013-01-05</td>\n",
       "      <td>1115.0</td>\n",
       "      <td>6.0</td>\n",
       "      <td>4771.0</td>\n",
       "      <td>339.0</td>\n",
       "      <td>1.0</td>\n",
       "      <td>0.0</td>\n",
       "      <td>0</td>\n",
       "      <td>1.0</td>\n",
       "      <td>d</td>\n",
       "      <td>c</td>\n",
       "      <td>5350.0</td>\n",
       "      <td>NaN</td>\n",
       "      <td>NaN</td>\n",
       "      <td>1</td>\n",
       "      <td>22.0</td>\n",
       "      <td>2012.0</td>\n",
       "      <td>Mar,Jun,Sept,Dec</td>\n",
       "    </tr>\n",
       "  </tbody>\n",
       "</table>\n",
       "</div>"
      ],
      "text/plain": [
       "         Date   Store  DayOfWeek   Sales  Customers  Open  Promo StateHoliday  \\\n",
       "0  2013-01-01  1115.0        2.0     0.0        0.0   0.0    0.0            a   \n",
       "1  2013-01-02  1115.0        3.0  3697.0      305.0   1.0    0.0            0   \n",
       "2  2013-01-03  1115.0        4.0  4297.0      300.0   1.0    0.0            0   \n",
       "3  2013-01-04  1115.0        5.0  4540.0      326.0   1.0    0.0            0   \n",
       "4  2013-01-05  1115.0        6.0  4771.0      339.0   1.0    0.0            0   \n",
       "\n",
       "   SchoolHoliday StoreType Assortment  CompetitionDistance  \\\n",
       "0            1.0         d          c               5350.0   \n",
       "1            1.0         d          c               5350.0   \n",
       "2            1.0         d          c               5350.0   \n",
       "3            1.0         d          c               5350.0   \n",
       "4            1.0         d          c               5350.0   \n",
       "\n",
       "   CompetitionOpenSinceMonth  CompetitionOpenSinceYear  Promo2  \\\n",
       "0                        NaN                       NaN       1   \n",
       "1                        NaN                       NaN       1   \n",
       "2                        NaN                       NaN       1   \n",
       "3                        NaN                       NaN       1   \n",
       "4                        NaN                       NaN       1   \n",
       "\n",
       "   Promo2SinceWeek  Promo2SinceYear     PromoInterval  \n",
       "0             22.0           2012.0  Mar,Jun,Sept,Dec  \n",
       "1             22.0           2012.0  Mar,Jun,Sept,Dec  \n",
       "2             22.0           2012.0  Mar,Jun,Sept,Dec  \n",
       "3             22.0           2012.0  Mar,Jun,Sept,Dec  \n",
       "4             22.0           2012.0  Mar,Jun,Sept,Dec  "
      ]
     },
     "execution_count": 15,
     "metadata": {},
     "output_type": "execute_result"
    }
   ],
   "source": [
    "df_full_cleaned.head()"
   ]
  },
  {
   "cell_type": "markdown",
   "id": "8cdb95b3",
   "metadata": {},
   "source": [
    "**Competition Distance**"
   ]
  },
  {
   "cell_type": "code",
   "execution_count": 16,
   "id": "c6536662",
   "metadata": {},
   "outputs": [
    {
     "name": "stderr",
     "output_type": "stream",
     "text": [
      "/Users/grahamherdman/opt/anaconda3/lib/python3.8/site-packages/pandas/core/indexing.py:1743: SettingWithCopyWarning: \n",
      "A value is trying to be set on a copy of a slice from a DataFrame.\n",
      "Try using .loc[row_indexer,col_indexer] = value instead\n",
      "\n",
      "See the caveats in the documentation: https://pandas.pydata.org/pandas-docs/stable/user_guide/indexing.html#returning-a-view-versus-a-copy\n",
      "  isetter(ilocs[0], value)\n"
     ]
    }
   ],
   "source": [
    "# calculate the mean for CompetitionDistance\n",
    "mean_competition_distance = df_full_cleaned.loc[:, 'CompetitionDistance'].mean()\n",
    "\n",
    "# fill the competition distance with the mean \n",
    "df_full_cleaned.loc[:, \"CompetitionDistance\"] = df_full_cleaned.loc[:, \"CompetitionDistance\"].fillna(mean_competition_distance)\n"
   ]
  },
  {
   "cell_type": "code",
   "execution_count": 17,
   "id": "59bfde41",
   "metadata": {},
   "outputs": [
    {
     "data": {
      "text/plain": [
       "Date                          0.000000\n",
       "Store                         0.000000\n",
       "DayOfWeek                     2.893578\n",
       "Sales                         0.000000\n",
       "Customers                     2.904573\n",
       "Open                          2.924461\n",
       "Promo                         2.941115\n",
       "StateHoliday                  2.917508\n",
       "SchoolHoliday                 2.947421\n",
       "StoreType                     0.000000\n",
       "Assortment                    0.000000\n",
       "CompetitionDistance           0.000000\n",
       "CompetitionOpenSinceMonth    30.819130\n",
       "CompetitionOpenSinceYear     30.819130\n",
       "Promo2                        0.000000\n",
       "Promo2SinceWeek              47.615822\n",
       "Promo2SinceYear              47.615822\n",
       "PromoInterval                47.615822\n",
       "dtype: float64"
      ]
     },
     "execution_count": 17,
     "metadata": {},
     "output_type": "execute_result"
    }
   ],
   "source": [
    "df_full_cleaned.isnull().sum() / df_full.shape[0] * 100"
   ]
  },
  {
   "cell_type": "markdown",
   "id": "60a55154",
   "metadata": {},
   "source": [
    "**Remove CompetitionOpenSinceMonth, CompetitionOpenSinceYear**"
   ]
  },
  {
   "cell_type": "code",
   "execution_count": 18,
   "id": "050f97f9",
   "metadata": {},
   "outputs": [],
   "source": [
    "# Remove CompetitionOpenSinceMonth, CompetitionOpenSinceYear\n",
    "# Reasoning: we think the information contained here is already encoded in the CompetitionDistance."
   ]
  },
  {
   "cell_type": "code",
   "execution_count": 19,
   "id": "8e86d242",
   "metadata": {},
   "outputs": [
    {
     "data": {
      "text/plain": [
       "NaN     190608\n",
       "9.0      67270\n",
       "4.0      50907\n",
       "11.0     49568\n",
       "3.0      37608\n",
       "7.0      35777\n",
       "12.0     34368\n",
       "10.0     32806\n",
       "6.0      26921\n",
       "5.0      23580\n",
       "2.0      22087\n",
       "8.0      21053\n",
       "1.0       7475\n",
       "Name: CompetitionOpenSinceMonth, dtype: int64"
      ]
     },
     "execution_count": 19,
     "metadata": {},
     "output_type": "execute_result"
    }
   ],
   "source": [
    "df_full_cleaned.loc[:, \"CompetitionOpenSinceMonth\"].value_counts(dropna=False)"
   ]
  },
  {
   "cell_type": "code",
   "execution_count": 20,
   "id": "c4af3db8",
   "metadata": {},
   "outputs": [
    {
     "data": {
      "text/plain": [
       "NaN       190608\n",
       "2013.0     44592\n",
       "2012.0     44025\n",
       "2014.0     37598\n",
       "2005.0     33350\n",
       "2010.0     29749\n",
       "2011.0     29128\n",
       "2009.0     29097\n",
       "2008.0     28943\n",
       "2007.0     25835\n",
       "2006.0     25304\n",
       "2015.0     20480\n",
       "2002.0     14566\n",
       "2004.0     11795\n",
       "2003.0     10155\n",
       "2001.0      8627\n",
       "2000.0      5391\n",
       "1999.0      4317\n",
       "1990.0      2705\n",
       "1994.0      1087\n",
       "1995.0      1070\n",
       "1998.0       546\n",
       "1961.0       546\n",
       "1900.0       514\n",
       "Name: CompetitionOpenSinceYear, dtype: int64"
      ]
     },
     "execution_count": 20,
     "metadata": {},
     "output_type": "execute_result"
    }
   ],
   "source": [
    "df_full_cleaned.loc[:, \"CompetitionOpenSinceYear\"].value_counts(dropna=False)"
   ]
  },
  {
   "cell_type": "code",
   "execution_count": 21,
   "id": "9e2594cc",
   "metadata": {},
   "outputs": [],
   "source": [
    "all_columns = df_full_cleaned.columns\n",
    "removed_columns = [\"CompetitionOpenSinceMonth\", \"CompetitionOpenSinceYear\"]\n",
    "keep_columns = [col for col in all_columns if col not in removed_columns]\n",
    "\n",
    "df_full_cleaned = df_full_cleaned.loc[:, keep_columns]"
   ]
  },
  {
   "cell_type": "markdown",
   "id": "6a957549",
   "metadata": {},
   "source": [
    "**Remove Promo2SinceWeek, Promo2SinceYear, PromoInterval**\n",
    "<br>\n",
    "Reasoning: They are a large % of the dataset and don't add much predictive power"
   ]
  },
  {
   "cell_type": "code",
   "execution_count": 22,
   "id": "25f0fe7f",
   "metadata": {},
   "outputs": [
    {
     "data": {
      "text/plain": [
       "Date                    0.000000\n",
       "Store                   0.000000\n",
       "DayOfWeek               2.893578\n",
       "Sales                   0.000000\n",
       "Customers               2.904573\n",
       "Open                    2.924461\n",
       "Promo                   2.941115\n",
       "StateHoliday            2.917508\n",
       "SchoolHoliday           2.947421\n",
       "StoreType               0.000000\n",
       "Assortment              0.000000\n",
       "CompetitionDistance     0.000000\n",
       "Promo2                  0.000000\n",
       "Promo2SinceWeek        47.615822\n",
       "Promo2SinceYear        47.615822\n",
       "PromoInterval          47.615822\n",
       "dtype: float64"
      ]
     },
     "execution_count": 22,
     "metadata": {},
     "output_type": "execute_result"
    }
   ],
   "source": [
    "df_full_cleaned.isnull().sum() / df_full.shape[0] * 100"
   ]
  },
  {
   "cell_type": "code",
   "execution_count": 23,
   "id": "3939910f",
   "metadata": {},
   "outputs": [],
   "source": [
    "all_columns = df_full_cleaned.columns\n",
    "removed_columns = [\"Promo2SinceWeek\", \"Promo2SinceYear\", \"PromoInterval\"]\n",
    "keep_columns = [col for col in all_columns if col not in removed_columns]\n",
    "\n",
    "df_full_cleaned = df_full_cleaned.loc[:, keep_columns]"
   ]
  },
  {
   "cell_type": "code",
   "execution_count": 24,
   "id": "ad956a5c",
   "metadata": {},
   "outputs": [
    {
     "data": {
      "text/plain": [
       "Date                   0.000000\n",
       "Store                  0.000000\n",
       "DayOfWeek              2.982527\n",
       "Sales                  0.000000\n",
       "Customers              2.993860\n",
       "Open                   3.014359\n",
       "Promo                  3.031525\n",
       "StateHoliday           3.007193\n",
       "SchoolHoliday          3.038025\n",
       "StoreType              0.000000\n",
       "Assortment             0.000000\n",
       "CompetitionDistance    0.000000\n",
       "Promo2                 0.000000\n",
       "dtype: float64"
      ]
     },
     "execution_count": 24,
     "metadata": {},
     "output_type": "execute_result"
    }
   ],
   "source": [
    "df_full_cleaned.isnull().sum() / df_full_cleaned.shape[0] * 100"
   ]
  },
  {
   "cell_type": "code",
   "execution_count": 25,
   "id": "9812dd3e",
   "metadata": {},
   "outputs": [
    {
     "name": "stdout",
     "output_type": "stream",
     "text": [
      "Percentage of original data is 97.02%\n"
     ]
    }
   ],
   "source": [
    "print_percentage_of_original_data(df_full_cleaned)"
   ]
  },
  {
   "cell_type": "markdown",
   "id": "9aab3674",
   "metadata": {},
   "source": [
    "**DaysOfWeek**\n",
    "<br> \n",
    "- Remove nulls for DayOfWeek as it's a very low percentage"
   ]
  },
  {
   "cell_type": "code",
   "execution_count": 26,
   "id": "f4f27587",
   "metadata": {},
   "outputs": [],
   "source": [
    "day_of_week_mask = df_full_cleaned.loc[:, \"DayOfWeek\"].notnull()\n",
    "df_full_cleaned = df_full_cleaned.loc[day_of_week_mask]"
   ]
  },
  {
   "cell_type": "code",
   "execution_count": 27,
   "id": "5ca0fb46",
   "metadata": {},
   "outputs": [
    {
     "data": {
      "text/plain": [
       "Date                   0.000000\n",
       "Store                  0.000000\n",
       "DayOfWeek              0.000000\n",
       "Sales                  0.000000\n",
       "Customers              2.992792\n",
       "Open                   3.021308\n",
       "Promo                  3.032130\n",
       "StateHoliday           3.007050\n",
       "SchoolHoliday          3.042952\n",
       "StoreType              0.000000\n",
       "Assortment             0.000000\n",
       "CompetitionDistance    0.000000\n",
       "Promo2                 0.000000\n",
       "dtype: float64"
      ]
     },
     "execution_count": 27,
     "metadata": {},
     "output_type": "execute_result"
    }
   ],
   "source": [
    "df_full_cleaned.isnull().sum() / df_full_cleaned.shape[0] * 100"
   ]
  },
  {
   "cell_type": "markdown",
   "id": "409578c3",
   "metadata": {},
   "source": [
    "**Open**\n",
    "<br>\n",
    "- Drop all the closed days because thats when sales should be 0 \n",
    "- Drop this column because we will be dropping all the 0 and null entries for sales"
   ]
  },
  {
   "cell_type": "code",
   "execution_count": 28,
   "id": "d4f17d55",
   "metadata": {},
   "outputs": [
    {
     "data": {
      "text/plain": [
       "0.0    99536\n",
       "1.0       39\n",
       "Name: Open, dtype: int64"
      ]
     },
     "execution_count": 28,
     "metadata": {},
     "output_type": "execute_result"
    }
   ],
   "source": [
    "df_full.loc[df_full.loc[:, 'Sales'].isnull() | df_full.loc[:, 'Sales'] == 0].loc[:, 'Open'].value_counts()"
   ]
  },
  {
   "cell_type": "code",
   "execution_count": 29,
   "id": "c53615bd",
   "metadata": {},
   "outputs": [],
   "source": [
    "# Drop all the closed days\n",
    "df_full_cleaned = df_full_cleaned.loc[df_full_cleaned.loc[:, 'Open'] == 1]"
   ]
  },
  {
   "cell_type": "code",
   "execution_count": 30,
   "id": "532a349a",
   "metadata": {},
   "outputs": [
    {
     "name": "stdout",
     "output_type": "stream",
     "text": [
      "Percentage of original data is 75.67%\n"
     ]
    }
   ],
   "source": [
    "# Let's see how much data we have left again\n",
    "print_percentage_of_original_data(df_full_cleaned)"
   ]
  },
  {
   "cell_type": "code",
   "execution_count": 31,
   "id": "46cc1a30",
   "metadata": {},
   "outputs": [],
   "source": [
    "# Remove the Open column as it now provides no more information\n",
    "all_columns = df_full_cleaned.columns\n",
    "removed_columns = [\"Open\"]\n",
    "keep_columns = [col for col in all_columns if col not in removed_columns]\n",
    "\n",
    "df_full_cleaned = df_full_cleaned.loc[:, keep_columns]"
   ]
  },
  {
   "cell_type": "code",
   "execution_count": 32,
   "id": "d78a65db",
   "metadata": {},
   "outputs": [
    {
     "data": {
      "text/plain": [
       "Date                   0.000000\n",
       "Store                  0.000000\n",
       "DayOfWeek              0.000000\n",
       "Sales                  0.000000\n",
       "Customers              3.003303\n",
       "Promo                  3.010141\n",
       "StateHoliday           3.025525\n",
       "SchoolHoliday          3.031507\n",
       "StoreType              0.000000\n",
       "Assortment             0.000000\n",
       "CompetitionDistance    0.000000\n",
       "Promo2                 0.000000\n",
       "dtype: float64"
      ]
     },
     "execution_count": 32,
     "metadata": {},
     "output_type": "execute_result"
    }
   ],
   "source": [
    "df_full_cleaned.isnull().sum() / df_full_cleaned.shape[0] * 100"
   ]
  },
  {
   "cell_type": "markdown",
   "id": "acf04961",
   "metadata": {},
   "source": [
    "**Customers**\n",
    "- Use the mean for customers because we will not know how many customers are going into the store ahead of time in the future"
   ]
  },
  {
   "cell_type": "code",
   "execution_count": 33,
   "id": "eeb7b756",
   "metadata": {},
   "outputs": [],
   "source": [
    "mean_customers = df_full_cleaned.groupby('Store')['Customers'].transform('mean').astype('int')\n",
    "df_full_cleaned.loc[:, 'average_customers_per_store'] = mean_customers\n",
    "df_full_cleaned = df_full_cleaned.drop([\"Customers\"], axis=1)"
   ]
  },
  {
   "cell_type": "code",
   "execution_count": 34,
   "id": "c795a8d4",
   "metadata": {},
   "outputs": [
    {
     "data": {
      "text/plain": [
       "Date                           0.000000\n",
       "Store                          0.000000\n",
       "DayOfWeek                      0.000000\n",
       "Sales                          0.000000\n",
       "Promo                          3.010141\n",
       "StateHoliday                   3.025525\n",
       "SchoolHoliday                  3.031507\n",
       "StoreType                      0.000000\n",
       "Assortment                     0.000000\n",
       "CompetitionDistance            0.000000\n",
       "Promo2                         0.000000\n",
       "average_customers_per_store    0.000000\n",
       "dtype: float64"
      ]
     },
     "execution_count": 34,
     "metadata": {},
     "output_type": "execute_result"
    }
   ],
   "source": [
    "df_full_cleaned.isnull().sum() / df_full_cleaned.shape[0] * 100"
   ]
  },
  {
   "cell_type": "markdown",
   "id": "2b87e755",
   "metadata": {},
   "source": [
    "**Promo**\n",
    "- Fill all the nulls for promo as default not happening"
   ]
  },
  {
   "cell_type": "code",
   "execution_count": 35,
   "id": "d8b686e9",
   "metadata": {},
   "outputs": [],
   "source": [
    "df_full_cleaned.loc[:, \"Promo\"] = df_full_cleaned.loc[:, \"Promo\"].fillna(0)"
   ]
  },
  {
   "cell_type": "code",
   "execution_count": 36,
   "id": "db70266f",
   "metadata": {},
   "outputs": [
    {
     "data": {
      "text/plain": [
       "Date                           0.000000\n",
       "Store                          0.000000\n",
       "DayOfWeek                      0.000000\n",
       "Sales                          0.000000\n",
       "Promo                          0.000000\n",
       "StateHoliday                   3.025525\n",
       "SchoolHoliday                  3.031507\n",
       "StoreType                      0.000000\n",
       "Assortment                     0.000000\n",
       "CompetitionDistance            0.000000\n",
       "Promo2                         0.000000\n",
       "average_customers_per_store    0.000000\n",
       "dtype: float64"
      ]
     },
     "execution_count": 36,
     "metadata": {},
     "output_type": "execute_result"
    }
   ],
   "source": [
    "df_full_cleaned.isnull().sum() / df_full_cleaned.shape[0] * 100"
   ]
  },
  {
   "cell_type": "markdown",
   "id": "8bb00a4c",
   "metadata": {},
   "source": [
    "**StateHoliday**\n",
    "- one hot encode"
   ]
  },
  {
   "cell_type": "code",
   "execution_count": 37,
   "id": "141e7aa6",
   "metadata": {},
   "outputs": [
    {
     "data": {
      "text/plain": [
       "StateHoliday\n",
       "0    6833.558326\n",
       "a    8236.919060\n",
       "b    9652.107143\n",
       "c    8566.941176\n",
       "Name: Sales, dtype: float64"
      ]
     },
     "execution_count": 37,
     "metadata": {},
     "output_type": "execute_result"
    }
   ],
   "source": [
    "# Check the mean sales per holiday type\n",
    "df_full_cleaned.groupby(\"StateHoliday\").mean().loc[:, \"Sales\"]"
   ]
  },
  {
   "cell_type": "code",
   "execution_count": 38,
   "id": "748e6772",
   "metadata": {},
   "outputs": [
    {
     "data": {
      "text/plain": [
       "0      453357\n",
       "NaN     14160\n",
       "a         383\n",
       "b          84\n",
       "c          34\n",
       "Name: StateHoliday, dtype: int64"
      ]
     },
     "execution_count": 38,
     "metadata": {},
     "output_type": "execute_result"
    }
   ],
   "source": [
    "# Check how many observations for each holiday type\n",
    "df_full_cleaned.loc[:, \"StateHoliday\"].value_counts(dropna=False)"
   ]
  },
  {
   "cell_type": "code",
   "execution_count": 39,
   "id": "38778fec",
   "metadata": {},
   "outputs": [],
   "source": [
    "# make dummy variables for public holidats, easter holidays and christmas\n",
    "if \"public_holiday\" not in df_full_cleaned.columns:\n",
    "    state_holiday_dummies = pd.get_dummies(df_full_cleaned.loc[:, 'StateHoliday'])\n",
    "    state_holiday_dummies = state_holiday_dummies.drop([\"0\"], axis=1)\n",
    "    state_holiday_dummies.columns = [\"public_holiday\", \"easter_holiday\", \"christmas\"]\n",
    "    df_full_cleaned = pd.concat([df_full_cleaned, state_holiday_dummies], axis=1).drop(\"StateHoliday\", axis=1)"
   ]
  },
  {
   "cell_type": "code",
   "execution_count": 40,
   "id": "17f12880",
   "metadata": {},
   "outputs": [
    {
     "data": {
      "text/html": [
       "<div>\n",
       "<style scoped>\n",
       "    .dataframe tbody tr th:only-of-type {\n",
       "        vertical-align: middle;\n",
       "    }\n",
       "\n",
       "    .dataframe tbody tr th {\n",
       "        vertical-align: top;\n",
       "    }\n",
       "\n",
       "    .dataframe thead th {\n",
       "        text-align: right;\n",
       "    }\n",
       "</style>\n",
       "<table border=\"1\" class=\"dataframe\">\n",
       "  <thead>\n",
       "    <tr style=\"text-align: right;\">\n",
       "      <th></th>\n",
       "      <th>Date</th>\n",
       "      <th>Store</th>\n",
       "      <th>DayOfWeek</th>\n",
       "      <th>Sales</th>\n",
       "      <th>Promo</th>\n",
       "      <th>SchoolHoliday</th>\n",
       "      <th>StoreType</th>\n",
       "      <th>Assortment</th>\n",
       "      <th>CompetitionDistance</th>\n",
       "      <th>Promo2</th>\n",
       "      <th>average_customers_per_store</th>\n",
       "      <th>public_holiday</th>\n",
       "      <th>easter_holiday</th>\n",
       "      <th>christmas</th>\n",
       "    </tr>\n",
       "  </thead>\n",
       "  <tbody>\n",
       "    <tr>\n",
       "      <th>1</th>\n",
       "      <td>2013-01-02</td>\n",
       "      <td>1115.0</td>\n",
       "      <td>3.0</td>\n",
       "      <td>3697.0</td>\n",
       "      <td>0.0</td>\n",
       "      <td>1.0</td>\n",
       "      <td>d</td>\n",
       "      <td>c</td>\n",
       "      <td>5350.0</td>\n",
       "      <td>1</td>\n",
       "      <td>407</td>\n",
       "      <td>0</td>\n",
       "      <td>0</td>\n",
       "      <td>0</td>\n",
       "    </tr>\n",
       "    <tr>\n",
       "      <th>2</th>\n",
       "      <td>2013-01-03</td>\n",
       "      <td>1115.0</td>\n",
       "      <td>4.0</td>\n",
       "      <td>4297.0</td>\n",
       "      <td>0.0</td>\n",
       "      <td>1.0</td>\n",
       "      <td>d</td>\n",
       "      <td>c</td>\n",
       "      <td>5350.0</td>\n",
       "      <td>1</td>\n",
       "      <td>407</td>\n",
       "      <td>0</td>\n",
       "      <td>0</td>\n",
       "      <td>0</td>\n",
       "    </tr>\n",
       "    <tr>\n",
       "      <th>3</th>\n",
       "      <td>2013-01-04</td>\n",
       "      <td>1115.0</td>\n",
       "      <td>5.0</td>\n",
       "      <td>4540.0</td>\n",
       "      <td>0.0</td>\n",
       "      <td>1.0</td>\n",
       "      <td>d</td>\n",
       "      <td>c</td>\n",
       "      <td>5350.0</td>\n",
       "      <td>1</td>\n",
       "      <td>407</td>\n",
       "      <td>0</td>\n",
       "      <td>0</td>\n",
       "      <td>0</td>\n",
       "    </tr>\n",
       "    <tr>\n",
       "      <th>4</th>\n",
       "      <td>2013-01-05</td>\n",
       "      <td>1115.0</td>\n",
       "      <td>6.0</td>\n",
       "      <td>4771.0</td>\n",
       "      <td>0.0</td>\n",
       "      <td>1.0</td>\n",
       "      <td>d</td>\n",
       "      <td>c</td>\n",
       "      <td>5350.0</td>\n",
       "      <td>1</td>\n",
       "      <td>407</td>\n",
       "      <td>0</td>\n",
       "      <td>0</td>\n",
       "      <td>0</td>\n",
       "    </tr>\n",
       "    <tr>\n",
       "      <th>6</th>\n",
       "      <td>2013-01-07</td>\n",
       "      <td>1115.0</td>\n",
       "      <td>1.0</td>\n",
       "      <td>6905.0</td>\n",
       "      <td>1.0</td>\n",
       "      <td>1.0</td>\n",
       "      <td>d</td>\n",
       "      <td>c</td>\n",
       "      <td>5350.0</td>\n",
       "      <td>1</td>\n",
       "      <td>407</td>\n",
       "      <td>0</td>\n",
       "      <td>0</td>\n",
       "      <td>0</td>\n",
       "    </tr>\n",
       "    <tr>\n",
       "      <th>...</th>\n",
       "      <td>...</td>\n",
       "      <td>...</td>\n",
       "      <td>...</td>\n",
       "      <td>...</td>\n",
       "      <td>...</td>\n",
       "      <td>...</td>\n",
       "      <td>...</td>\n",
       "      <td>...</td>\n",
       "      <td>...</td>\n",
       "      <td>...</td>\n",
       "      <td>...</td>\n",
       "      <td>...</td>\n",
       "      <td>...</td>\n",
       "      <td>...</td>\n",
       "    </tr>\n",
       "    <tr>\n",
       "      <th>618467</th>\n",
       "      <td>2014-06-25</td>\n",
       "      <td>127.0</td>\n",
       "      <td>3.0</td>\n",
       "      <td>3575.0</td>\n",
       "      <td>0.0</td>\n",
       "      <td>0.0</td>\n",
       "      <td>d</td>\n",
       "      <td>a</td>\n",
       "      <td>1350.0</td>\n",
       "      <td>1</td>\n",
       "      <td>656</td>\n",
       "      <td>0</td>\n",
       "      <td>0</td>\n",
       "      <td>0</td>\n",
       "    </tr>\n",
       "    <tr>\n",
       "      <th>618468</th>\n",
       "      <td>2014-06-26</td>\n",
       "      <td>127.0</td>\n",
       "      <td>4.0</td>\n",
       "      <td>3335.0</td>\n",
       "      <td>0.0</td>\n",
       "      <td>0.0</td>\n",
       "      <td>d</td>\n",
       "      <td>a</td>\n",
       "      <td>1350.0</td>\n",
       "      <td>1</td>\n",
       "      <td>656</td>\n",
       "      <td>0</td>\n",
       "      <td>0</td>\n",
       "      <td>0</td>\n",
       "    </tr>\n",
       "    <tr>\n",
       "      <th>618469</th>\n",
       "      <td>2014-06-27</td>\n",
       "      <td>127.0</td>\n",
       "      <td>5.0</td>\n",
       "      <td>4724.0</td>\n",
       "      <td>0.0</td>\n",
       "      <td>0.0</td>\n",
       "      <td>d</td>\n",
       "      <td>a</td>\n",
       "      <td>1350.0</td>\n",
       "      <td>1</td>\n",
       "      <td>656</td>\n",
       "      <td>0</td>\n",
       "      <td>0</td>\n",
       "      <td>0</td>\n",
       "    </tr>\n",
       "    <tr>\n",
       "      <th>618470</th>\n",
       "      <td>2014-06-28</td>\n",
       "      <td>127.0</td>\n",
       "      <td>6.0</td>\n",
       "      <td>5398.0</td>\n",
       "      <td>0.0</td>\n",
       "      <td>0.0</td>\n",
       "      <td>d</td>\n",
       "      <td>a</td>\n",
       "      <td>1350.0</td>\n",
       "      <td>1</td>\n",
       "      <td>656</td>\n",
       "      <td>0</td>\n",
       "      <td>0</td>\n",
       "      <td>0</td>\n",
       "    </tr>\n",
       "    <tr>\n",
       "      <th>618472</th>\n",
       "      <td>2014-06-30</td>\n",
       "      <td>127.0</td>\n",
       "      <td>1.0</td>\n",
       "      <td>12410.0</td>\n",
       "      <td>1.0</td>\n",
       "      <td>0.0</td>\n",
       "      <td>d</td>\n",
       "      <td>a</td>\n",
       "      <td>1350.0</td>\n",
       "      <td>1</td>\n",
       "      <td>656</td>\n",
       "      <td>0</td>\n",
       "      <td>0</td>\n",
       "      <td>0</td>\n",
       "    </tr>\n",
       "  </tbody>\n",
       "</table>\n",
       "<p>468018 rows × 14 columns</p>\n",
       "</div>"
      ],
      "text/plain": [
       "              Date   Store  DayOfWeek    Sales  Promo  SchoolHoliday  \\\n",
       "1       2013-01-02  1115.0        3.0   3697.0    0.0            1.0   \n",
       "2       2013-01-03  1115.0        4.0   4297.0    0.0            1.0   \n",
       "3       2013-01-04  1115.0        5.0   4540.0    0.0            1.0   \n",
       "4       2013-01-05  1115.0        6.0   4771.0    0.0            1.0   \n",
       "6       2013-01-07  1115.0        1.0   6905.0    1.0            1.0   \n",
       "...            ...     ...        ...      ...    ...            ...   \n",
       "618467  2014-06-25   127.0        3.0   3575.0    0.0            0.0   \n",
       "618468  2014-06-26   127.0        4.0   3335.0    0.0            0.0   \n",
       "618469  2014-06-27   127.0        5.0   4724.0    0.0            0.0   \n",
       "618470  2014-06-28   127.0        6.0   5398.0    0.0            0.0   \n",
       "618472  2014-06-30   127.0        1.0  12410.0    1.0            0.0   \n",
       "\n",
       "       StoreType Assortment  CompetitionDistance  Promo2  \\\n",
       "1              d          c               5350.0       1   \n",
       "2              d          c               5350.0       1   \n",
       "3              d          c               5350.0       1   \n",
       "4              d          c               5350.0       1   \n",
       "6              d          c               5350.0       1   \n",
       "...          ...        ...                  ...     ...   \n",
       "618467         d          a               1350.0       1   \n",
       "618468         d          a               1350.0       1   \n",
       "618469         d          a               1350.0       1   \n",
       "618470         d          a               1350.0       1   \n",
       "618472         d          a               1350.0       1   \n",
       "\n",
       "        average_customers_per_store  public_holiday  easter_holiday  christmas  \n",
       "1                               407               0               0          0  \n",
       "2                               407               0               0          0  \n",
       "3                               407               0               0          0  \n",
       "4                               407               0               0          0  \n",
       "6                               407               0               0          0  \n",
       "...                             ...             ...             ...        ...  \n",
       "618467                          656               0               0          0  \n",
       "618468                          656               0               0          0  \n",
       "618469                          656               0               0          0  \n",
       "618470                          656               0               0          0  \n",
       "618472                          656               0               0          0  \n",
       "\n",
       "[468018 rows x 14 columns]"
      ]
     },
     "execution_count": 40,
     "metadata": {},
     "output_type": "execute_result"
    }
   ],
   "source": [
    "df_full_cleaned"
   ]
  },
  {
   "cell_type": "code",
   "execution_count": 41,
   "id": "caddfbe7",
   "metadata": {},
   "outputs": [
    {
     "data": {
      "text/plain": [
       "Date                           0.000000\n",
       "Store                          0.000000\n",
       "DayOfWeek                      0.000000\n",
       "Sales                          0.000000\n",
       "Promo                          0.000000\n",
       "SchoolHoliday                  3.031507\n",
       "StoreType                      0.000000\n",
       "Assortment                     0.000000\n",
       "CompetitionDistance            0.000000\n",
       "Promo2                         0.000000\n",
       "average_customers_per_store    0.000000\n",
       "public_holiday                 0.000000\n",
       "easter_holiday                 0.000000\n",
       "christmas                      0.000000\n",
       "dtype: float64"
      ]
     },
     "execution_count": 41,
     "metadata": {},
     "output_type": "execute_result"
    }
   ],
   "source": [
    "df_full_cleaned.isnull().sum() / df_full_cleaned.shape[0] * 100"
   ]
  },
  {
   "cell_type": "markdown",
   "id": "82d10031",
   "metadata": {},
   "source": [
    "**SchoolHoliday**\n",
    "- one hot encode"
   ]
  },
  {
   "cell_type": "code",
   "execution_count": 42,
   "id": "7883f20f",
   "metadata": {},
   "outputs": [
    {
     "data": {
      "text/plain": [
       "SchoolHoliday\n",
       "0.0    6781.914584\n",
       "1.0    7077.576963\n",
       "Name: Sales, dtype: float64"
      ]
     },
     "execution_count": 42,
     "metadata": {},
     "output_type": "execute_result"
    }
   ],
   "source": [
    "# Check if there is a correlation between sales at all\n",
    "df_full_cleaned.groupby(\"SchoolHoliday\").mean().loc[:, \"Sales\"]"
   ]
  },
  {
   "cell_type": "code",
   "execution_count": 43,
   "id": "e53d1362",
   "metadata": {},
   "outputs": [],
   "source": [
    "school_holiday_dummies = pd.get_dummies(df_full_cleaned.loc[:, 'SchoolHoliday'])\n",
    "school_holiday_dummies.columns = [\"not_school_holiday\", \"school_holiday\"]\n",
    "df_full_cleaned = pd.concat([df_full_cleaned, school_holiday_dummies], axis=1).drop(\"SchoolHoliday\", axis=1)"
   ]
  },
  {
   "cell_type": "code",
   "execution_count": 44,
   "id": "2786efb3",
   "metadata": {},
   "outputs": [
    {
     "data": {
      "text/plain": [
       "Date                           0.0\n",
       "Store                          0.0\n",
       "DayOfWeek                      0.0\n",
       "Sales                          0.0\n",
       "Promo                          0.0\n",
       "StoreType                      0.0\n",
       "Assortment                     0.0\n",
       "CompetitionDistance            0.0\n",
       "Promo2                         0.0\n",
       "average_customers_per_store    0.0\n",
       "public_holiday                 0.0\n",
       "easter_holiday                 0.0\n",
       "christmas                      0.0\n",
       "not_school_holiday             0.0\n",
       "school_holiday                 0.0\n",
       "dtype: float64"
      ]
     },
     "execution_count": 44,
     "metadata": {},
     "output_type": "execute_result"
    }
   ],
   "source": [
    "df_full_cleaned.isnull().sum() / df_full_cleaned.shape[0] * 100"
   ]
  },
  {
   "cell_type": "code",
   "execution_count": 45,
   "id": "7ee50df5",
   "metadata": {},
   "outputs": [
    {
     "name": "stdout",
     "output_type": "stream",
     "text": [
      "Percentage of original data is 75.67%\n"
     ]
    }
   ],
   "source": [
    "print_percentage_of_original_data(df_full_cleaned)"
   ]
  },
  {
   "cell_type": "markdown",
   "id": "6bace5a3",
   "metadata": {},
   "source": [
    "**Sales**\n",
    "- Remove where sales are 0 as we cannot test the accuracy for these observations"
   ]
  },
  {
   "cell_type": "code",
   "execution_count": 46,
   "id": "29030ba0",
   "metadata": {},
   "outputs": [],
   "source": [
    "# drop the rows where sales are 0\n",
    "df_full_cleaned = df_full_cleaned.loc[df_full_cleaned.loc[:, \"Sales\"] != 0]"
   ]
  },
  {
   "cell_type": "markdown",
   "id": "92360636",
   "metadata": {},
   "source": [
    "## 4) Encode Data"
   ]
  },
  {
   "cell_type": "code",
   "execution_count": 47,
   "id": "6432732d",
   "metadata": {},
   "outputs": [
    {
     "data": {
      "text/plain": [
       "Date                            object\n",
       "Store                          float64\n",
       "DayOfWeek                      float64\n",
       "Sales                          float64\n",
       "Promo                          float64\n",
       "StoreType                       object\n",
       "Assortment                      object\n",
       "CompetitionDistance            float64\n",
       "Promo2                           int64\n",
       "average_customers_per_store      int64\n",
       "public_holiday                   uint8\n",
       "easter_holiday                   uint8\n",
       "christmas                        uint8\n",
       "not_school_holiday               uint8\n",
       "school_holiday                   uint8\n",
       "dtype: object"
      ]
     },
     "execution_count": 47,
     "metadata": {},
     "output_type": "execute_result"
    }
   ],
   "source": [
    "# Check the data types\n",
    "df_full_cleaned.dtypes"
   ]
  },
  {
   "cell_type": "markdown",
   "id": "e5555332",
   "metadata": {},
   "source": [
    "**Date**\n",
    "- Drop date because we already have some of this information encoded in the DayOfWeek"
   ]
  },
  {
   "cell_type": "code",
   "execution_count": 48,
   "id": "5abd88a7",
   "metadata": {},
   "outputs": [],
   "source": [
    "df_full_cleaned = df_full_cleaned.drop([\"Date\"], axis=1)"
   ]
  },
  {
   "cell_type": "markdown",
   "id": "4d29cc17",
   "metadata": {},
   "source": [
    "**Store**\n",
    "- Mean encode"
   ]
  },
  {
   "cell_type": "code",
   "execution_count": 49,
   "id": "c3984a94",
   "metadata": {},
   "outputs": [],
   "source": [
    "df_full_cleaned.loc[:, \"Store\"] = df_full_cleaned.groupby('Store')['Sales'].transform('mean')"
   ]
  },
  {
   "cell_type": "code",
   "execution_count": 50,
   "id": "3ba71c40",
   "metadata": {},
   "outputs": [],
   "source": [
    "current_columns = list(df_full_cleaned.columns)\n",
    "current_columns[0] = \"average_sales_per_store\"\n",
    "df_full_cleaned.columns = current_columns"
   ]
  },
  {
   "cell_type": "markdown",
   "id": "9d0d478a",
   "metadata": {},
   "source": [
    "**DayOfWeek**\n",
    "- Create dummy variables"
   ]
  },
  {
   "cell_type": "code",
   "execution_count": 52,
   "id": "da214231",
   "metadata": {},
   "outputs": [],
   "source": [
    "if \"monday\" not in df_full_cleaned.columns:\n",
    "    day_of_week_dummies = pd.get_dummies(df_full_cleaned.loc[:, 'DayOfWeek'])\n",
    "    day_of_week_dummies.columns = [\"monday\", \"tuesday\", \"wednesday\", \"thursday\", \"friday\", \"saturday\", \"sunday\"]\n",
    "    df_full_cleaned = pd.concat([df_full_cleaned, day_of_week_dummies], axis=1)"
   ]
  },
  {
   "cell_type": "markdown",
   "id": "27e92fc2",
   "metadata": {},
   "source": [
    "**Store Type**\n",
    "- one hot encode these "
   ]
  },
  {
   "cell_type": "code",
   "execution_count": 53,
   "id": "1f9d5771",
   "metadata": {},
   "outputs": [
    {
     "data": {
      "text/plain": [
       "a    252494\n",
       "d    145008\n",
       "c     62078\n",
       "b      8401\n",
       "Name: StoreType, dtype: int64"
      ]
     },
     "execution_count": 53,
     "metadata": {},
     "output_type": "execute_result"
    }
   ],
   "source": [
    "# check the different categories\n",
    "df_full_cleaned.loc[:, \"StoreType\"].value_counts(dropna=False)"
   ]
  },
  {
   "cell_type": "code",
   "execution_count": 54,
   "id": "295bc08f",
   "metadata": {},
   "outputs": [],
   "source": [
    "if \"store_model_1\" not in df_full_cleaned.columns:\n",
    "    store_type_dummies = pd.get_dummies(df_full_cleaned.loc[:, 'StoreType'])\n",
    "    store_type_dummies.columns = [\"store_model_1\", \"store_model_2\", \"store_model_3\", \"store_model_4\"]\n",
    "    df_full_cleaned = pd.concat([df_full_cleaned, store_type_dummies], axis=1)"
   ]
  },
  {
   "cell_type": "code",
   "execution_count": 55,
   "id": "2981c4d9",
   "metadata": {},
   "outputs": [
    {
     "data": {
      "text/html": [
       "<div>\n",
       "<style scoped>\n",
       "    .dataframe tbody tr th:only-of-type {\n",
       "        vertical-align: middle;\n",
       "    }\n",
       "\n",
       "    .dataframe tbody tr th {\n",
       "        vertical-align: top;\n",
       "    }\n",
       "\n",
       "    .dataframe thead th {\n",
       "        text-align: right;\n",
       "    }\n",
       "</style>\n",
       "<table border=\"1\" class=\"dataframe\">\n",
       "  <thead>\n",
       "    <tr style=\"text-align: right;\">\n",
       "      <th></th>\n",
       "      <th>average_sales_per_store</th>\n",
       "      <th>DayOfWeek</th>\n",
       "      <th>Sales</th>\n",
       "      <th>Promo</th>\n",
       "      <th>StoreType</th>\n",
       "      <th>Assortment</th>\n",
       "      <th>CompetitionDistance</th>\n",
       "      <th>Promo2</th>\n",
       "      <th>average_customers_per_store</th>\n",
       "      <th>public_holiday</th>\n",
       "      <th>...</th>\n",
       "      <th>tuesday</th>\n",
       "      <th>wednesday</th>\n",
       "      <th>thursday</th>\n",
       "      <th>friday</th>\n",
       "      <th>saturday</th>\n",
       "      <th>sunday</th>\n",
       "      <th>store_model_1</th>\n",
       "      <th>store_model_2</th>\n",
       "      <th>store_model_3</th>\n",
       "      <th>store_model_4</th>\n",
       "    </tr>\n",
       "  </thead>\n",
       "  <tbody>\n",
       "    <tr>\n",
       "      <th>1</th>\n",
       "      <td>5854.450704</td>\n",
       "      <td>3.0</td>\n",
       "      <td>3697.0</td>\n",
       "      <td>0.0</td>\n",
       "      <td>d</td>\n",
       "      <td>c</td>\n",
       "      <td>5350.0</td>\n",
       "      <td>1</td>\n",
       "      <td>407</td>\n",
       "      <td>0</td>\n",
       "      <td>...</td>\n",
       "      <td>0</td>\n",
       "      <td>1</td>\n",
       "      <td>0</td>\n",
       "      <td>0</td>\n",
       "      <td>0</td>\n",
       "      <td>0</td>\n",
       "      <td>0</td>\n",
       "      <td>0</td>\n",
       "      <td>0</td>\n",
       "      <td>1</td>\n",
       "    </tr>\n",
       "    <tr>\n",
       "      <th>2</th>\n",
       "      <td>5854.450704</td>\n",
       "      <td>4.0</td>\n",
       "      <td>4297.0</td>\n",
       "      <td>0.0</td>\n",
       "      <td>d</td>\n",
       "      <td>c</td>\n",
       "      <td>5350.0</td>\n",
       "      <td>1</td>\n",
       "      <td>407</td>\n",
       "      <td>0</td>\n",
       "      <td>...</td>\n",
       "      <td>0</td>\n",
       "      <td>0</td>\n",
       "      <td>1</td>\n",
       "      <td>0</td>\n",
       "      <td>0</td>\n",
       "      <td>0</td>\n",
       "      <td>0</td>\n",
       "      <td>0</td>\n",
       "      <td>0</td>\n",
       "      <td>1</td>\n",
       "    </tr>\n",
       "    <tr>\n",
       "      <th>3</th>\n",
       "      <td>5854.450704</td>\n",
       "      <td>5.0</td>\n",
       "      <td>4540.0</td>\n",
       "      <td>0.0</td>\n",
       "      <td>d</td>\n",
       "      <td>c</td>\n",
       "      <td>5350.0</td>\n",
       "      <td>1</td>\n",
       "      <td>407</td>\n",
       "      <td>0</td>\n",
       "      <td>...</td>\n",
       "      <td>0</td>\n",
       "      <td>0</td>\n",
       "      <td>0</td>\n",
       "      <td>1</td>\n",
       "      <td>0</td>\n",
       "      <td>0</td>\n",
       "      <td>0</td>\n",
       "      <td>0</td>\n",
       "      <td>0</td>\n",
       "      <td>1</td>\n",
       "    </tr>\n",
       "    <tr>\n",
       "      <th>4</th>\n",
       "      <td>5854.450704</td>\n",
       "      <td>6.0</td>\n",
       "      <td>4771.0</td>\n",
       "      <td>0.0</td>\n",
       "      <td>d</td>\n",
       "      <td>c</td>\n",
       "      <td>5350.0</td>\n",
       "      <td>1</td>\n",
       "      <td>407</td>\n",
       "      <td>0</td>\n",
       "      <td>...</td>\n",
       "      <td>0</td>\n",
       "      <td>0</td>\n",
       "      <td>0</td>\n",
       "      <td>0</td>\n",
       "      <td>1</td>\n",
       "      <td>0</td>\n",
       "      <td>0</td>\n",
       "      <td>0</td>\n",
       "      <td>0</td>\n",
       "      <td>1</td>\n",
       "    </tr>\n",
       "    <tr>\n",
       "      <th>6</th>\n",
       "      <td>5854.450704</td>\n",
       "      <td>1.0</td>\n",
       "      <td>6905.0</td>\n",
       "      <td>1.0</td>\n",
       "      <td>d</td>\n",
       "      <td>c</td>\n",
       "      <td>5350.0</td>\n",
       "      <td>1</td>\n",
       "      <td>407</td>\n",
       "      <td>0</td>\n",
       "      <td>...</td>\n",
       "      <td>0</td>\n",
       "      <td>0</td>\n",
       "      <td>0</td>\n",
       "      <td>0</td>\n",
       "      <td>0</td>\n",
       "      <td>0</td>\n",
       "      <td>0</td>\n",
       "      <td>0</td>\n",
       "      <td>0</td>\n",
       "      <td>1</td>\n",
       "    </tr>\n",
       "    <tr>\n",
       "      <th>...</th>\n",
       "      <td>...</td>\n",
       "      <td>...</td>\n",
       "      <td>...</td>\n",
       "      <td>...</td>\n",
       "      <td>...</td>\n",
       "      <td>...</td>\n",
       "      <td>...</td>\n",
       "      <td>...</td>\n",
       "      <td>...</td>\n",
       "      <td>...</td>\n",
       "      <td>...</td>\n",
       "      <td>...</td>\n",
       "      <td>...</td>\n",
       "      <td>...</td>\n",
       "      <td>...</td>\n",
       "      <td>...</td>\n",
       "      <td>...</td>\n",
       "      <td>...</td>\n",
       "      <td>...</td>\n",
       "      <td>...</td>\n",
       "      <td>...</td>\n",
       "    </tr>\n",
       "    <tr>\n",
       "      <th>618467</th>\n",
       "      <td>5194.825436</td>\n",
       "      <td>3.0</td>\n",
       "      <td>3575.0</td>\n",
       "      <td>0.0</td>\n",
       "      <td>d</td>\n",
       "      <td>a</td>\n",
       "      <td>1350.0</td>\n",
       "      <td>1</td>\n",
       "      <td>656</td>\n",
       "      <td>0</td>\n",
       "      <td>...</td>\n",
       "      <td>0</td>\n",
       "      <td>1</td>\n",
       "      <td>0</td>\n",
       "      <td>0</td>\n",
       "      <td>0</td>\n",
       "      <td>0</td>\n",
       "      <td>0</td>\n",
       "      <td>0</td>\n",
       "      <td>0</td>\n",
       "      <td>1</td>\n",
       "    </tr>\n",
       "    <tr>\n",
       "      <th>618468</th>\n",
       "      <td>5194.825436</td>\n",
       "      <td>4.0</td>\n",
       "      <td>3335.0</td>\n",
       "      <td>0.0</td>\n",
       "      <td>d</td>\n",
       "      <td>a</td>\n",
       "      <td>1350.0</td>\n",
       "      <td>1</td>\n",
       "      <td>656</td>\n",
       "      <td>0</td>\n",
       "      <td>...</td>\n",
       "      <td>0</td>\n",
       "      <td>0</td>\n",
       "      <td>1</td>\n",
       "      <td>0</td>\n",
       "      <td>0</td>\n",
       "      <td>0</td>\n",
       "      <td>0</td>\n",
       "      <td>0</td>\n",
       "      <td>0</td>\n",
       "      <td>1</td>\n",
       "    </tr>\n",
       "    <tr>\n",
       "      <th>618469</th>\n",
       "      <td>5194.825436</td>\n",
       "      <td>5.0</td>\n",
       "      <td>4724.0</td>\n",
       "      <td>0.0</td>\n",
       "      <td>d</td>\n",
       "      <td>a</td>\n",
       "      <td>1350.0</td>\n",
       "      <td>1</td>\n",
       "      <td>656</td>\n",
       "      <td>0</td>\n",
       "      <td>...</td>\n",
       "      <td>0</td>\n",
       "      <td>0</td>\n",
       "      <td>0</td>\n",
       "      <td>1</td>\n",
       "      <td>0</td>\n",
       "      <td>0</td>\n",
       "      <td>0</td>\n",
       "      <td>0</td>\n",
       "      <td>0</td>\n",
       "      <td>1</td>\n",
       "    </tr>\n",
       "    <tr>\n",
       "      <th>618470</th>\n",
       "      <td>5194.825436</td>\n",
       "      <td>6.0</td>\n",
       "      <td>5398.0</td>\n",
       "      <td>0.0</td>\n",
       "      <td>d</td>\n",
       "      <td>a</td>\n",
       "      <td>1350.0</td>\n",
       "      <td>1</td>\n",
       "      <td>656</td>\n",
       "      <td>0</td>\n",
       "      <td>...</td>\n",
       "      <td>0</td>\n",
       "      <td>0</td>\n",
       "      <td>0</td>\n",
       "      <td>0</td>\n",
       "      <td>1</td>\n",
       "      <td>0</td>\n",
       "      <td>0</td>\n",
       "      <td>0</td>\n",
       "      <td>0</td>\n",
       "      <td>1</td>\n",
       "    </tr>\n",
       "    <tr>\n",
       "      <th>618472</th>\n",
       "      <td>5194.825436</td>\n",
       "      <td>1.0</td>\n",
       "      <td>12410.0</td>\n",
       "      <td>1.0</td>\n",
       "      <td>d</td>\n",
       "      <td>a</td>\n",
       "      <td>1350.0</td>\n",
       "      <td>1</td>\n",
       "      <td>656</td>\n",
       "      <td>0</td>\n",
       "      <td>...</td>\n",
       "      <td>0</td>\n",
       "      <td>0</td>\n",
       "      <td>0</td>\n",
       "      <td>0</td>\n",
       "      <td>0</td>\n",
       "      <td>0</td>\n",
       "      <td>0</td>\n",
       "      <td>0</td>\n",
       "      <td>0</td>\n",
       "      <td>1</td>\n",
       "    </tr>\n",
       "  </tbody>\n",
       "</table>\n",
       "<p>467981 rows × 25 columns</p>\n",
       "</div>"
      ],
      "text/plain": [
       "        average_sales_per_store  DayOfWeek    Sales  Promo StoreType  \\\n",
       "1                   5854.450704        3.0   3697.0    0.0         d   \n",
       "2                   5854.450704        4.0   4297.0    0.0         d   \n",
       "3                   5854.450704        5.0   4540.0    0.0         d   \n",
       "4                   5854.450704        6.0   4771.0    0.0         d   \n",
       "6                   5854.450704        1.0   6905.0    1.0         d   \n",
       "...                         ...        ...      ...    ...       ...   \n",
       "618467              5194.825436        3.0   3575.0    0.0         d   \n",
       "618468              5194.825436        4.0   3335.0    0.0         d   \n",
       "618469              5194.825436        5.0   4724.0    0.0         d   \n",
       "618470              5194.825436        6.0   5398.0    0.0         d   \n",
       "618472              5194.825436        1.0  12410.0    1.0         d   \n",
       "\n",
       "       Assortment  CompetitionDistance  Promo2  average_customers_per_store  \\\n",
       "1               c               5350.0       1                          407   \n",
       "2               c               5350.0       1                          407   \n",
       "3               c               5350.0       1                          407   \n",
       "4               c               5350.0       1                          407   \n",
       "6               c               5350.0       1                          407   \n",
       "...           ...                  ...     ...                          ...   \n",
       "618467          a               1350.0       1                          656   \n",
       "618468          a               1350.0       1                          656   \n",
       "618469          a               1350.0       1                          656   \n",
       "618470          a               1350.0       1                          656   \n",
       "618472          a               1350.0       1                          656   \n",
       "\n",
       "        public_holiday  ...  tuesday  wednesday  thursday  friday  saturday  \\\n",
       "1                    0  ...        0          1         0       0         0   \n",
       "2                    0  ...        0          0         1       0         0   \n",
       "3                    0  ...        0          0         0       1         0   \n",
       "4                    0  ...        0          0         0       0         1   \n",
       "6                    0  ...        0          0         0       0         0   \n",
       "...                ...  ...      ...        ...       ...     ...       ...   \n",
       "618467               0  ...        0          1         0       0         0   \n",
       "618468               0  ...        0          0         1       0         0   \n",
       "618469               0  ...        0          0         0       1         0   \n",
       "618470               0  ...        0          0         0       0         1   \n",
       "618472               0  ...        0          0         0       0         0   \n",
       "\n",
       "        sunday  store_model_1  store_model_2  store_model_3  store_model_4  \n",
       "1            0              0              0              0              1  \n",
       "2            0              0              0              0              1  \n",
       "3            0              0              0              0              1  \n",
       "4            0              0              0              0              1  \n",
       "6            0              0              0              0              1  \n",
       "...        ...            ...            ...            ...            ...  \n",
       "618467       0              0              0              0              1  \n",
       "618468       0              0              0              0              1  \n",
       "618469       0              0              0              0              1  \n",
       "618470       0              0              0              0              1  \n",
       "618472       0              0              0              0              1  \n",
       "\n",
       "[467981 rows x 25 columns]"
      ]
     },
     "execution_count": 55,
     "metadata": {},
     "output_type": "execute_result"
    }
   ],
   "source": [
    "df_full_cleaned"
   ]
  },
  {
   "cell_type": "markdown",
   "id": "86e24f61",
   "metadata": {},
   "source": [
    "**Assortment**\n",
    "- one hot encode"
   ]
  },
  {
   "cell_type": "code",
   "execution_count": 56,
   "id": "a675c8f8",
   "metadata": {},
   "outputs": [],
   "source": [
    "if \"basic\" not in df_full_cleaned.columns:\n",
    "    assortment_dummies = pd.get_dummies(df_full_cleaned.loc[:, 'Assortment'])\n",
    "    assortment_dummies.columns = [\"basic\", \"extra\", \"extended\"]\n",
    "    df_full_cleaned = pd.concat([df_full_cleaned, assortment_dummies], axis=1)"
   ]
  },
  {
   "cell_type": "code",
   "execution_count": 57,
   "id": "5ba29f62",
   "metadata": {},
   "outputs": [
    {
     "data": {
      "text/html": [
       "<div>\n",
       "<style scoped>\n",
       "    .dataframe tbody tr th:only-of-type {\n",
       "        vertical-align: middle;\n",
       "    }\n",
       "\n",
       "    .dataframe tbody tr th {\n",
       "        vertical-align: top;\n",
       "    }\n",
       "\n",
       "    .dataframe thead th {\n",
       "        text-align: right;\n",
       "    }\n",
       "</style>\n",
       "<table border=\"1\" class=\"dataframe\">\n",
       "  <thead>\n",
       "    <tr style=\"text-align: right;\">\n",
       "      <th></th>\n",
       "      <th>average_sales_per_store</th>\n",
       "      <th>DayOfWeek</th>\n",
       "      <th>Sales</th>\n",
       "      <th>Promo</th>\n",
       "      <th>StoreType</th>\n",
       "      <th>Assortment</th>\n",
       "      <th>CompetitionDistance</th>\n",
       "      <th>Promo2</th>\n",
       "      <th>average_customers_per_store</th>\n",
       "      <th>public_holiday</th>\n",
       "      <th>...</th>\n",
       "      <th>friday</th>\n",
       "      <th>saturday</th>\n",
       "      <th>sunday</th>\n",
       "      <th>store_model_1</th>\n",
       "      <th>store_model_2</th>\n",
       "      <th>store_model_3</th>\n",
       "      <th>store_model_4</th>\n",
       "      <th>basic</th>\n",
       "      <th>extra</th>\n",
       "      <th>extended</th>\n",
       "    </tr>\n",
       "  </thead>\n",
       "  <tbody>\n",
       "    <tr>\n",
       "      <th>1</th>\n",
       "      <td>5854.450704</td>\n",
       "      <td>3.0</td>\n",
       "      <td>3697.0</td>\n",
       "      <td>0.0</td>\n",
       "      <td>d</td>\n",
       "      <td>c</td>\n",
       "      <td>5350.0</td>\n",
       "      <td>1</td>\n",
       "      <td>407</td>\n",
       "      <td>0</td>\n",
       "      <td>...</td>\n",
       "      <td>0</td>\n",
       "      <td>0</td>\n",
       "      <td>0</td>\n",
       "      <td>0</td>\n",
       "      <td>0</td>\n",
       "      <td>0</td>\n",
       "      <td>1</td>\n",
       "      <td>0</td>\n",
       "      <td>0</td>\n",
       "      <td>1</td>\n",
       "    </tr>\n",
       "    <tr>\n",
       "      <th>2</th>\n",
       "      <td>5854.450704</td>\n",
       "      <td>4.0</td>\n",
       "      <td>4297.0</td>\n",
       "      <td>0.0</td>\n",
       "      <td>d</td>\n",
       "      <td>c</td>\n",
       "      <td>5350.0</td>\n",
       "      <td>1</td>\n",
       "      <td>407</td>\n",
       "      <td>0</td>\n",
       "      <td>...</td>\n",
       "      <td>0</td>\n",
       "      <td>0</td>\n",
       "      <td>0</td>\n",
       "      <td>0</td>\n",
       "      <td>0</td>\n",
       "      <td>0</td>\n",
       "      <td>1</td>\n",
       "      <td>0</td>\n",
       "      <td>0</td>\n",
       "      <td>1</td>\n",
       "    </tr>\n",
       "    <tr>\n",
       "      <th>3</th>\n",
       "      <td>5854.450704</td>\n",
       "      <td>5.0</td>\n",
       "      <td>4540.0</td>\n",
       "      <td>0.0</td>\n",
       "      <td>d</td>\n",
       "      <td>c</td>\n",
       "      <td>5350.0</td>\n",
       "      <td>1</td>\n",
       "      <td>407</td>\n",
       "      <td>0</td>\n",
       "      <td>...</td>\n",
       "      <td>1</td>\n",
       "      <td>0</td>\n",
       "      <td>0</td>\n",
       "      <td>0</td>\n",
       "      <td>0</td>\n",
       "      <td>0</td>\n",
       "      <td>1</td>\n",
       "      <td>0</td>\n",
       "      <td>0</td>\n",
       "      <td>1</td>\n",
       "    </tr>\n",
       "    <tr>\n",
       "      <th>4</th>\n",
       "      <td>5854.450704</td>\n",
       "      <td>6.0</td>\n",
       "      <td>4771.0</td>\n",
       "      <td>0.0</td>\n",
       "      <td>d</td>\n",
       "      <td>c</td>\n",
       "      <td>5350.0</td>\n",
       "      <td>1</td>\n",
       "      <td>407</td>\n",
       "      <td>0</td>\n",
       "      <td>...</td>\n",
       "      <td>0</td>\n",
       "      <td>1</td>\n",
       "      <td>0</td>\n",
       "      <td>0</td>\n",
       "      <td>0</td>\n",
       "      <td>0</td>\n",
       "      <td>1</td>\n",
       "      <td>0</td>\n",
       "      <td>0</td>\n",
       "      <td>1</td>\n",
       "    </tr>\n",
       "    <tr>\n",
       "      <th>6</th>\n",
       "      <td>5854.450704</td>\n",
       "      <td>1.0</td>\n",
       "      <td>6905.0</td>\n",
       "      <td>1.0</td>\n",
       "      <td>d</td>\n",
       "      <td>c</td>\n",
       "      <td>5350.0</td>\n",
       "      <td>1</td>\n",
       "      <td>407</td>\n",
       "      <td>0</td>\n",
       "      <td>...</td>\n",
       "      <td>0</td>\n",
       "      <td>0</td>\n",
       "      <td>0</td>\n",
       "      <td>0</td>\n",
       "      <td>0</td>\n",
       "      <td>0</td>\n",
       "      <td>1</td>\n",
       "      <td>0</td>\n",
       "      <td>0</td>\n",
       "      <td>1</td>\n",
       "    </tr>\n",
       "    <tr>\n",
       "      <th>...</th>\n",
       "      <td>...</td>\n",
       "      <td>...</td>\n",
       "      <td>...</td>\n",
       "      <td>...</td>\n",
       "      <td>...</td>\n",
       "      <td>...</td>\n",
       "      <td>...</td>\n",
       "      <td>...</td>\n",
       "      <td>...</td>\n",
       "      <td>...</td>\n",
       "      <td>...</td>\n",
       "      <td>...</td>\n",
       "      <td>...</td>\n",
       "      <td>...</td>\n",
       "      <td>...</td>\n",
       "      <td>...</td>\n",
       "      <td>...</td>\n",
       "      <td>...</td>\n",
       "      <td>...</td>\n",
       "      <td>...</td>\n",
       "      <td>...</td>\n",
       "    </tr>\n",
       "    <tr>\n",
       "      <th>618467</th>\n",
       "      <td>5194.825436</td>\n",
       "      <td>3.0</td>\n",
       "      <td>3575.0</td>\n",
       "      <td>0.0</td>\n",
       "      <td>d</td>\n",
       "      <td>a</td>\n",
       "      <td>1350.0</td>\n",
       "      <td>1</td>\n",
       "      <td>656</td>\n",
       "      <td>0</td>\n",
       "      <td>...</td>\n",
       "      <td>0</td>\n",
       "      <td>0</td>\n",
       "      <td>0</td>\n",
       "      <td>0</td>\n",
       "      <td>0</td>\n",
       "      <td>0</td>\n",
       "      <td>1</td>\n",
       "      <td>1</td>\n",
       "      <td>0</td>\n",
       "      <td>0</td>\n",
       "    </tr>\n",
       "    <tr>\n",
       "      <th>618468</th>\n",
       "      <td>5194.825436</td>\n",
       "      <td>4.0</td>\n",
       "      <td>3335.0</td>\n",
       "      <td>0.0</td>\n",
       "      <td>d</td>\n",
       "      <td>a</td>\n",
       "      <td>1350.0</td>\n",
       "      <td>1</td>\n",
       "      <td>656</td>\n",
       "      <td>0</td>\n",
       "      <td>...</td>\n",
       "      <td>0</td>\n",
       "      <td>0</td>\n",
       "      <td>0</td>\n",
       "      <td>0</td>\n",
       "      <td>0</td>\n",
       "      <td>0</td>\n",
       "      <td>1</td>\n",
       "      <td>1</td>\n",
       "      <td>0</td>\n",
       "      <td>0</td>\n",
       "    </tr>\n",
       "    <tr>\n",
       "      <th>618469</th>\n",
       "      <td>5194.825436</td>\n",
       "      <td>5.0</td>\n",
       "      <td>4724.0</td>\n",
       "      <td>0.0</td>\n",
       "      <td>d</td>\n",
       "      <td>a</td>\n",
       "      <td>1350.0</td>\n",
       "      <td>1</td>\n",
       "      <td>656</td>\n",
       "      <td>0</td>\n",
       "      <td>...</td>\n",
       "      <td>1</td>\n",
       "      <td>0</td>\n",
       "      <td>0</td>\n",
       "      <td>0</td>\n",
       "      <td>0</td>\n",
       "      <td>0</td>\n",
       "      <td>1</td>\n",
       "      <td>1</td>\n",
       "      <td>0</td>\n",
       "      <td>0</td>\n",
       "    </tr>\n",
       "    <tr>\n",
       "      <th>618470</th>\n",
       "      <td>5194.825436</td>\n",
       "      <td>6.0</td>\n",
       "      <td>5398.0</td>\n",
       "      <td>0.0</td>\n",
       "      <td>d</td>\n",
       "      <td>a</td>\n",
       "      <td>1350.0</td>\n",
       "      <td>1</td>\n",
       "      <td>656</td>\n",
       "      <td>0</td>\n",
       "      <td>...</td>\n",
       "      <td>0</td>\n",
       "      <td>1</td>\n",
       "      <td>0</td>\n",
       "      <td>0</td>\n",
       "      <td>0</td>\n",
       "      <td>0</td>\n",
       "      <td>1</td>\n",
       "      <td>1</td>\n",
       "      <td>0</td>\n",
       "      <td>0</td>\n",
       "    </tr>\n",
       "    <tr>\n",
       "      <th>618472</th>\n",
       "      <td>5194.825436</td>\n",
       "      <td>1.0</td>\n",
       "      <td>12410.0</td>\n",
       "      <td>1.0</td>\n",
       "      <td>d</td>\n",
       "      <td>a</td>\n",
       "      <td>1350.0</td>\n",
       "      <td>1</td>\n",
       "      <td>656</td>\n",
       "      <td>0</td>\n",
       "      <td>...</td>\n",
       "      <td>0</td>\n",
       "      <td>0</td>\n",
       "      <td>0</td>\n",
       "      <td>0</td>\n",
       "      <td>0</td>\n",
       "      <td>0</td>\n",
       "      <td>1</td>\n",
       "      <td>1</td>\n",
       "      <td>0</td>\n",
       "      <td>0</td>\n",
       "    </tr>\n",
       "  </tbody>\n",
       "</table>\n",
       "<p>467981 rows × 28 columns</p>\n",
       "</div>"
      ],
      "text/plain": [
       "        average_sales_per_store  DayOfWeek    Sales  Promo StoreType  \\\n",
       "1                   5854.450704        3.0   3697.0    0.0         d   \n",
       "2                   5854.450704        4.0   4297.0    0.0         d   \n",
       "3                   5854.450704        5.0   4540.0    0.0         d   \n",
       "4                   5854.450704        6.0   4771.0    0.0         d   \n",
       "6                   5854.450704        1.0   6905.0    1.0         d   \n",
       "...                         ...        ...      ...    ...       ...   \n",
       "618467              5194.825436        3.0   3575.0    0.0         d   \n",
       "618468              5194.825436        4.0   3335.0    0.0         d   \n",
       "618469              5194.825436        5.0   4724.0    0.0         d   \n",
       "618470              5194.825436        6.0   5398.0    0.0         d   \n",
       "618472              5194.825436        1.0  12410.0    1.0         d   \n",
       "\n",
       "       Assortment  CompetitionDistance  Promo2  average_customers_per_store  \\\n",
       "1               c               5350.0       1                          407   \n",
       "2               c               5350.0       1                          407   \n",
       "3               c               5350.0       1                          407   \n",
       "4               c               5350.0       1                          407   \n",
       "6               c               5350.0       1                          407   \n",
       "...           ...                  ...     ...                          ...   \n",
       "618467          a               1350.0       1                          656   \n",
       "618468          a               1350.0       1                          656   \n",
       "618469          a               1350.0       1                          656   \n",
       "618470          a               1350.0       1                          656   \n",
       "618472          a               1350.0       1                          656   \n",
       "\n",
       "        public_holiday  ...  friday  saturday  sunday  store_model_1  \\\n",
       "1                    0  ...       0         0       0              0   \n",
       "2                    0  ...       0         0       0              0   \n",
       "3                    0  ...       1         0       0              0   \n",
       "4                    0  ...       0         1       0              0   \n",
       "6                    0  ...       0         0       0              0   \n",
       "...                ...  ...     ...       ...     ...            ...   \n",
       "618467               0  ...       0         0       0              0   \n",
       "618468               0  ...       0         0       0              0   \n",
       "618469               0  ...       1         0       0              0   \n",
       "618470               0  ...       0         1       0              0   \n",
       "618472               0  ...       0         0       0              0   \n",
       "\n",
       "        store_model_2  store_model_3  store_model_4  basic  extra  extended  \n",
       "1                   0              0              1      0      0         1  \n",
       "2                   0              0              1      0      0         1  \n",
       "3                   0              0              1      0      0         1  \n",
       "4                   0              0              1      0      0         1  \n",
       "6                   0              0              1      0      0         1  \n",
       "...               ...            ...            ...    ...    ...       ...  \n",
       "618467              0              0              1      1      0         0  \n",
       "618468              0              0              1      1      0         0  \n",
       "618469              0              0              1      1      0         0  \n",
       "618470              0              0              1      1      0         0  \n",
       "618472              0              0              1      1      0         0  \n",
       "\n",
       "[467981 rows x 28 columns]"
      ]
     },
     "execution_count": 57,
     "metadata": {},
     "output_type": "execute_result"
    }
   ],
   "source": [
    "df_full_cleaned"
   ]
  },
  {
   "cell_type": "markdown",
   "id": "7e338908",
   "metadata": {},
   "source": [
    "**Competition Distance**"
   ]
  },
  {
   "cell_type": "code",
   "execution_count": 58,
   "id": "6b5b69f7",
   "metadata": {},
   "outputs": [],
   "source": [
    "df_full_cleaned.loc[:, \"CompetitionDistance\"] = np.log(df_full_cleaned['CompetitionDistance'] + 1)"
   ]
  },
  {
   "cell_type": "markdown",
   "id": "03c27ef6",
   "metadata": {},
   "source": [
    "**Drop columns that have been 1 hot encoded**"
   ]
  },
  {
   "cell_type": "code",
   "execution_count": 59,
   "id": "78d8cb52",
   "metadata": {},
   "outputs": [],
   "source": [
    "columns_to_drop = [\"DayOfWeek\", \"StoreType\", \"Assortment\"]\n",
    "df_full_cleaned = df_full_cleaned.drop(columns_to_drop, axis=1)"
   ]
  },
  {
   "cell_type": "code",
   "execution_count": 60,
   "id": "50951ef7",
   "metadata": {},
   "outputs": [
    {
     "data": {
      "text/plain": [
       "average_sales_per_store        float64\n",
       "Sales                          float64\n",
       "Promo                          float64\n",
       "CompetitionDistance            float64\n",
       "Promo2                           int64\n",
       "average_customers_per_store      int64\n",
       "public_holiday                   uint8\n",
       "easter_holiday                   uint8\n",
       "christmas                        uint8\n",
       "not_school_holiday               uint8\n",
       "school_holiday                   uint8\n",
       "monday                           uint8\n",
       "tuesday                          uint8\n",
       "wednesday                        uint8\n",
       "thursday                         uint8\n",
       "friday                           uint8\n",
       "saturday                         uint8\n",
       "sunday                           uint8\n",
       "store_model_1                    uint8\n",
       "store_model_2                    uint8\n",
       "store_model_3                    uint8\n",
       "store_model_4                    uint8\n",
       "basic                            uint8\n",
       "extra                            uint8\n",
       "extended                         uint8\n",
       "dtype: object"
      ]
     },
     "execution_count": 60,
     "metadata": {},
     "output_type": "execute_result"
    }
   ],
   "source": [
    "df_full_cleaned.dtypes"
   ]
  },
  {
   "cell_type": "markdown",
   "id": "fa9eeef9",
   "metadata": {},
   "source": [
    "**Reset the index**"
   ]
  },
  {
   "cell_type": "code",
   "execution_count": 61,
   "id": "73ebf4ef",
   "metadata": {},
   "outputs": [],
   "source": [
    "df_full_cleaned = df_full_cleaned.reset_index(drop=True)"
   ]
  },
  {
   "cell_type": "markdown",
   "id": "01cbaabb",
   "metadata": {},
   "source": [
    "## 5) Normalise and Scale"
   ]
  },
  {
   "cell_type": "markdown",
   "id": "6ec9be38",
   "metadata": {},
   "source": [
    "We will not use any normalisation as we plan on using tree models. Tree models are not affected by normalising or scaling"
   ]
  },
  {
   "cell_type": "markdown",
   "id": "f6adf7d1",
   "metadata": {},
   "source": [
    "## 6) Train, Test, Split"
   ]
  },
  {
   "cell_type": "code",
   "execution_count": 62,
   "id": "2a951ddb",
   "metadata": {},
   "outputs": [],
   "source": [
    "X_columns = list(df_full_cleaned.columns)\n",
    "X_columns.remove(\"Sales\")\n",
    "\n",
    "# create the X, y dataframes\n",
    "X = df_full_cleaned.loc[:, X_columns]\n",
    "y = df_full_cleaned.loc[:, 'Sales']"
   ]
  },
  {
   "cell_type": "code",
   "execution_count": 63,
   "id": "ff754a05",
   "metadata": {},
   "outputs": [
    {
     "data": {
      "text/html": [
       "<div>\n",
       "<style scoped>\n",
       "    .dataframe tbody tr th:only-of-type {\n",
       "        vertical-align: middle;\n",
       "    }\n",
       "\n",
       "    .dataframe tbody tr th {\n",
       "        vertical-align: top;\n",
       "    }\n",
       "\n",
       "    .dataframe thead th {\n",
       "        text-align: right;\n",
       "    }\n",
       "</style>\n",
       "<table border=\"1\" class=\"dataframe\">\n",
       "  <thead>\n",
       "    <tr style=\"text-align: right;\">\n",
       "      <th></th>\n",
       "      <th>average_sales_per_store</th>\n",
       "      <th>Promo</th>\n",
       "      <th>CompetitionDistance</th>\n",
       "      <th>Promo2</th>\n",
       "      <th>average_customers_per_store</th>\n",
       "      <th>public_holiday</th>\n",
       "      <th>easter_holiday</th>\n",
       "      <th>christmas</th>\n",
       "      <th>not_school_holiday</th>\n",
       "      <th>school_holiday</th>\n",
       "      <th>...</th>\n",
       "      <th>friday</th>\n",
       "      <th>saturday</th>\n",
       "      <th>sunday</th>\n",
       "      <th>store_model_1</th>\n",
       "      <th>store_model_2</th>\n",
       "      <th>store_model_3</th>\n",
       "      <th>store_model_4</th>\n",
       "      <th>basic</th>\n",
       "      <th>extra</th>\n",
       "      <th>extended</th>\n",
       "    </tr>\n",
       "  </thead>\n",
       "  <tbody>\n",
       "    <tr>\n",
       "      <th>0</th>\n",
       "      <td>5854.450704</td>\n",
       "      <td>0.0</td>\n",
       "      <td>8.585039</td>\n",
       "      <td>1</td>\n",
       "      <td>407</td>\n",
       "      <td>0</td>\n",
       "      <td>0</td>\n",
       "      <td>0</td>\n",
       "      <td>0</td>\n",
       "      <td>1</td>\n",
       "      <td>...</td>\n",
       "      <td>0</td>\n",
       "      <td>0</td>\n",
       "      <td>0</td>\n",
       "      <td>0</td>\n",
       "      <td>0</td>\n",
       "      <td>0</td>\n",
       "      <td>1</td>\n",
       "      <td>0</td>\n",
       "      <td>0</td>\n",
       "      <td>1</td>\n",
       "    </tr>\n",
       "    <tr>\n",
       "      <th>1</th>\n",
       "      <td>5854.450704</td>\n",
       "      <td>0.0</td>\n",
       "      <td>8.585039</td>\n",
       "      <td>1</td>\n",
       "      <td>407</td>\n",
       "      <td>0</td>\n",
       "      <td>0</td>\n",
       "      <td>0</td>\n",
       "      <td>0</td>\n",
       "      <td>1</td>\n",
       "      <td>...</td>\n",
       "      <td>0</td>\n",
       "      <td>0</td>\n",
       "      <td>0</td>\n",
       "      <td>0</td>\n",
       "      <td>0</td>\n",
       "      <td>0</td>\n",
       "      <td>1</td>\n",
       "      <td>0</td>\n",
       "      <td>0</td>\n",
       "      <td>1</td>\n",
       "    </tr>\n",
       "    <tr>\n",
       "      <th>2</th>\n",
       "      <td>5854.450704</td>\n",
       "      <td>0.0</td>\n",
       "      <td>8.585039</td>\n",
       "      <td>1</td>\n",
       "      <td>407</td>\n",
       "      <td>0</td>\n",
       "      <td>0</td>\n",
       "      <td>0</td>\n",
       "      <td>0</td>\n",
       "      <td>1</td>\n",
       "      <td>...</td>\n",
       "      <td>1</td>\n",
       "      <td>0</td>\n",
       "      <td>0</td>\n",
       "      <td>0</td>\n",
       "      <td>0</td>\n",
       "      <td>0</td>\n",
       "      <td>1</td>\n",
       "      <td>0</td>\n",
       "      <td>0</td>\n",
       "      <td>1</td>\n",
       "    </tr>\n",
       "    <tr>\n",
       "      <th>3</th>\n",
       "      <td>5854.450704</td>\n",
       "      <td>0.0</td>\n",
       "      <td>8.585039</td>\n",
       "      <td>1</td>\n",
       "      <td>407</td>\n",
       "      <td>0</td>\n",
       "      <td>0</td>\n",
       "      <td>0</td>\n",
       "      <td>0</td>\n",
       "      <td>1</td>\n",
       "      <td>...</td>\n",
       "      <td>0</td>\n",
       "      <td>1</td>\n",
       "      <td>0</td>\n",
       "      <td>0</td>\n",
       "      <td>0</td>\n",
       "      <td>0</td>\n",
       "      <td>1</td>\n",
       "      <td>0</td>\n",
       "      <td>0</td>\n",
       "      <td>1</td>\n",
       "    </tr>\n",
       "    <tr>\n",
       "      <th>4</th>\n",
       "      <td>5854.450704</td>\n",
       "      <td>1.0</td>\n",
       "      <td>8.585039</td>\n",
       "      <td>1</td>\n",
       "      <td>407</td>\n",
       "      <td>0</td>\n",
       "      <td>0</td>\n",
       "      <td>0</td>\n",
       "      <td>0</td>\n",
       "      <td>1</td>\n",
       "      <td>...</td>\n",
       "      <td>0</td>\n",
       "      <td>0</td>\n",
       "      <td>0</td>\n",
       "      <td>0</td>\n",
       "      <td>0</td>\n",
       "      <td>0</td>\n",
       "      <td>1</td>\n",
       "      <td>0</td>\n",
       "      <td>0</td>\n",
       "      <td>1</td>\n",
       "    </tr>\n",
       "  </tbody>\n",
       "</table>\n",
       "<p>5 rows × 24 columns</p>\n",
       "</div>"
      ],
      "text/plain": [
       "   average_sales_per_store  Promo  CompetitionDistance  Promo2  \\\n",
       "0              5854.450704    0.0             8.585039       1   \n",
       "1              5854.450704    0.0             8.585039       1   \n",
       "2              5854.450704    0.0             8.585039       1   \n",
       "3              5854.450704    0.0             8.585039       1   \n",
       "4              5854.450704    1.0             8.585039       1   \n",
       "\n",
       "   average_customers_per_store  public_holiday  easter_holiday  christmas  \\\n",
       "0                          407               0               0          0   \n",
       "1                          407               0               0          0   \n",
       "2                          407               0               0          0   \n",
       "3                          407               0               0          0   \n",
       "4                          407               0               0          0   \n",
       "\n",
       "   not_school_holiday  school_holiday  ...  friday  saturday  sunday  \\\n",
       "0                   0               1  ...       0         0       0   \n",
       "1                   0               1  ...       0         0       0   \n",
       "2                   0               1  ...       1         0       0   \n",
       "3                   0               1  ...       0         1       0   \n",
       "4                   0               1  ...       0         0       0   \n",
       "\n",
       "   store_model_1  store_model_2  store_model_3  store_model_4  basic  extra  \\\n",
       "0              0              0              0              1      0      0   \n",
       "1              0              0              0              1      0      0   \n",
       "2              0              0              0              1      0      0   \n",
       "3              0              0              0              1      0      0   \n",
       "4              0              0              0              1      0      0   \n",
       "\n",
       "   extended  \n",
       "0         1  \n",
       "1         1  \n",
       "2         1  \n",
       "3         1  \n",
       "4         1  \n",
       "\n",
       "[5 rows x 24 columns]"
      ]
     },
     "execution_count": 63,
     "metadata": {},
     "output_type": "execute_result"
    }
   ],
   "source": [
    "X.head()"
   ]
  },
  {
   "cell_type": "code",
   "execution_count": 64,
   "id": "ebf3b404",
   "metadata": {},
   "outputs": [
    {
     "data": {
      "text/plain": [
       "(467981, 24)"
      ]
     },
     "execution_count": 64,
     "metadata": {},
     "output_type": "execute_result"
    }
   ],
   "source": [
    "X.shape"
   ]
  },
  {
   "cell_type": "code",
   "execution_count": 65,
   "id": "de180a5d",
   "metadata": {},
   "outputs": [
    {
     "data": {
      "text/plain": [
       "0    3697.0\n",
       "1    4297.0\n",
       "2    4540.0\n",
       "3    4771.0\n",
       "4    6905.0\n",
       "Name: Sales, dtype: float64"
      ]
     },
     "execution_count": 65,
     "metadata": {},
     "output_type": "execute_result"
    }
   ],
   "source": [
    "y.head()"
   ]
  },
  {
   "cell_type": "code",
   "execution_count": 66,
   "id": "6f14990a",
   "metadata": {},
   "outputs": [
    {
     "data": {
      "text/plain": [
       "(467981,)"
      ]
     },
     "execution_count": 66,
     "metadata": {},
     "output_type": "execute_result"
    }
   ],
   "source": [
    "y.shape"
   ]
  },
  {
   "cell_type": "code",
   "execution_count": 67,
   "id": "b4cde85f",
   "metadata": {},
   "outputs": [],
   "source": [
    "X_train, X_test, y_train, y_test = train_test_split(X, y, test_size=0.33, random_state=42)"
   ]
  },
  {
   "cell_type": "code",
   "execution_count": 68,
   "id": "f1c42a13",
   "metadata": {},
   "outputs": [
    {
     "data": {
      "text/html": [
       "<div>\n",
       "<style scoped>\n",
       "    .dataframe tbody tr th:only-of-type {\n",
       "        vertical-align: middle;\n",
       "    }\n",
       "\n",
       "    .dataframe tbody tr th {\n",
       "        vertical-align: top;\n",
       "    }\n",
       "\n",
       "    .dataframe thead th {\n",
       "        text-align: right;\n",
       "    }\n",
       "</style>\n",
       "<table border=\"1\" class=\"dataframe\">\n",
       "  <thead>\n",
       "    <tr style=\"text-align: right;\">\n",
       "      <th></th>\n",
       "      <th>average_sales_per_store</th>\n",
       "      <th>Promo</th>\n",
       "      <th>CompetitionDistance</th>\n",
       "      <th>Promo2</th>\n",
       "      <th>average_customers_per_store</th>\n",
       "      <th>public_holiday</th>\n",
       "      <th>easter_holiday</th>\n",
       "      <th>christmas</th>\n",
       "      <th>not_school_holiday</th>\n",
       "      <th>school_holiday</th>\n",
       "      <th>...</th>\n",
       "      <th>friday</th>\n",
       "      <th>saturday</th>\n",
       "      <th>sunday</th>\n",
       "      <th>store_model_1</th>\n",
       "      <th>store_model_2</th>\n",
       "      <th>store_model_3</th>\n",
       "      <th>store_model_4</th>\n",
       "      <th>basic</th>\n",
       "      <th>extra</th>\n",
       "      <th>extended</th>\n",
       "    </tr>\n",
       "  </thead>\n",
       "  <tbody>\n",
       "    <tr>\n",
       "      <th>136628</th>\n",
       "      <td>6703.245146</td>\n",
       "      <td>0.0</td>\n",
       "      <td>8.973478</td>\n",
       "      <td>1</td>\n",
       "      <td>600</td>\n",
       "      <td>0</td>\n",
       "      <td>0</td>\n",
       "      <td>0</td>\n",
       "      <td>1</td>\n",
       "      <td>0</td>\n",
       "      <td>...</td>\n",
       "      <td>0</td>\n",
       "      <td>0</td>\n",
       "      <td>0</td>\n",
       "      <td>0</td>\n",
       "      <td>0</td>\n",
       "      <td>0</td>\n",
       "      <td>1</td>\n",
       "      <td>0</td>\n",
       "      <td>0</td>\n",
       "      <td>1</td>\n",
       "    </tr>\n",
       "    <tr>\n",
       "      <th>351600</th>\n",
       "      <td>5887.997455</td>\n",
       "      <td>1.0</td>\n",
       "      <td>9.227296</td>\n",
       "      <td>0</td>\n",
       "      <td>502</td>\n",
       "      <td>0</td>\n",
       "      <td>0</td>\n",
       "      <td>0</td>\n",
       "      <td>1</td>\n",
       "      <td>0</td>\n",
       "      <td>...</td>\n",
       "      <td>0</td>\n",
       "      <td>0</td>\n",
       "      <td>0</td>\n",
       "      <td>0</td>\n",
       "      <td>0</td>\n",
       "      <td>0</td>\n",
       "      <td>1</td>\n",
       "      <td>1</td>\n",
       "      <td>0</td>\n",
       "      <td>0</td>\n",
       "    </tr>\n",
       "    <tr>\n",
       "      <th>268114</th>\n",
       "      <td>6022.065854</td>\n",
       "      <td>0.0</td>\n",
       "      <td>7.021976</td>\n",
       "      <td>1</td>\n",
       "      <td>654</td>\n",
       "      <td>0</td>\n",
       "      <td>0</td>\n",
       "      <td>0</td>\n",
       "      <td>1</td>\n",
       "      <td>0</td>\n",
       "      <td>...</td>\n",
       "      <td>0</td>\n",
       "      <td>1</td>\n",
       "      <td>0</td>\n",
       "      <td>0</td>\n",
       "      <td>0</td>\n",
       "      <td>0</td>\n",
       "      <td>1</td>\n",
       "      <td>1</td>\n",
       "      <td>0</td>\n",
       "      <td>0</td>\n",
       "    </tr>\n",
       "    <tr>\n",
       "      <th>61760</th>\n",
       "      <td>8127.694915</td>\n",
       "      <td>0.0</td>\n",
       "      <td>9.019301</td>\n",
       "      <td>0</td>\n",
       "      <td>857</td>\n",
       "      <td>0</td>\n",
       "      <td>0</td>\n",
       "      <td>0</td>\n",
       "      <td>1</td>\n",
       "      <td>0</td>\n",
       "      <td>...</td>\n",
       "      <td>0</td>\n",
       "      <td>0</td>\n",
       "      <td>0</td>\n",
       "      <td>1</td>\n",
       "      <td>0</td>\n",
       "      <td>0</td>\n",
       "      <td>0</td>\n",
       "      <td>0</td>\n",
       "      <td>0</td>\n",
       "      <td>1</td>\n",
       "    </tr>\n",
       "    <tr>\n",
       "      <th>230354</th>\n",
       "      <td>7293.839506</td>\n",
       "      <td>0.0</td>\n",
       "      <td>4.262680</td>\n",
       "      <td>0</td>\n",
       "      <td>1193</td>\n",
       "      <td>0</td>\n",
       "      <td>0</td>\n",
       "      <td>0</td>\n",
       "      <td>0</td>\n",
       "      <td>1</td>\n",
       "      <td>...</td>\n",
       "      <td>0</td>\n",
       "      <td>0</td>\n",
       "      <td>0</td>\n",
       "      <td>1</td>\n",
       "      <td>0</td>\n",
       "      <td>0</td>\n",
       "      <td>0</td>\n",
       "      <td>1</td>\n",
       "      <td>0</td>\n",
       "      <td>0</td>\n",
       "    </tr>\n",
       "  </tbody>\n",
       "</table>\n",
       "<p>5 rows × 24 columns</p>\n",
       "</div>"
      ],
      "text/plain": [
       "        average_sales_per_store  Promo  CompetitionDistance  Promo2  \\\n",
       "136628              6703.245146    0.0             8.973478       1   \n",
       "351600              5887.997455    1.0             9.227296       0   \n",
       "268114              6022.065854    0.0             7.021976       1   \n",
       "61760               8127.694915    0.0             9.019301       0   \n",
       "230354              7293.839506    0.0             4.262680       0   \n",
       "\n",
       "        average_customers_per_store  public_holiday  easter_holiday  \\\n",
       "136628                          600               0               0   \n",
       "351600                          502               0               0   \n",
       "268114                          654               0               0   \n",
       "61760                           857               0               0   \n",
       "230354                         1193               0               0   \n",
       "\n",
       "        christmas  not_school_holiday  school_holiday  ...  friday  saturday  \\\n",
       "136628          0                   1               0  ...       0         0   \n",
       "351600          0                   1               0  ...       0         0   \n",
       "268114          0                   1               0  ...       0         1   \n",
       "61760           0                   1               0  ...       0         0   \n",
       "230354          0                   0               1  ...       0         0   \n",
       "\n",
       "        sunday  store_model_1  store_model_2  store_model_3  store_model_4  \\\n",
       "136628       0              0              0              0              1   \n",
       "351600       0              0              0              0              1   \n",
       "268114       0              0              0              0              1   \n",
       "61760        0              1              0              0              0   \n",
       "230354       0              1              0              0              0   \n",
       "\n",
       "        basic  extra  extended  \n",
       "136628      0      0         1  \n",
       "351600      1      0         0  \n",
       "268114      1      0         0  \n",
       "61760       0      0         1  \n",
       "230354      1      0         0  \n",
       "\n",
       "[5 rows x 24 columns]"
      ]
     },
     "execution_count": 68,
     "metadata": {},
     "output_type": "execute_result"
    }
   ],
   "source": [
    "X_train.head()"
   ]
  },
  {
   "cell_type": "code",
   "execution_count": 69,
   "id": "a9b2370d",
   "metadata": {},
   "outputs": [
    {
     "data": {
      "text/html": [
       "<div>\n",
       "<style scoped>\n",
       "    .dataframe tbody tr th:only-of-type {\n",
       "        vertical-align: middle;\n",
       "    }\n",
       "\n",
       "    .dataframe tbody tr th {\n",
       "        vertical-align: top;\n",
       "    }\n",
       "\n",
       "    .dataframe thead th {\n",
       "        text-align: right;\n",
       "    }\n",
       "</style>\n",
       "<table border=\"1\" class=\"dataframe\">\n",
       "  <thead>\n",
       "    <tr style=\"text-align: right;\">\n",
       "      <th></th>\n",
       "      <th>average_sales_per_store</th>\n",
       "      <th>Promo</th>\n",
       "      <th>CompetitionDistance</th>\n",
       "      <th>Promo2</th>\n",
       "      <th>average_customers_per_store</th>\n",
       "      <th>public_holiday</th>\n",
       "      <th>easter_holiday</th>\n",
       "      <th>christmas</th>\n",
       "      <th>not_school_holiday</th>\n",
       "      <th>school_holiday</th>\n",
       "      <th>...</th>\n",
       "      <th>friday</th>\n",
       "      <th>saturday</th>\n",
       "      <th>sunday</th>\n",
       "      <th>store_model_1</th>\n",
       "      <th>store_model_2</th>\n",
       "      <th>store_model_3</th>\n",
       "      <th>store_model_4</th>\n",
       "      <th>basic</th>\n",
       "      <th>extra</th>\n",
       "      <th>extended</th>\n",
       "    </tr>\n",
       "  </thead>\n",
       "  <tbody>\n",
       "    <tr>\n",
       "      <th>413604</th>\n",
       "      <td>5475.119904</td>\n",
       "      <td>0.0</td>\n",
       "      <td>6.463029</td>\n",
       "      <td>0</td>\n",
       "      <td>718</td>\n",
       "      <td>0</td>\n",
       "      <td>0</td>\n",
       "      <td>0</td>\n",
       "      <td>0</td>\n",
       "      <td>1</td>\n",
       "      <td>...</td>\n",
       "      <td>0</td>\n",
       "      <td>0</td>\n",
       "      <td>0</td>\n",
       "      <td>1</td>\n",
       "      <td>0</td>\n",
       "      <td>0</td>\n",
       "      <td>0</td>\n",
       "      <td>0</td>\n",
       "      <td>0</td>\n",
       "      <td>1</td>\n",
       "    </tr>\n",
       "    <tr>\n",
       "      <th>200826</th>\n",
       "      <td>5939.849282</td>\n",
       "      <td>1.0</td>\n",
       "      <td>4.615121</td>\n",
       "      <td>1</td>\n",
       "      <td>832</td>\n",
       "      <td>0</td>\n",
       "      <td>0</td>\n",
       "      <td>0</td>\n",
       "      <td>1</td>\n",
       "      <td>0</td>\n",
       "      <td>...</td>\n",
       "      <td>0</td>\n",
       "      <td>0</td>\n",
       "      <td>0</td>\n",
       "      <td>1</td>\n",
       "      <td>0</td>\n",
       "      <td>0</td>\n",
       "      <td>0</td>\n",
       "      <td>0</td>\n",
       "      <td>0</td>\n",
       "      <td>1</td>\n",
       "    </tr>\n",
       "    <tr>\n",
       "      <th>319196</th>\n",
       "      <td>8953.006993</td>\n",
       "      <td>0.0</td>\n",
       "      <td>8.788898</td>\n",
       "      <td>0</td>\n",
       "      <td>775</td>\n",
       "      <td>0</td>\n",
       "      <td>0</td>\n",
       "      <td>0</td>\n",
       "      <td>1</td>\n",
       "      <td>0</td>\n",
       "      <td>...</td>\n",
       "      <td>0</td>\n",
       "      <td>0</td>\n",
       "      <td>0</td>\n",
       "      <td>0</td>\n",
       "      <td>0</td>\n",
       "      <td>0</td>\n",
       "      <td>1</td>\n",
       "      <td>1</td>\n",
       "      <td>0</td>\n",
       "      <td>0</td>\n",
       "    </tr>\n",
       "    <tr>\n",
       "      <th>460249</th>\n",
       "      <td>13491.671498</td>\n",
       "      <td>1.0</td>\n",
       "      <td>9.922849</td>\n",
       "      <td>0</td>\n",
       "      <td>1639</td>\n",
       "      <td>0</td>\n",
       "      <td>0</td>\n",
       "      <td>0</td>\n",
       "      <td>1</td>\n",
       "      <td>0</td>\n",
       "      <td>...</td>\n",
       "      <td>0</td>\n",
       "      <td>0</td>\n",
       "      <td>0</td>\n",
       "      <td>1</td>\n",
       "      <td>0</td>\n",
       "      <td>0</td>\n",
       "      <td>0</td>\n",
       "      <td>0</td>\n",
       "      <td>0</td>\n",
       "      <td>1</td>\n",
       "    </tr>\n",
       "    <tr>\n",
       "      <th>230336</th>\n",
       "      <td>7293.839506</td>\n",
       "      <td>0.0</td>\n",
       "      <td>4.262680</td>\n",
       "      <td>0</td>\n",
       "      <td>1193</td>\n",
       "      <td>0</td>\n",
       "      <td>0</td>\n",
       "      <td>0</td>\n",
       "      <td>1</td>\n",
       "      <td>0</td>\n",
       "      <td>...</td>\n",
       "      <td>1</td>\n",
       "      <td>0</td>\n",
       "      <td>0</td>\n",
       "      <td>1</td>\n",
       "      <td>0</td>\n",
       "      <td>0</td>\n",
       "      <td>0</td>\n",
       "      <td>1</td>\n",
       "      <td>0</td>\n",
       "      <td>0</td>\n",
       "    </tr>\n",
       "  </tbody>\n",
       "</table>\n",
       "<p>5 rows × 24 columns</p>\n",
       "</div>"
      ],
      "text/plain": [
       "        average_sales_per_store  Promo  CompetitionDistance  Promo2  \\\n",
       "413604              5475.119904    0.0             6.463029       0   \n",
       "200826              5939.849282    1.0             4.615121       1   \n",
       "319196              8953.006993    0.0             8.788898       0   \n",
       "460249             13491.671498    1.0             9.922849       0   \n",
       "230336              7293.839506    0.0             4.262680       0   \n",
       "\n",
       "        average_customers_per_store  public_holiday  easter_holiday  \\\n",
       "413604                          718               0               0   \n",
       "200826                          832               0               0   \n",
       "319196                          775               0               0   \n",
       "460249                         1639               0               0   \n",
       "230336                         1193               0               0   \n",
       "\n",
       "        christmas  not_school_holiday  school_holiday  ...  friday  saturday  \\\n",
       "413604          0                   0               1  ...       0         0   \n",
       "200826          0                   1               0  ...       0         0   \n",
       "319196          0                   1               0  ...       0         0   \n",
       "460249          0                   1               0  ...       0         0   \n",
       "230336          0                   1               0  ...       1         0   \n",
       "\n",
       "        sunday  store_model_1  store_model_2  store_model_3  store_model_4  \\\n",
       "413604       0              1              0              0              0   \n",
       "200826       0              1              0              0              0   \n",
       "319196       0              0              0              0              1   \n",
       "460249       0              1              0              0              0   \n",
       "230336       0              1              0              0              0   \n",
       "\n",
       "        basic  extra  extended  \n",
       "413604      0      0         1  \n",
       "200826      0      0         1  \n",
       "319196      1      0         0  \n",
       "460249      0      0         1  \n",
       "230336      1      0         0  \n",
       "\n",
       "[5 rows x 24 columns]"
      ]
     },
     "execution_count": 69,
     "metadata": {},
     "output_type": "execute_result"
    }
   ],
   "source": [
    "X_test.head()"
   ]
  },
  {
   "cell_type": "code",
   "execution_count": 70,
   "id": "45c3e0d1",
   "metadata": {},
   "outputs": [
    {
     "data": {
      "text/plain": [
       "136628    5196.0\n",
       "351600    6966.0\n",
       "268114    5035.0\n",
       "61760     7210.0\n",
       "230354    4856.0\n",
       "Name: Sales, dtype: float64"
      ]
     },
     "execution_count": 70,
     "metadata": {},
     "output_type": "execute_result"
    }
   ],
   "source": [
    "y_train.head()"
   ]
  },
  {
   "cell_type": "code",
   "execution_count": 71,
   "id": "64175186",
   "metadata": {},
   "outputs": [
    {
     "data": {
      "text/plain": [
       "413604     5508.0\n",
       "200826     7807.0\n",
       "319196     6780.0\n",
       "460249    18486.0\n",
       "230336     8693.0\n",
       "Name: Sales, dtype: float64"
      ]
     },
     "execution_count": 71,
     "metadata": {},
     "output_type": "execute_result"
    }
   ],
   "source": [
    "y_test.head()"
   ]
  },
  {
   "cell_type": "markdown",
   "id": "7742f7bb",
   "metadata": {},
   "source": [
    "### 5.1) Check Linear Correlations in the Features"
   ]
  },
  {
   "cell_type": "code",
   "execution_count": 72,
   "id": "4241a3f8",
   "metadata": {},
   "outputs": [
    {
     "data": {
      "image/png": "[encoded data removed]",
      "text/plain": [
       "<Figure size 1440x1080 with 2 Axes>"
      ]
     },
     "metadata": {},
     "output_type": "display_data"
    }
   ],
   "source": [
    "# Use a heatmap to check for linear correlations in the x variables\n",
    "import seaborn as sns; sns.set_theme()\n",
    "plt.subplots(figsize=(20,15))\n",
    "ax = sns.heatmap(df_full_cleaned.corr())"
   ]
  },
  {
   "cell_type": "markdown",
   "id": "ac04618b",
   "metadata": {},
   "source": [
    "## 6) Select Model Features"
   ]
  },
  {
   "cell_type": "code",
   "execution_count": null,
   "id": "d34c66ef",
   "metadata": {},
   "outputs": [],
   "source": []
  },
  {
   "cell_type": "markdown",
   "id": "eec399b9",
   "metadata": {},
   "source": [
    "***"
   ]
  },
  {
   "cell_type": "markdown",
   "id": "81011b41",
   "metadata": {},
   "source": [
    "Data should be model ready by now"
   ]
  },
  {
   "cell_type": "markdown",
   "id": "7eea6e23",
   "metadata": {},
   "source": [
    "***"
   ]
  },
  {
   "cell_type": "markdown",
   "id": "6fecc43f",
   "metadata": {},
   "source": [
    "## 8) Kfolds Cross Validation "
   ]
  },
  {
   "cell_type": "code",
   "execution_count": null,
   "id": "ad552d0f",
   "metadata": {},
   "outputs": [],
   "source": []
  },
  {
   "cell_type": "markdown",
   "id": "6da5bbd9",
   "metadata": {},
   "source": [
    "## 9) Build Models"
   ]
  },
  {
   "cell_type": "markdown",
   "id": "3e2fe50f",
   "metadata": {},
   "source": [
    "### 9.1) Baseline - Mean and Median of Sales"
   ]
  },
  {
   "cell_type": "markdown",
   "id": "ccc57c70",
   "metadata": {},
   "source": [
    "#### 9.1.1) Mean prediction "
   ]
  },
  {
   "cell_type": "code",
   "execution_count": 73,
   "id": "02782311",
   "metadata": {},
   "outputs": [
    {
     "data": {
      "text/plain": [
       "136628    5196.0\n",
       "351600    6966.0\n",
       "268114    5035.0\n",
       "61760     7210.0\n",
       "230354    4856.0\n",
       "           ...  \n",
       "259178    8865.0\n",
       "365838    5186.0\n",
       "131932    6456.0\n",
       "146867    8678.0\n",
       "121958    7249.0\n",
       "Name: Sales, Length: 313547, dtype: float64"
      ]
     },
     "execution_count": 73,
     "metadata": {},
     "output_type": "execute_result"
    }
   ],
   "source": [
    "y_train"
   ]
  },
  {
   "cell_type": "code",
   "execution_count": 74,
   "id": "28c7bbf1",
   "metadata": {},
   "outputs": [],
   "source": [
    "# broadcast the mean predictions \n",
    "mean_predictions = [y_train.mean()]\n",
    "mean_predictions = np.array(mean_predictions * y_test.shape[0])"
   ]
  },
  {
   "cell_type": "code",
   "execution_count": 75,
   "id": "f19a0356",
   "metadata": {},
   "outputs": [
    {
     "data": {
      "text/plain": [
       "<module 'numpy' from '/Users/grahamherdman/opt/anaconda3/lib/python3.8/site-packages/numpy/__init__.py'>"
      ]
     },
     "execution_count": 75,
     "metadata": {},
     "output_type": "execute_result"
    }
   ],
   "source": [
    "np"
   ]
  },
  {
   "cell_type": "code",
   "execution_count": 76,
   "id": "d5d68b17",
   "metadata": {},
   "outputs": [
    {
     "name": "stdout",
     "output_type": "stream",
     "text": [
      "The prediction for Mean Regressor is: 62.66%\n"
     ]
    }
   ],
   "source": [
    "pretty_metric(mean_predictions, y_test.to_numpy(), \"Mean Regressor\")"
   ]
  },
  {
   "cell_type": "markdown",
   "id": "1e2cbe10",
   "metadata": {},
   "source": [
    "### 9.2) Linear Regression"
   ]
  },
  {
   "cell_type": "code",
   "execution_count": 77,
   "id": "ac1de7a3",
   "metadata": {},
   "outputs": [],
   "source": [
    "regressor = LinearRegression().fit(X_train, y_train)"
   ]
  },
  {
   "cell_type": "code",
   "execution_count": 78,
   "id": "60ef7e45",
   "metadata": {},
   "outputs": [],
   "source": [
    "linear_regression_predictions = regressor.predict(X_test)"
   ]
  },
  {
   "cell_type": "code",
   "execution_count": 79,
   "id": "fa31730c",
   "metadata": {},
   "outputs": [
    {
     "name": "stdout",
     "output_type": "stream",
     "text": [
      "The prediction for Linear Regressor is: 33.6%\n"
     ]
    }
   ],
   "source": [
    "pretty_metric(linear_regression_predictions, y_test.to_numpy(), \"Linear Regressor\")"
   ]
  },
  {
   "cell_type": "markdown",
   "id": "3c868bfd",
   "metadata": {},
   "source": [
    "### 9.3) Random Forest "
   ]
  },
  {
   "cell_type": "code",
   "execution_count": 80,
   "id": "0b1a3e9b",
   "metadata": {},
   "outputs": [],
   "source": [
    "regressor_random_forest = RandomForestRegressor(n_estimators=40, min_samples_leaf=2, max_features=0.99, n_jobs=-1,oob_score=True)\n",
    "regressor_random_forest.fit(X_train, y_train)\n",
    "random_forest_predictions = regressor_random_forest.predict(X_test)"
   ]
  },
  {
   "cell_type": "code",
   "execution_count": 81,
   "id": "e17051d9",
   "metadata": {},
   "outputs": [
    {
     "name": "stdout",
     "output_type": "stream",
     "text": [
      "The prediction for Random Forest is: 27.48%\n"
     ]
    }
   ],
   "source": [
    "pretty_metric(random_forest_predictions, y_test.to_numpy(), \"Random Forest\")"
   ]
  },
  {
   "cell_type": "markdown",
   "id": "4ef2239f",
   "metadata": {},
   "source": [
    "#### 9.3.1) What Features did Random Forest use?"
   ]
  },
  {
   "cell_type": "code",
   "execution_count": null,
   "id": "b8ecc62c",
   "metadata": {},
   "outputs": [],
   "source": []
  },
  {
   "cell_type": "markdown",
   "id": "21d56b2f",
   "metadata": {},
   "source": [
    "### 9.4) Xgboost "
   ]
  },
  {
   "cell_type": "code",
   "execution_count": 82,
   "id": "cff3053b",
   "metadata": {},
   "outputs": [],
   "source": [
    "regressor_xgboost = XGBRegressor(n_estimators=1000, max_depth=7, eta=0.1, subsample=0.7, colsample_bytree=0.8)\n",
    "regressor_xgboost.fit(X_train, y_train)\n",
    "xgboost_predictions = regressor_xgboost.predict(X_test)"
   ]
  },
  {
   "cell_type": "code",
   "execution_count": 83,
   "id": "fcb77bdd",
   "metadata": {},
   "outputs": [
    {
     "name": "stdout",
     "output_type": "stream",
     "text": [
      "The prediction for XGBoost is: 27.77%\n"
     ]
    }
   ],
   "source": [
    "pretty_metric(xgboost_predictions, y_test.to_numpy(), \"XGBoost\")"
   ]
  },
  {
   "cell_type": "markdown",
   "id": "44887b97",
   "metadata": {},
   "source": [
    "#### 9.4.1) What Features did Xgboost use?"
   ]
  },
  {
   "cell_type": "code",
   "execution_count": null,
   "id": "2b0bb441",
   "metadata": {},
   "outputs": [],
   "source": []
  },
  {
   "cell_type": "markdown",
   "id": "86ba86fb",
   "metadata": {},
   "source": [
    "## 10) Hyper parameter tuning "
   ]
  },
  {
   "cell_type": "code",
   "execution_count": null,
   "id": "85d1e6c8",
   "metadata": {},
   "outputs": [],
   "source": []
  },
  {
   "cell_type": "markdown",
   "id": "e2b59f5e",
   "metadata": {},
   "source": [
    "### 10.1) Random Hyperparameter Grid"
   ]
  },
  {
   "cell_type": "code",
   "execution_count": 1,
   "id": "f79db5d7",
   "metadata": {},
   "outputs": [],
   "source": [
    "from sklearn.model_selection import RandomizedSearchCV"
   ]
  },
  {
   "cell_type": "code",
   "execution_count": null,
   "id": "6c2ccc54",
   "metadata": {},
   "outputs": [],
   "source": []
  },
  {
   "cell_type": "code",
   "execution_count": null,
   "id": "ad22b413",
   "metadata": {},
   "outputs": [],
   "source": []
  }
 ],
 "metadata": {
  "kernelspec": {
   "display_name": "Python 3",
   "language": "python",
   "name": "python3"
  },
  "language_info": {
   "codemirror_mode": {
    "name": "ipython",
    "version": 3
   },
   "file_extension": ".py",
   "mimetype": "text/x-python",
   "name": "python",
   "nbconvert_exporter": "python",
   "pygments_lexer": "ipython3",
   "version": "3.8.8"
  }
 },
 "nbformat": 4,
 "nbformat_minor": 5
}

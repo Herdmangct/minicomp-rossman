{
 "cells": [
  {
   "cell_type": "markdown",
   "id": "d3ccda0d-f8b1-47d8-b1aa-89397d918d41",
   "metadata": {},
   "source": [
    "# One Click Production Model"
   ]
  },
  {
   "cell_type": "code",
   "execution_count": 1,
   "id": "cbde9e1e-5558-499d-94ee-2cc4164c82ab",
   "metadata": {},
   "outputs": [
    {
     "name": "stdout",
     "output_type": "stream",
     "text": [
      "The RMSPE for the Mean Regressor model was 61.66%\n",
      "The RMSPE for the Linear Regression model was 29.15%\n",
      "The RMSPE for the Random Forest model was 20.57%\n",
      "The RMSPE for the XGBoost model was 21.47%\n"
     ]
    }
   ],
   "source": [
    "import model as m\n",
    "test_data_path = './data/train.csv' # replace this with test data\n",
    "m.build_models_and_print_results(test_data_path=test_data_path)"
   ]
  },
  {
   "cell_type": "code",
   "execution_count": null,
   "id": "878c7c4c-c415-4dcc-9b4c-d3426061b601",
   "metadata": {},
   "outputs": [],
   "source": []
  }
 ],
 "metadata": {
  "kernelspec": {
   "display_name": "Python 3",
   "language": "python",
   "name": "python3"
  },
  "language_info": {
   "codemirror_mode": {
    "name": "ipython",
    "version": 3
   },
   "file_extension": ".py",
   "mimetype": "text/x-python",
   "name": "python",
   "nbconvert_exporter": "python",
   "pygments_lexer": "ipython3",
   "version": "3.8.8"
  }
 },
 "nbformat": 4,
 "nbformat_minor": 5
}

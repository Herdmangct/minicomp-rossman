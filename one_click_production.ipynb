{
 "cells": [
  {
   "cell_type": "markdown",
   "id": "d3ccda0d-f8b1-47d8-b1aa-89397d918d41",
   "metadata": {},
   "source": [
    "# One Click Production Model"
   ]
  },
  {
   "cell_type": "code",
   "execution_count": 1,
   "id": "cbde9e1e-5558-499d-94ee-2cc4164c82ab",
   "metadata": {},
   "outputs": [
    {
     "name": "stdout",
     "output_type": "stream",
     "text": [
      "INSTALLING THE REQUIRED PACKAGES\n",
      "Requirement already satisfied: pandas==1.1.4 in /Users/grahamherdman/opt/anaconda3/envs/rossman/lib/python3.8/site-packages (from -r requirements.txt (line 1)) (1.1.4)\n",
      "Requirement already satisfied: numpy==1.18.1 in /Users/grahamherdman/opt/anaconda3/envs/rossman/lib/python3.8/site-packages (from -r requirements.txt (line 2)) (1.18.1)\n",
      "Requirement already satisfied: scikit-learn==0.23.1 in /Users/grahamherdman/opt/anaconda3/envs/rossman/lib/python3.8/site-packages (from -r requirements.txt (line 3)) (0.23.1)\n",
      "Requirement already satisfied: xgboost==1.4.2 in /Users/grahamherdman/opt/anaconda3/envs/rossman/lib/python3.8/site-packages (from -r requirements.txt (line 4)) (1.4.2)\n",
      "Requirement already satisfied: python-dateutil>=2.7.3 in /Users/grahamherdman/opt/anaconda3/envs/rossman/lib/python3.8/site-packages (from pandas==1.1.4->-r requirements.txt (line 1)) (2.8.2)\n",
      "Requirement already satisfied: pytz>=2017.2 in /Users/grahamherdman/opt/anaconda3/envs/rossman/lib/python3.8/site-packages (from pandas==1.1.4->-r requirements.txt (line 1)) (2021.3)\n",
      "Requirement already satisfied: threadpoolctl>=2.0.0 in /Users/grahamherdman/opt/anaconda3/envs/rossman/lib/python3.8/site-packages (from scikit-learn==0.23.1->-r requirements.txt (line 3)) (3.1.0)\n",
      "Requirement already satisfied: scipy>=0.19.1 in /Users/grahamherdman/opt/anaconda3/envs/rossman/lib/python3.8/site-packages (from scikit-learn==0.23.1->-r requirements.txt (line 3)) (1.8.0)\n",
      "Requirement already satisfied: joblib>=0.11 in /Users/grahamherdman/opt/anaconda3/envs/rossman/lib/python3.8/site-packages (from scikit-learn==0.23.1->-r requirements.txt (line 3)) (1.1.0)\n",
      "Requirement already satisfied: six>=1.5 in /Users/grahamherdman/opt/anaconda3/envs/rossman/lib/python3.8/site-packages (from python-dateutil>=2.7.3->pandas==1.1.4->-r requirements.txt (line 1)) (1.16.0)\n",
      "\n"
     ]
    }
   ],
   "source": [
    "import model as m\n",
    "test_data_path = './data/train.csv' # replace this with test data\n",
    "# m.build_models_and_print_results(test_data_path=test_data_path)"
   ]
  },
  {
   "cell_type": "code",
   "execution_count": 2,
   "id": "878c7c4c-c415-4dcc-9b4c-d3426061b601",
   "metadata": {},
   "outputs": [
    {
     "name": "stdout",
     "output_type": "stream",
     "text": [
      "UNZIPPING THE DATA\n",
      "Unzipping the training data\n"
     ]
    },
    {
     "name": "stderr",
     "output_type": "stream",
     "text": [
      "sys:1: DtypeWarning: Columns (7) have mixed types.Specify dtype option on import or set low_memory=False.\n"
     ]
    },
    {
     "name": "stdout",
     "output_type": "stream",
     "text": [
      "missing vals before 0\n",
      "missing vals after 153407\n",
      "\n",
      "Unzipping the test data\n"
     ]
    },
    {
     "name": "stderr",
     "output_type": "stream",
     "text": [
      "sys:1: DtypeWarning: Columns (7) have mixed types.Specify dtype option on import or set low_memory=False.\n"
     ]
    },
    {
     "name": "stdout",
     "output_type": "stream",
     "text": [
      "missing vals before 0\n",
      "missing vals after 153407\n",
      "\n",
      "LOAD THE DATASETS\n",
      "Loading train dataset\n",
      "Loading test dataset\n"
     ]
    }
   ],
   "source": [
    "print('UNZIPPING THE DATA')\n",
    "print('Unzipping the training data')\n",
    "os.system('python data.py')\n",
    "\n",
    "print('Unzipping the test data')\n",
    "os.system('python data.py --test 1')\n",
    "\n",
    "# LOAD DATA\n",
    "# globals\n",
    "store_data_path='./data/store.csv'\n",
    "train_data_path='./data/train.csv'\n",
    "\n",
    "# load the train dataset\n",
    "print(\"LOAD THE DATASETS\")\n",
    "print(\"Loading train dataset\")\n",
    "X_train, y_train = m.get_x_and_y_datasets(store_data_path=store_data_path, data_path=train_data_path)\n",
    "\n",
    "# load the test dataset\n",
    "print(\"Loading test dataset\")\n",
    "X_test, y_test = m.get_x_and_y_datasets(store_data_path=store_data_path, data_path=test_data_path)\n"
   ]
  },
  {
   "cell_type": "code",
   "execution_count": 6,
   "id": "7cccdf6b",
   "metadata": {},
   "outputs": [
    {
     "name": "stdout",
     "output_type": "stream",
     "text": [
      "\n",
      "BUILDING MODELS\n",
      "Training the Linear Regression model\n",
      "Training the Random Forest model\n"
     ]
    },
    {
     "ename": "TypeError",
     "evalue": "build_random_forest_model() missing 2 required positional arguments: 'X_test' and 'y_test'",
     "output_type": "error",
     "traceback": [
      "\u001b[0;31m---------------------------------------------------------------------------\u001b[0m",
      "\u001b[0;31mTypeError\u001b[0m                                 Traceback (most recent call last)",
      "Input \u001b[0;32mIn [6]\u001b[0m, in \u001b[0;36m<module>\u001b[0;34m\u001b[0m\n\u001b[0;32m----> 1\u001b[0m \u001b[43mm\u001b[49m\u001b[38;5;241;43m.\u001b[39;49m\u001b[43mbuild_models\u001b[49m\u001b[43m(\u001b[49m\u001b[43mX_train\u001b[49m\u001b[43m,\u001b[49m\u001b[43m \u001b[49m\u001b[43my_train\u001b[49m\u001b[43m)\u001b[49m\n\u001b[1;32m      3\u001b[0m results \u001b[38;5;241m=\u001b[39m m\u001b[38;5;241m.\u001b[39mget_results(X_test, y_test, y_train)\n",
      "File \u001b[0;32m~/Documents/job-hunt/2022/pheonix-hsl/minicomp-rossman/model.py:267\u001b[0m, in \u001b[0;36mbuild_models\u001b[0;34m(X_train, y_train)\u001b[0m\n\u001b[1;32m    264\u001b[0m linear_regression_model \u001b[38;5;241m=\u001b[39m build_linear_regression_model(X_train, y_train)\n\u001b[1;32m    266\u001b[0m \u001b[38;5;28mprint\u001b[39m(\u001b[38;5;124m\"\u001b[39m\u001b[38;5;124mTraining the Random Forest model\u001b[39m\u001b[38;5;124m\"\u001b[39m)\n\u001b[0;32m--> 267\u001b[0m random_forest_model \u001b[38;5;241m=\u001b[39m \u001b[43mbuild_random_forest_model\u001b[49m\u001b[43m(\u001b[49m\u001b[43mX_train\u001b[49m\u001b[43m,\u001b[49m\u001b[43m \u001b[49m\u001b[43my_train\u001b[49m\u001b[43m)\u001b[49m\n\u001b[1;32m    269\u001b[0m \u001b[38;5;28mprint\u001b[39m(\u001b[38;5;124m\"\u001b[39m\u001b[38;5;124mTraining the XGBoost model\u001b[39m\u001b[38;5;124m\"\u001b[39m)\n\u001b[1;32m    270\u001b[0m xgboost_model \u001b[38;5;241m=\u001b[39m build_xgboost_model(X_train, y_train)\n",
      "\u001b[0;31mTypeError\u001b[0m: build_random_forest_model() missing 2 required positional arguments: 'X_test' and 'y_test'"
     ]
    }
   ],
   "source": [
    "m.build_models(X_train, y_train)\n",
    "\n",
    "results = m.get_results(X_test, y_test, y_train)"
   ]
  },
  {
   "cell_type": "code",
   "execution_count": 4,
   "id": "323c9e9b",
   "metadata": {},
   "outputs": [
    {
     "data": {
      "text/plain": [
       "29.152883922263797"
      ]
     },
     "execution_count": 4,
     "metadata": {},
     "output_type": "execute_result"
    }
   ],
   "source": []
  },
  {
   "cell_type": "code",
   "execution_count": null,
   "id": "0721bc64",
   "metadata": {},
   "outputs": [],
   "source": []
  }
 ],
 "metadata": {
  "interpreter": {
   "hash": "0bd2755ee12f21d631d3c42950b5771c41739cb46ce4e547210d7c4ebfb307d4"
  },
  "kernelspec": {
   "display_name": "Python 3.8.12 64-bit ('rossman': conda)",
   "name": "python3"
  },
  "language_info": {
   "codemirror_mode": {
    "name": "ipython",
    "version": 3
   },
   "file_extension": ".py",
   "mimetype": "text/x-python",
   "name": "python",
   "nbconvert_exporter": "python",
   "pygments_lexer": "ipython3",
   "version": "3.8.12"
  }
 },
 "nbformat": 4,
 "nbformat_minor": 5
}
